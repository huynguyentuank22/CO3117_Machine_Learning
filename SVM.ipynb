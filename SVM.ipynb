{
 "cells": [
  {
   "cell_type": "code",
   "execution_count": 37,
   "id": "4e170df2",
   "metadata": {
    "execution": {
     "iopub.execute_input": "2025-04-21T14:11:38.514466Z",
     "iopub.status.busy": "2025-04-21T14:11:38.514006Z",
     "iopub.status.idle": "2025-04-21T14:11:45.973666Z",
     "shell.execute_reply": "2025-04-21T14:11:45.972718Z",
     "shell.execute_reply.started": "2025-04-21T14:11:38.514432Z"
    },
    "trusted": true
   },
   "outputs": [],
   "source": [
    "import pandas as pd\n",
    "import numpy as np\n",
    "from pyvi import ViTokenizer\n",
    "from sklearn.feature_extraction.text import TfidfVectorizer\n",
    "from sklearn.svm import SVC\n",
    "from sklearn.metrics import classification_report, accuracy_score\n",
    "from sklearn.model_selection import train_test_split, StratifiedKFold, GridSearchCV"
   ]
  },
  {
   "cell_type": "code",
   "execution_count": 38,
   "id": "c9d511fa",
   "metadata": {
    "execution": {
     "iopub.execute_input": "2025-04-21T14:11:45.976365Z",
     "iopub.status.busy": "2025-04-21T14:11:45.975814Z",
     "iopub.status.idle": "2025-04-21T14:11:46.765262Z",
     "shell.execute_reply": "2025-04-21T14:11:46.764161Z",
     "shell.execute_reply.started": "2025-04-21T14:11:45.976338Z"
    },
    "trusted": true
   },
   "outputs": [],
   "source": [
    "train_df = pd.read_csv(r'./cleaned_data/train.csv', quotechar='\"', encoding='utf-8')\n",
    "valid_df = pd.read_csv(r'./cleaned_data/valid.csv', quotechar='\"', encoding='utf-8')\n",
    "test_df = pd.read_csv(r'./cleaned_data/test.csv', quotechar='\"', encoding='utf-8')"
   ]
  },
  {
   "cell_type": "code",
   "execution_count": 39,
   "id": "fa15d137",
   "metadata": {
    "execution": {
     "iopub.execute_input": "2025-04-21T14:11:46.766429Z",
     "iopub.status.busy": "2025-04-21T14:11:46.766070Z",
     "iopub.status.idle": "2025-04-21T14:11:46.780031Z",
     "shell.execute_reply": "2025-04-21T14:11:46.778953Z",
     "shell.execute_reply.started": "2025-04-21T14:11:46.766396Z"
    },
    "trusted": true
   },
   "outputs": [],
   "source": [
    "df = pd.concat([train_df, valid_df, test_df], ignore_index=True)\n",
    "sentences = df['sentence'].values\n",
    "labels = df['label'].values"
   ]
  },
  {
   "cell_type": "code",
   "execution_count": 40,
   "id": "7e0838b2",
   "metadata": {
    "execution": {
     "iopub.execute_input": "2025-04-21T14:11:46.782973Z",
     "iopub.status.busy": "2025-04-21T14:11:46.782595Z",
     "iopub.status.idle": "2025-04-21T14:11:46.799367Z",
     "shell.execute_reply": "2025-04-21T14:11:46.798168Z",
     "shell.execute_reply.started": "2025-04-21T14:11:46.782947Z"
    },
    "trusted": true
   },
   "outputs": [],
   "source": [
    "def tokenize_vietnamese(text):\n",
    "    return ' '.join(ViTokenizer.tokenize(text).split())"
   ]
  },
  {
   "cell_type": "code",
   "execution_count": 41,
   "id": "8b81ddc3",
   "metadata": {
    "execution": {
     "iopub.execute_input": "2025-04-21T14:11:46.801296Z",
     "iopub.status.busy": "2025-04-21T14:11:46.800665Z",
     "iopub.status.idle": "2025-04-21T14:13:19.273312Z",
     "shell.execute_reply": "2025-04-21T14:13:19.272082Z",
     "shell.execute_reply.started": "2025-04-21T14:11:46.801248Z"
    },
    "trusted": true
   },
   "outputs": [],
   "source": [
    "tokenized_sentences = [tokenize_vietnamese(sentence) for sentence in sentences]\n",
    "\n",
    "tfidf_vectorizer = TfidfVectorizer(max_features=500)\n",
    "X = tfidf_vectorizer.fit_transform(tokenized_sentences).toarray()"
   ]
  },
  {
   "cell_type": "code",
   "execution_count": 42,
   "id": "ba07cf60",
   "metadata": {
    "execution": {
     "iopub.execute_input": "2025-04-21T14:13:19.274690Z",
     "iopub.status.busy": "2025-04-21T14:13:19.274363Z",
     "iopub.status.idle": "2025-04-21T14:13:19.369390Z",
     "shell.execute_reply": "2025-04-21T14:13:19.368197Z",
     "shell.execute_reply.started": "2025-04-21T14:13:19.274661Z"
    },
    "trusted": true
   },
   "outputs": [],
   "source": [
    "X_train, X_test, y_train, y_test = train_test_split(X, labels, test_size=0.2, random_state=42)"
   ]
  },
  {
   "cell_type": "code",
   "execution_count": 43,
   "id": "fded36ea",
   "metadata": {
    "execution": {
     "iopub.execute_input": "2025-04-21T14:13:19.418177Z",
     "iopub.status.busy": "2025-04-21T14:13:19.417795Z",
     "iopub.status.idle": "2025-04-21T14:20:41.296304Z",
     "shell.execute_reply": "2025-04-21T14:20:41.295218Z",
     "shell.execute_reply.started": "2025-04-21T14:13:19.418107Z"
    },
    "trusted": true
   },
   "outputs": [
    {
     "name": "stdout",
     "output_type": "stream",
     "text": [
      "\n",
      "Test Accuracy: 0.8698063735377168\n",
      "\n",
      "Classification Report:\n",
      "               precision    recall  f1-score   support\n",
      "\n",
      "           0       0.88      0.86      0.87      4993\n",
      "           1       0.86      0.88      0.87      4923\n",
      "\n",
      "    accuracy                           0.87      9916\n",
      "   macro avg       0.87      0.87      0.87      9916\n",
      "weighted avg       0.87      0.87      0.87      9916\n",
      "\n"
     ]
    }
   ],
   "source": [
    "best_model = SVC(C=1, kernel='linear', gamma='scale', random_state=42)\n",
    "best_model.fit(X_train, y_train)\n",
    "\n",
    "y_pred = best_model.predict(X_test)\n",
    "print(\"\\nTest Accuracy:\", accuracy_score(y_test, y_pred))\n",
    "print(\"\\nClassification Report:\\n\", classification_report(y_test, y_pred))"
   ]
  },
  {
   "cell_type": "code",
   "execution_count": 44,
   "id": "a3e093c4",
   "metadata": {
    "execution": {
     "iopub.execute_input": "2025-04-21T14:20:41.297651Z",
     "iopub.status.busy": "2025-04-21T14:20:41.297383Z",
     "iopub.status.idle": "2025-04-21T14:20:41.313756Z",
     "shell.execute_reply": "2025-04-21T14:20:41.312319Z",
     "shell.execute_reply.started": "2025-04-21T14:20:41.297628Z"
    },
    "trusted": true
   },
   "outputs": [
    {
     "name": "stdout",
     "output_type": "stream",
     "text": [
      "\n",
      "Sentiment of new sentence: 1\n"
     ]
    }
   ],
   "source": [
    "def predict_sentiment(sentence, vectorizer, model):\n",
    "    tokenized = tokenize_vietnamese(sentence)\n",
    "    vector = vectorizer.transform([tokenized]).toarray()\n",
    "    prediction = model.predict(vector)\n",
    "    return prediction[0]\n",
    "\n",
    "# Ví dụ dự đoán một câu\n",
    "new_sentence = \"Sản phẩm này rất tốt và dễ sử dụng!\"\n",
    "print(\"\\nSentiment of new sentence:\", predict_sentiment(new_sentence, tfidf_vectorizer, best_model))"
   ]
  }
 ],
 "metadata": {
  "kaggle": {
   "accelerator": "none",
   "dataSources": [
    {
     "datasetId": 7209281,
     "sourceId": 11499699,
     "sourceType": "datasetVersion"
    }
   ],
   "dockerImageVersionId": 31012,
   "isGpuEnabled": false,
   "isInternetEnabled": true,
   "language": "python",
   "sourceType": "notebook"
  },
  "kernelspec": {
   "display_name": "Python 3",
   "language": "python",
   "name": "python3"
  },
  "language_info": {
   "codemirror_mode": {
    "name": "ipython",
    "version": 3
   },
   "file_extension": ".py",
   "mimetype": "text/x-python",
   "name": "python",
   "nbconvert_exporter": "python",
   "pygments_lexer": "ipython3",
   "version": "3.11.11"
  }
 },
 "nbformat": 4,
 "nbformat_minor": 5
}
