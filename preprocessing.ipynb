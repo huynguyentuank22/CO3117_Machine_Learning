{
 "cells": [
  {
   "cell_type": "markdown",
   "id": "0dac86bf",
   "metadata": {},
   "source": [
    "# **Preprocesing**"
   ]
  },
  {
   "cell_type": "code",
   "execution_count": null,
   "id": "6a9494ec",
   "metadata": {},
   "outputs": [],
   "source": [
    "import os\n",
    "import pandas as pd\n",
    "import numpy as np\n",
    "import matplotlib.pyplot as plt\n",
    "import seaborn as sns\n",
    "from langdetect import detect\n",
    "from langid.langid import LanguageIdentifier, model\n",
    "import re\n",
    "import emoji\n",
    "from pyvi import ViTokenizer"
   ]
  },
  {
   "cell_type": "markdown",
   "id": "d6efbf72",
   "metadata": {},
   "source": [
    "## **Convert raw data to dataframe**"
   ]
  },
  {
   "cell_type": "code",
   "execution_count": 2,
   "id": "58b15a65",
   "metadata": {},
   "outputs": [],
   "source": [
    "def load_data_from_path(folder_path):\n",
    "    examples = []\n",
    "    for label in os.listdir(folder_path):\n",
    "        full_path = os.path.join(folder_path, label)\n",
    "        for file_name in os.listdir(full_path):\n",
    "            file_path = os.path.join(full_path, file_name)\n",
    "            with open(file_path, \"r\", encoding=\"utf-8\") as f:\n",
    "                lines = f.readlines()\n",
    "            sentence = \" \".join(lines)\n",
    "            if label == \"neg\":\n",
    "                label = 0\n",
    "            if label == \"pos\":\n",
    "                label = 1\n",
    "            data = {\n",
    "                'sentence': sentence,\n",
    "                'label': label\n",
    "            }\n",
    "            examples.append(data)\n",
    "    return pd.DataFrame(examples)   "
   ]
  },
  {
   "cell_type": "code",
   "execution_count": 20,
   "id": "b8dcba0d",
   "metadata": {},
   "outputs": [],
   "source": [
    "folder_paths = {\n",
    "    'train': r'./data/train',\n",
    "    'valid': r'./data/val',\n",
    "    'test': r'./data/test'\n",
    "}\n",
    "\n",
    "train_df = load_data_from_path(folder_paths['train'])\n",
    "valid_df = load_data_from_path(folder_paths['valid'])\n",
    "test_df = load_data_from_path(folder_paths['test'])"
   ]
  },
  {
   "cell_type": "code",
   "execution_count": 26,
   "id": "8d21dad2",
   "metadata": {},
   "outputs": [
    {
     "name": "stdout",
     "output_type": "stream",
     "text": [
      "30001\n",
      "<class 'pandas.core.frame.DataFrame'>\n",
      "RangeIndex: 30001 entries, 0 to 30000\n",
      "Data columns (total 2 columns):\n",
      " #   Column    Non-Null Count  Dtype \n",
      "---  ------    --------------  ----- \n",
      " 0   sentence  30001 non-null  object\n",
      " 1   label     30001 non-null  int64 \n",
      "dtypes: int64(1), object(1)\n",
      "memory usage: 468.9+ KB\n"
     ]
    }
   ],
   "source": [
    "train_df.info()"
   ]
  },
  {
   "cell_type": "code",
   "execution_count": 27,
   "id": "333b1245",
   "metadata": {},
   "outputs": [
    {
     "name": "stdout",
     "output_type": "stream",
     "text": [
      "<class 'pandas.core.frame.DataFrame'>\n",
      "RangeIndex: 10000 entries, 0 to 9999\n",
      "Data columns (total 2 columns):\n",
      " #   Column    Non-Null Count  Dtype \n",
      "---  ------    --------------  ----- \n",
      " 0   sentence  10000 non-null  object\n",
      " 1   label     10000 non-null  int64 \n",
      "dtypes: int64(1), object(1)\n",
      "memory usage: 156.4+ KB\n"
     ]
    }
   ],
   "source": [
    "valid_df.info()"
   ]
  },
  {
   "cell_type": "code",
   "execution_count": 28,
   "id": "7e14dadc",
   "metadata": {},
   "outputs": [
    {
     "name": "stdout",
     "output_type": "stream",
     "text": [
      "<class 'pandas.core.frame.DataFrame'>\n",
      "RangeIndex: 10000 entries, 0 to 9999\n",
      "Data columns (total 2 columns):\n",
      " #   Column    Non-Null Count  Dtype \n",
      "---  ------    --------------  ----- \n",
      " 0   sentence  10000 non-null  object\n",
      " 1   label     10000 non-null  int64 \n",
      "dtypes: int64(1), object(1)\n",
      "memory usage: 156.4+ KB\n"
     ]
    }
   ],
   "source": [
    "test_df.info()"
   ]
  },
  {
   "cell_type": "code",
   "execution_count": 30,
   "id": "e068ebbd",
   "metadata": {},
   "outputs": [
    {
     "data": {
      "application/vnd.microsoft.datawrangler.viewer.v0+json": {
       "columns": [
        {
         "name": "index",
         "rawType": "int64",
         "type": "integer"
        },
        {
         "name": "sentence",
         "rawType": "object",
         "type": "string"
        },
        {
         "name": "label",
         "rawType": "int64",
         "type": "integer"
        }
       ],
       "conversionMethod": "pd.DataFrame",
       "ref": "f865a829-c04d-4ac2-8c2d-86ecdff34a61",
       "rows": [
        [
         "0",
         "Mua có mỗi Bingsu thập_cẩm 45k mà mình f đợi hơn 20 ' . Hỏi lại thì nv tl có r nhg bảo chờ thêm 15 ' nữa \" tụi e lm liền \" .\n Mình k biết có ngon k nhg cũng muốn ăn thử . Thiết_nghĩ nv quán nên xem_lại cách pv và nc vs khách .\n",
         "0"
        ],
        [
         "1",
         "Thứ 6 nào ta cùng quẩy 💣 💣 💣\n Vuvuzela beer club chung hệ_thống Gogi_House , Daruma , Kichi kichi nên giá cũng chưa 10% VAT . Thanh_toán trước 20g hằng ngày đc giảm 30% thức_ăn . Tính ra đc giảm 20% . Cũng zui ! 😊 😊 😊\n Ngồi thư_giãn cũng ok . Thức_ăn cũng ổn . Có mấy món nguyên_liệu bên ngoài hok bik chỗ nào bán nên vô đây ăn . Cơ_mà gọi mấy món đó cũng ko có hàng 😂 😂 😂\n Cháo bồ_câu hình chụp nguyên con bồ_câu mà tìm hoài chỉ thấy phao_câu không thấy đầu bồ_câu . Hỏi e nv e chạy hỏi nhà_bếp đc trả_lời là 1 phần cháo đc tính_toán 1 lượng thịt cố_định theo gram chứ không phải nguyên con chị ơi . 😅 😅 😅\n Ps : Lần sau sẽ rủ trên 4 đứa đi quẩy để đc tặng 10 ly biaaaaaaaaaaaaaa mí đc 🍺 🍺 🍺 🍺 🍺 🍺 🍺 🍺 🍺 🍺\n",
         "0"
        ],
        [
         "2",
         "Mình đi với nhóm , tổng_cộng 4 người ăn chỉ có không tới 150k mà no luôn í . Một con cá_lóc nướng to thiệt to kèm với rau_sống , bún , bánh_tráng đồ luôn là có 90k ah , bắp giò 69k để gói cuốn bánh_tráng chung .\n Bún thêm 5k , bánh_tráng thêm 8k nữa\n Đồ_ăn rẻ , thích_hợp ăn_uống cuối tuần cho gia_đình\n Tuy_nhiên mình thấy nước_chấm không ngon , mắm_nêm có mùi gừng , ăn kỳ kỳ , cá thì nguội quá , chắc là nướng lâu rồi không hâm_nóng lại\n",
         "0"
        ],
        [
         "3",
         "nhân_viên phục_vụ không mấy tận_tình , đồ_ăn ra lâu và không đều , món cơm thịt bò nướng ngon , còn mì soba xào không được ngon cho lắm .\n",
         "0"
        ],
        [
         "4",
         "Vào đây thì hết bàn , nhưng mình vẫn ngồi đợi bình_thường để nhân_viên dọn bàn , ai_ngờ dọn xong họ cho tốp khách sau vào ngồi , còn mình thì như vô_hình bị lơ , mình cười nửa miệng rồi bước ra khỏi quán . Có_lẽ vì mình đi 1 mình nên họ ưu_tiên nhóm đông người , vì lợi_nhuận mà xem_thường khách , phục_vụ và phong_cách làm_việc quá tệ_hại , chưa ăn nhưng dù có ngon thì với cách đón_tiếp kiểu này thì mình cũng cho vào sổ_đen !\n",
         "0"
        ]
       ],
       "shape": {
        "columns": 2,
        "rows": 5
       }
      },
      "text/html": [
       "<div>\n",
       "<style scoped>\n",
       "    .dataframe tbody tr th:only-of-type {\n",
       "        vertical-align: middle;\n",
       "    }\n",
       "\n",
       "    .dataframe tbody tr th {\n",
       "        vertical-align: top;\n",
       "    }\n",
       "\n",
       "    .dataframe thead th {\n",
       "        text-align: right;\n",
       "    }\n",
       "</style>\n",
       "<table border=\"1\" class=\"dataframe\">\n",
       "  <thead>\n",
       "    <tr style=\"text-align: right;\">\n",
       "      <th></th>\n",
       "      <th>sentence</th>\n",
       "      <th>label</th>\n",
       "    </tr>\n",
       "  </thead>\n",
       "  <tbody>\n",
       "    <tr>\n",
       "      <th>0</th>\n",
       "      <td>Mua có mỗi Bingsu thập_cẩm 45k mà mình f đợi h...</td>\n",
       "      <td>0</td>\n",
       "    </tr>\n",
       "    <tr>\n",
       "      <th>1</th>\n",
       "      <td>Thứ 6 nào ta cùng quẩy 💣 💣 💣\\n Vuvuzela beer c...</td>\n",
       "      <td>0</td>\n",
       "    </tr>\n",
       "    <tr>\n",
       "      <th>2</th>\n",
       "      <td>Mình đi với nhóm , tổng_cộng 4 người ăn chỉ có...</td>\n",
       "      <td>0</td>\n",
       "    </tr>\n",
       "    <tr>\n",
       "      <th>3</th>\n",
       "      <td>nhân_viên phục_vụ không mấy tận_tình , đồ_ăn r...</td>\n",
       "      <td>0</td>\n",
       "    </tr>\n",
       "    <tr>\n",
       "      <th>4</th>\n",
       "      <td>Vào đây thì hết bàn , nhưng mình vẫn ngồi đợi ...</td>\n",
       "      <td>0</td>\n",
       "    </tr>\n",
       "  </tbody>\n",
       "</table>\n",
       "</div>"
      ],
      "text/plain": [
       "                                            sentence  label\n",
       "0  Mua có mỗi Bingsu thập_cẩm 45k mà mình f đợi h...      0\n",
       "1  Thứ 6 nào ta cùng quẩy 💣 💣 💣\\n Vuvuzela beer c...      0\n",
       "2  Mình đi với nhóm , tổng_cộng 4 người ăn chỉ có...      0\n",
       "3  nhân_viên phục_vụ không mấy tận_tình , đồ_ăn r...      0\n",
       "4  Vào đây thì hết bàn , nhưng mình vẫn ngồi đợi ...      0"
      ]
     },
     "execution_count": 30,
     "metadata": {},
     "output_type": "execute_result"
    }
   ],
   "source": [
    "train_df.head()"
   ]
  },
  {
   "cell_type": "markdown",
   "id": "7ee5b7fc",
   "metadata": {},
   "source": [
    "# **EDA with full dataset**"
   ]
  },
  {
   "cell_type": "code",
   "execution_count": 31,
   "id": "48e1b199",
   "metadata": {},
   "outputs": [
    {
     "name": "stdout",
     "output_type": "stream",
     "text": [
      "<class 'pandas.core.frame.DataFrame'>\n",
      "RangeIndex: 50001 entries, 0 to 50000\n",
      "Data columns (total 2 columns):\n",
      " #   Column    Non-Null Count  Dtype \n",
      "---  ------    --------------  ----- \n",
      " 0   sentence  50001 non-null  object\n",
      " 1   label     50001 non-null  int64 \n",
      "dtypes: int64(1), object(1)\n",
      "memory usage: 781.4+ KB\n"
     ]
    }
   ],
   "source": [
    "full_df = pd.concat([train_df, valid_df, test_df], ignore_index=True)\n",
    "full_df.info()"
   ]
  },
  {
   "cell_type": "code",
   "execution_count": 32,
   "id": "e7cc89b1",
   "metadata": {},
   "outputs": [
    {
     "data": {
      "application/vnd.microsoft.datawrangler.viewer.v0+json": {
       "columns": [
        {
         "name": "index",
         "rawType": "int64",
         "type": "integer"
        },
        {
         "name": "sentence",
         "rawType": "object",
         "type": "string"
        },
        {
         "name": "label",
         "rawType": "int64",
         "type": "integer"
        }
       ],
       "conversionMethod": "pd.DataFrame",
       "ref": "4decf4e8-7d1b-4cf4-82f9-cf02494a8b33",
       "rows": [
        [
         "0",
         "Mua có mỗi Bingsu thập_cẩm 45k mà mình f đợi hơn 20 ' . Hỏi lại thì nv tl có r nhg bảo chờ thêm 15 ' nữa \" tụi e lm liền \" .\n Mình k biết có ngon k nhg cũng muốn ăn thử . Thiết_nghĩ nv quán nên xem_lại cách pv và nc vs khách .\n",
         "0"
        ],
        [
         "1",
         "Thứ 6 nào ta cùng quẩy 💣 💣 💣\n Vuvuzela beer club chung hệ_thống Gogi_House , Daruma , Kichi kichi nên giá cũng chưa 10% VAT . Thanh_toán trước 20g hằng ngày đc giảm 30% thức_ăn . Tính ra đc giảm 20% . Cũng zui ! 😊 😊 😊\n Ngồi thư_giãn cũng ok . Thức_ăn cũng ổn . Có mấy món nguyên_liệu bên ngoài hok bik chỗ nào bán nên vô đây ăn . Cơ_mà gọi mấy món đó cũng ko có hàng 😂 😂 😂\n Cháo bồ_câu hình chụp nguyên con bồ_câu mà tìm hoài chỉ thấy phao_câu không thấy đầu bồ_câu . Hỏi e nv e chạy hỏi nhà_bếp đc trả_lời là 1 phần cháo đc tính_toán 1 lượng thịt cố_định theo gram chứ không phải nguyên con chị ơi . 😅 😅 😅\n Ps : Lần sau sẽ rủ trên 4 đứa đi quẩy để đc tặng 10 ly biaaaaaaaaaaaaaa mí đc 🍺 🍺 🍺 🍺 🍺 🍺 🍺 🍺 🍺 🍺\n",
         "0"
        ],
        [
         "2",
         "Mình đi với nhóm , tổng_cộng 4 người ăn chỉ có không tới 150k mà no luôn í . Một con cá_lóc nướng to thiệt to kèm với rau_sống , bún , bánh_tráng đồ luôn là có 90k ah , bắp giò 69k để gói cuốn bánh_tráng chung .\n Bún thêm 5k , bánh_tráng thêm 8k nữa\n Đồ_ăn rẻ , thích_hợp ăn_uống cuối tuần cho gia_đình\n Tuy_nhiên mình thấy nước_chấm không ngon , mắm_nêm có mùi gừng , ăn kỳ kỳ , cá thì nguội quá , chắc là nướng lâu rồi không hâm_nóng lại\n",
         "0"
        ],
        [
         "3",
         "nhân_viên phục_vụ không mấy tận_tình , đồ_ăn ra lâu và không đều , món cơm thịt bò nướng ngon , còn mì soba xào không được ngon cho lắm .\n",
         "0"
        ],
        [
         "4",
         "Vào đây thì hết bàn , nhưng mình vẫn ngồi đợi bình_thường để nhân_viên dọn bàn , ai_ngờ dọn xong họ cho tốp khách sau vào ngồi , còn mình thì như vô_hình bị lơ , mình cười nửa miệng rồi bước ra khỏi quán . Có_lẽ vì mình đi 1 mình nên họ ưu_tiên nhóm đông người , vì lợi_nhuận mà xem_thường khách , phục_vụ và phong_cách làm_việc quá tệ_hại , chưa ăn nhưng dù có ngon thì với cách đón_tiếp kiểu này thì mình cũng cho vào sổ_đen !\n",
         "0"
        ]
       ],
       "shape": {
        "columns": 2,
        "rows": 5
       }
      },
      "text/html": [
       "<div>\n",
       "<style scoped>\n",
       "    .dataframe tbody tr th:only-of-type {\n",
       "        vertical-align: middle;\n",
       "    }\n",
       "\n",
       "    .dataframe tbody tr th {\n",
       "        vertical-align: top;\n",
       "    }\n",
       "\n",
       "    .dataframe thead th {\n",
       "        text-align: right;\n",
       "    }\n",
       "</style>\n",
       "<table border=\"1\" class=\"dataframe\">\n",
       "  <thead>\n",
       "    <tr style=\"text-align: right;\">\n",
       "      <th></th>\n",
       "      <th>sentence</th>\n",
       "      <th>label</th>\n",
       "    </tr>\n",
       "  </thead>\n",
       "  <tbody>\n",
       "    <tr>\n",
       "      <th>0</th>\n",
       "      <td>Mua có mỗi Bingsu thập_cẩm 45k mà mình f đợi h...</td>\n",
       "      <td>0</td>\n",
       "    </tr>\n",
       "    <tr>\n",
       "      <th>1</th>\n",
       "      <td>Thứ 6 nào ta cùng quẩy 💣 💣 💣\\n Vuvuzela beer c...</td>\n",
       "      <td>0</td>\n",
       "    </tr>\n",
       "    <tr>\n",
       "      <th>2</th>\n",
       "      <td>Mình đi với nhóm , tổng_cộng 4 người ăn chỉ có...</td>\n",
       "      <td>0</td>\n",
       "    </tr>\n",
       "    <tr>\n",
       "      <th>3</th>\n",
       "      <td>nhân_viên phục_vụ không mấy tận_tình , đồ_ăn r...</td>\n",
       "      <td>0</td>\n",
       "    </tr>\n",
       "    <tr>\n",
       "      <th>4</th>\n",
       "      <td>Vào đây thì hết bàn , nhưng mình vẫn ngồi đợi ...</td>\n",
       "      <td>0</td>\n",
       "    </tr>\n",
       "  </tbody>\n",
       "</table>\n",
       "</div>"
      ],
      "text/plain": [
       "                                            sentence  label\n",
       "0  Mua có mỗi Bingsu thập_cẩm 45k mà mình f đợi h...      0\n",
       "1  Thứ 6 nào ta cùng quẩy 💣 💣 💣\\n Vuvuzela beer c...      0\n",
       "2  Mình đi với nhóm , tổng_cộng 4 người ăn chỉ có...      0\n",
       "3  nhân_viên phục_vụ không mấy tận_tình , đồ_ăn r...      0\n",
       "4  Vào đây thì hết bàn , nhưng mình vẫn ngồi đợi ...      0"
      ]
     },
     "execution_count": 32,
     "metadata": {},
     "output_type": "execute_result"
    }
   ],
   "source": [
    "full_df.head()"
   ]
  },
  {
   "cell_type": "code",
   "execution_count": 34,
   "id": "17a168fb",
   "metadata": {},
   "outputs": [
    {
     "data": {
      "text/plain": [
       "sentence    0\n",
       "label       0\n",
       "dtype: int64"
      ]
     },
     "execution_count": 34,
     "metadata": {},
     "output_type": "execute_result"
    }
   ],
   "source": [
    "full_df.isnull().sum()"
   ]
  },
  {
   "cell_type": "code",
   "execution_count": 36,
   "id": "58b6016c",
   "metadata": {},
   "outputs": [
    {
     "data": {
      "image/png": "[encoded data removed]",
      "text/plain": [
       "<Figure size 640x480 with 1 Axes>"
      ]
     },
     "metadata": {},
     "output_type": "display_data"
    }
   ],
   "source": [
    "plt.pie(full_df['label'].value_counts(), labels=['negative', 'positive'], autopct='%1.1f%%', startangle=90)\n",
    "plt.show()"
   ]
  },
  {
   "cell_type": "code",
   "execution_count": 39,
   "id": "c4d29277",
   "metadata": {},
   "outputs": [
    {
     "data": {
      "application/vnd.microsoft.datawrangler.viewer.v0+json": {
       "columns": [
        {
         "name": "index",
         "rawType": "int64",
         "type": "integer"
        },
        {
         "name": "sentence",
         "rawType": "object",
         "type": "string"
        },
        {
         "name": "label",
         "rawType": "int64",
         "type": "integer"
        },
        {
         "name": "Word_count",
         "rawType": "int64",
         "type": "integer"
        },
        {
         "name": "Char_count",
         "rawType": "int64",
         "type": "integer"
        }
       ],
       "conversionMethod": "pd.DataFrame",
       "ref": "cd0a3565-d7c7-43ad-b978-a06746ef4418",
       "rows": [
        [
         "0",
         "Mua có mỗi Bingsu thập_cẩm 45k mà mình f đợi hơn 20 ' . Hỏi lại thì nv tl có r nhg bảo chờ thêm 15 ' nữa \" tụi e lm liền \" .\n Mình k biết có ngon k nhg cũng muốn ăn thử . Thiết_nghĩ nv quán nên xem_lại cách pv và nc vs khách .\n",
         "0",
         "59",
         "227"
        ],
        [
         "1",
         "Thứ 6 nào ta cùng quẩy 💣 💣 💣\n Vuvuzela beer club chung hệ_thống Gogi_House , Daruma , Kichi kichi nên giá cũng chưa 10% VAT . Thanh_toán trước 20g hằng ngày đc giảm 30% thức_ăn . Tính ra đc giảm 20% . Cũng zui ! 😊 😊 😊\n Ngồi thư_giãn cũng ok . Thức_ăn cũng ổn . Có mấy món nguyên_liệu bên ngoài hok bik chỗ nào bán nên vô đây ăn . Cơ_mà gọi mấy món đó cũng ko có hàng 😂 😂 😂\n Cháo bồ_câu hình chụp nguyên con bồ_câu mà tìm hoài chỉ thấy phao_câu không thấy đầu bồ_câu . Hỏi e nv e chạy hỏi nhà_bếp đc trả_lời là 1 phần cháo đc tính_toán 1 lượng thịt cố_định theo gram chứ không phải nguyên con chị ơi . 😅 😅 😅\n Ps : Lần sau sẽ rủ trên 4 đứa đi quẩy để đc tặng 10 ly biaaaaaaaaaaaaaa mí đc 🍺 🍺 🍺 🍺 🍺 🍺 🍺 🍺 🍺 🍺\n",
         "0",
         "165",
         "706"
        ],
        [
         "2",
         "Mình đi với nhóm , tổng_cộng 4 người ăn chỉ có không tới 150k mà no luôn í . Một con cá_lóc nướng to thiệt to kèm với rau_sống , bún , bánh_tráng đồ luôn là có 90k ah , bắp giò 69k để gói cuốn bánh_tráng chung .\n Bún thêm 5k , bánh_tráng thêm 8k nữa\n Đồ_ăn rẻ , thích_hợp ăn_uống cuối tuần cho gia_đình\n Tuy_nhiên mình thấy nước_chấm không ngon , mắm_nêm có mùi gừng , ăn kỳ kỳ , cá thì nguội quá , chắc là nướng lâu rồi không hâm_nóng lại\n",
         "0",
         "95",
         "440"
        ],
        [
         "3",
         "nhân_viên phục_vụ không mấy tận_tình , đồ_ăn ra lâu và không đều , món cơm thịt bò nướng ngon , còn mì soba xào không được ngon cho lắm .\n",
         "0",
         "30",
         "138"
        ],
        [
         "4",
         "Vào đây thì hết bàn , nhưng mình vẫn ngồi đợi bình_thường để nhân_viên dọn bàn , ai_ngờ dọn xong họ cho tốp khách sau vào ngồi , còn mình thì như vô_hình bị lơ , mình cười nửa miệng rồi bước ra khỏi quán . Có_lẽ vì mình đi 1 mình nên họ ưu_tiên nhóm đông người , vì lợi_nhuận mà xem_thường khách , phục_vụ và phong_cách làm_việc quá tệ_hại , chưa ăn nhưng dù có ngon thì với cách đón_tiếp kiểu này thì mình cũng cho vào sổ_đen !\n",
         "0",
         "91",
         "429"
        ],
        [
         "5",
         "Hôm_nay đến aeon có ghé vào quán . Món ăn cũng khá nhưng hơi ít . Không_gian quán cũng ổn\n",
         "0",
         "20",
         "90"
        ],
        [
         "6",
         "Mình vào lúc 8h tối , cũng không đông khách lắm nhưng chờ hơi lâu . Order 4 món thì ăn giống như nhét kẽ răng ko xi nhê , phải thêm cái lẩu cá sả nữa mới tạm no . Giá hơi mắc , đồ_ăn thì hơi ít , hình_ảnh trên menu đúng mang tính_chất minh_hoạ như em phục_vụ_bàn nói . Có món gà trứng gì đó trong menu để must try mà mình kiu lên thử thấy thất_vọng vô_cùng , 5 người 5 cục thịt gà với mấy cục tỏi , không thấy cái trứng nào hết . Dĩa gỏi bò có vài lát bò còn lại rau với rau . Nói_chung tới ăn 1 lần cho_biết chứ không có ý_định quay lại .\n",
         "0",
         "126",
         "540"
        ],
        [
         "7",
         "Thức_ăn quá_đỗi bình_thường , miếng xôi của bạn mình ăn còn sạn !\n Mắc , ko xứng_đáng vs giá_cả\n",
         "0",
         "19",
         "96"
        ],
        [
         "8",
         "Mình thấy quán này rất được , nhân_viên phục_vụ nhiệt_tình , vui_vẻ , hào_phóng , khách có yêu_cầu hay thắc_mắc gì đều được trả_lời rất lịch_sự . Trong phần buffet có thức_ăn nhanh với nước là khách tự_phục_vụ nhưng với những khách đi lần đầu hoặc ngại không đi lấy thì nhân_viên rất sẵn_lòng đi lấy đùm mà không hề có phàn_nàn . Mình đã ghé quán rất nhiều lần . Vào cuối tuần quán rất đông nhưng khách cũng không phải ngồi đợi lâu . Nước lẩu của quán ngon , hợp với mình và mình thích , còn mọi người thì mình k biêt . Mọi người hãy ghé quán thưởng_thức để xem điều mình nói là đúng nhé ... chúc mọi người có bữa ăn thoải_mái ở hongkong town\n",
         "0",
         "132",
         "643"
        ],
        [
         "9",
         "Hôm_qua đi ăn cùng 7 chị ở công_ty . Quảng_cáo ăn 4 tặng 1 thì lại thành ăn 5 tặng 1 , hỏi ra thì được bảo là chủ em nói thế . Nhân_viên từ đầu đến cuối phục_vụ không 1 nụ_cười , muốn gì phải nói đi nói lại cả 3-4 lần mới có . Thịt bò 3-4 dĩa đầu_tiên còn được , sau đó đem ra toàn thị bò vụn . Tôm không tươi . Lẩu ăn cón được chứ đồ nướng thì quá tệ . Buffet quảng_cáo là bao_gồm nướng , lẩu và điểm sấm , gọi đồ điểm sấm thỉ được bảo là không có bao_gồm trong buffet , menu cũ nên chưa đổi . Yêu_cầu hoá_đơn đỏ thì bảo 3 ngày_sau đến lấy . Túm lại là làm_ăn cẩu_thả và khá gian_dối trong việc quảng_cáo .\n",
         "0",
         "141",
         "608"
        ],
        [
         "10",
         "- Điểm trừ : Mọi thứ đều được \" xắt lát mỏng \" , rau_muống thì \" dai_nhách \" , cải thảo thì bị úng : 3\n - Điểm cộng : Nước lẩu thì vừa ăn , cũng khá ngon . : )\n - Vì là phong_cách tự_phục_vụ nên không có comment gì được\n = > Lời khuyên : Chỉ nên ăn \" lót_dạ \" cho_biết thui , chớ ăn nhiu đây đói lắm à : 3\n",
         "0",
         "77",
         "306"
        ],
        [
         "11",
         "Không_gian quán ok như những quán king khác .\n Đồ_ăn ngoài kệ thì nhiều nhưng_mà đồ gì đâu không ngon . Tráng_miệng thì ok nhất . Kem ở king thì siêu ngon rồi . Rau_câu chè cũng ok .\n Về phần thịt thì_phải nói là siêu dở . Dở nhất trong những quán hq mình từng ăn luôn . Thịt nướng mà đông đá cứng ngắt . Nướng lên có nghe mùi_vị gì nữa đâu . Thấy kinh_khủng .\n Nv thì hách nhất_là ông kia . Kiu k trả_lời liền đâu . Bạn mình để quên đồ mà ở đó nói là tưởng rác mang đi giục luôn . Hâh .\n Ai k biết ăn_ở đây rồi chắc k dám ăn king ở tp nữa luôn qua . Mất_mặt cả chi_nhánh\n",
         "0",
         "131",
         "572"
        ],
        [
         "12",
         "Quán đơn_giản nhưng đặc_biệt bánh rất ngon , nước uống gía cũng ổn , phục_vụ chu_đáo và quản_lý rất thân_thiện , mỗi lần đi Aeon_Mall_Bình_Dương là mình hay ghé để ăn 1 cái bánh nhân nho khô\n",
         "0",
         "37",
         "191"
        ],
        [
         "13",
         "Món ăn khá ngon và no nhưng phục_vụ thái_độ quá kém và tệ . Không hề hài_lòng với chế_độ Refill . Mình cầm ly nước ra ngoài tầm 15 phút sau quay lại với bạn thì được thông_báo rằng nước đã đem ra ngoài xin vui_lòng order ly mới . Pó tay cái kiểu tiêu_chuẩn MỸ phục_vụ kiểu VN\n",
         "0",
         "59",
         "276"
        ],
        [
         "14",
         "Ngày_trước đồ_ăn còn khá ngon nhưng giờ mình thấy bớt nhiều rồi . Nhân_viên phục_vụ không tốt , nếu_không muốn nói là thái_độ .\n",
         "0",
         "24",
         "128"
        ],
        [
         "15",
         "Bánh của Luxe ăn được , trang_trí bắt_mắt . Vì chưa thử hết các loại nên không biết ngon hết không . Nhưng nước ở đây uống khá ngon . Không_gian thì không được rộng lắm\n",
         "0",
         "36",
         "169"
        ],
        [
         "16",
         "Lại là gần trường cả nổi_tiếng nên đến ăn thử , thực_sự thì rất ko hài_lòng : ) ) ko gian ngoài hè nhìn hơi ko ổn nhưng vì thoáng nên cũng bỏ_qua . Gọi đồ_ăn phải đợi quá lâu , mà cái bánh crepe bơ chanh đường chua ko thể tả được , như vắt mấy quả chanh vào ấy , xong lại còn đắng đắng , crepe thịt hun khói thì chẳng có gì đặc_biệt cả , sữa_chua đánh_đá thì ống hút tắc ko thể hút đc . Hôm ấy đi ăn cùng bạn mà phải bỏ hơn nửa đĩa bơ chanh đường , thực_sự thì ko ăn nổi nữa . Tóm_lại sẽ ko bao h đến lần sau !\n",
         "0",
         "122",
         "511"
        ],
        [
         "17",
         "Mình vào quán khi bên GoGi đông khách , và phải chờ , trong khi đang đói bụng , cảnh_tượng đầu_tiên khi vào quán là sàn nhà dường_như không được quét_dọn , rác , khăn giấy và đồ_ăn thừa đầy sàn , bàn ăn lau không kỹ , gọi món thì khá lâu mới có đồ_ăn , nhân_viên phục_vụ thái_độ không tận_tình , chả dám đến lần hai , không hiểu chất_lượng như thế_mà cũng được nằm trong aeon mail .\n",
         "0",
         "81",
         "383"
        ],
        [
         "18",
         "Sự_việc xảy_ra và ngày 31-10-2015 . Tôi và bạn vào nhà_hàng Đôi_Đũa_Vàng tại tầng 2 của trung_tâm thương_mại AEONMALL Bình_Dương vào lúc 20h05 . Chính_xác là tôi và bạn ngồi bàn số 6 , chúng_tôi gọi món , ngồi đợi và mọi việc bắt_đầu_từ đây . Sau khi ngồi đợi 5 phút và có phục_vụ mang menu tới cho chúng_tôi gọi món và thức uống xong chúng_tôi ngồi đợi tiếp 20 phút sau và chẳng thấy phục_vụ mang nước lên hoặc có động_thái gì cả . Sau khi thấy những khách vào sau đã có thức_ăn , tôi gọi phục_vụ để hỏi . 2 lần đầu phục_vụ nhìn xong gật_đầu , nhưng không thấy ai_lại . lần thứ 3 gọi một phục_vụ nữ thì tôi nhận được một ánh nhìn liếc qua và bỏ đi không nói_năng gì cả . lần thứ 4 gọi thì_có phục_vụ lại và tôi hỏi đã có những món tôi gọi chưa và có_thể mang nước lên trước không ? Anh nhân_viên ấy chạy vào và hỏi phía trong là “ món của khách có chưa mà_sao khách ngồi đợi lâu quá kìa ? ” ( lúc này đồng_hồ là 20h40 , chúng_tôi đã đợi 35 phút ) . 5 phút sau anh phục_vụ chạy ra và cầm theo 2 cái menu như lúc đầu và nói chúng_tôi hãy gọi món lại . Tôi hỏi lý_do và gì vậy a ? Anh_ấy trả_lời là “ cái bill anh_chị gọi món bị mất đâu rồi ” Tôi không_thể chấp_nhận được một thái_độ phục_vụ như_vậy được . Tôi tự hỏi một nhà_hàng như_vậy mà_lại có dịch_vụ tệ đến như_thế sao ? Và quan_trọng nhất_là tại_sao có_nhân viện phục_vụ có thái_độ coi_thường khách đến như_thế ? Khách hang hỏi mà chỉ có vỏn_vẹn một ánh mắt liếc nhìn lại và chẳng có lời_nói nào . Tôi muốn hỏi liệu tôi đang được phục_vụ hay_là đang đi xin ?\n",
         "0",
         "320",
         "1515"
        ],
        [
         "19",
         "1 ngày làm_việc mêt mỏi . Phi xe ra quán_ăn lẩu cá . Lần đầu_vào quán . cảm_nhận nhân_viên phục_vụ nhiệt_tình , lẩu cả khá ngon , thích nhất món tôm nướng . Mà quán có món gà xé cũng ngon phết . Điểm chê là rau kèm lẩu ít hơn so với chỗ khác .\n",
         "0",
         "56",
         "244"
        ],
        [
         "20",
         "Mình ăn bún đậu ở đây nhiều lần rồi , chủ_yếu vào buổi_trưa , cũng là giờ các anh_chị sinh_viên đến ăn rất đông nên có khi_không có chỗ mà ngồi . Bún thì ngon nhưng mình có cảm_giác càng_ngày_càng ít nem và bún . Phục_vụ cũng rất chậm nhưng có_thể thông_cảm vì khách đông .\n",
         "0",
         "56",
         "274"
        ],
        [
         "21",
         "Quán nằm trong ngõ . đối_diện hiway hà đông . bạn mình có người quen làm ở đây nên dẫn qua uống ủng_hộ\n Trang_trí quán đẹp . nhiều tầng . tất_cả 7 tầng thì_phải . có thang_máy . các phòng có điều_hòa . wifi gia_đình dùng chung cho 7 tầng nên khá yếu\n Có cả đồ_ăn và đồ uống . bánh ngọt nhìn đẹp_mắt nhưng chưa ăn thử nên không biết chất_lượng ra_sao\n Mình uống trà sữa chân trâu đặc_biệt . uống thì rất nhạt . chưa bh uống cốc trà sữa nào chán như này . pingpang ăn thì ổn . ăn bỏng ngô xong uống cốc trà sữa kia vào thì quá chán luôn . nó có vị cứ ngang_ngang chả ra làm_sao\n Trà sữa kiểu nhái dingtea . cốc bé kia_mà 20k.chắc lần sau ko uống nữa . vừa xa nhà lại chẳng ra_gì\n Lần sau sẽ quay lại quán thử các món khác rồi nhận_xét tiếp . nếu lần sau vẫn chán như này thì bỏ luôn mất\n",
         "0",
         "172",
         "785"
        ],
        [
         "22",
         "Hôm chủ_nhật , 29/11 mình đinh đến ăn vì tìm thông_tin thấy rất ngon , giá_cả hợp_lý ...\n mà đến thấy đóng_cửa mất_tiêu , sập xệ , bảng_hiệu còn rách . mọi ng cập_nhật dùm quán này còn hoạt_động hay ko vây ? : ( (\n tìm cả buổi vòng_vòng cuối_cùng đóng_cửa  \n p / s : chưa có ăn_uống đc gì nên cũng ko biết đánh_giá điểm ntn ?\n",
         "0",
         "69",
         "326"
        ],
        [
         "23",
         "Mình bít tới chỗ này do 1 bạn bình_luận so_sánh với nhà_hàng buffet nét việt , bạn ấy bảo Hương_Quê vừa rẻ vừa ngon ( bên nét việt mua voucher hotdeal là 119k ) , phục_vụ lại tốt rất ok , lên foody xem review cũng thấy đc khen nức_nở nên quyết_tâm đến ăn thử , nếu ok thì lại có thêm 1 quán ruột .\n Tới thử rồi chỉ mún la_làng , quá tệ . Hok hề có 40 món như quảng_cáo , chỉ vài món le que mà hết còn hok thèm chăm lên , nêm nếm thì quá mặn , quầy lẩu thì_có mỗi mấy cái đầu cá ương hết lên lun . Lần đầu_tiên đi ăn buffet mà về ngay sau 30p và phải ra Aeon_Mall ăn hủ tíu gõ và 2 ly trà đào vì đói .\n Thấy review tốt quá mà tới thử thì kinh_sợ hoàn_toàn . Thôi xin chừa , từ nay hok ham rẻ và tin vào review , hình_ảnh quảng_cáo câu_khách để mất tiền oan nữa . Cứ tới quán quen mà ăn , dù có mắc hơn hay rẻ hơn thì cũng tốt hơn chỗ này nhìu , 100k/người mà thua tô hủ tíu gõ 12k .\n",
         "0",
         "207",
         "882"
        ],
        [
         "24",
         "Quán nhỏ , nóng , đồ_ăn ít chịu châm khi hết , nhân_viên phục_vụ ok\n",
         "0",
         "15",
         "68"
        ],
        [
         "25",
         "Kêu ly Cafe_Latte đá ( lỗi 1 phần do mình ko coi menu và kêu vì mình hay uống Latte ) nhìn cái ly thể_loại cafe Ý rất ư là ngỡ_ngàng , nhìn ko khác_nào ly sữa_tươi bỏ thêm cafe . Càng ko ngờ hơn ly cafe bần vậy giá 77k , ko đáng 1 chút nào . Phải_chi cái ly đẹp , nhìn sang chảnh chuyên_nghiệp như đúng bản_chất cafe Ý thì bỏ tiền ra cũng thấy đáng .\n Nhân_viên nhìn mặt ai_nấy y_như mất sổ gạo .\n Trung_Nguyen từ lúc thêm dc chữ Legend , thay_đổi diện_mạo thì giá cũng thay_đổi theo . Oải chè\n",
         "0",
         "107",
         "494"
        ],
        [
         "26",
         "Không bằng tiệm cũ ngày_trước . Bgiờ ăn cơm đảo khô , chỉ hơn cơm_rang bụi 1 chút . Cơm trắng ( cơm tấm ngày_xưa tiệm cũ rất ngon ) giờ ở đây thì kém hơn .\n Mọi ng ăn hay gọi thêm sốt - sốt này ko có gì đạc biệt . Nấu bằng tương cà + nước + bột thôi\n",
         "0",
         "62",
         "250"
        ],
        [
         "27",
         "Không_gian bên đây nhỏ , ngồi hơi chán . Phục_vụ cũng bình_thường .\n",
         "0",
         "13",
         "68"
        ],
        [
         "28",
         "Qán BBQ cũ chuyển qa Lê_Hồng_Phong rồi ! ! Qán BBQ nguyễn chí thanh buôn_bán xạo lắm ! ! Tới qán gọi thịt bò mà đem ra toàn thịt heo ! ! Đi một lần là tởn tới già\n",
         "0",
         "39",
         "163"
        ],
        [
         "29",
         "Quán phù_hợp cho các bạn mê ăn vặt . Có nhiều món đa_dạng như bánh ép , bánh_tráng trứng , bánh kẹp , bò bía . Riêng mình thì thấy gần đây bánh ép không còn ngon như trước . Bánh_tráng trứng ăn ngon nhưng nếu được nướng thì ăn ngon hơn chiên .\n",
         "0",
         "54",
         "244"
        ],
        [
         "30",
         "Lâ ̀ n đâ ̀ u đi ăn ba ́ nh e ́ p huê ́ .\n Thâ ́ y la ̣ la ̣ ma ̀ cu ̃ ng re ̉ .\n 2k/ca ́ i cuô ́ n vơ ́ i rau_răm , dưa chua , dưa_leo châ ́ m nươ ́ c mă ́ m .\n Tuyê ̣ t ! ! ! !\n",
         "0",
         "64",
         "179"
        ],
        [
         "31",
         "Quán nhỏ nhưng view nhìn đẹp . Choco_Vanila ngon , Cafe_Hazenut đắng không có vị của Hazenut . Giá cũng ok ! Có dịp sẽ quay lại ...\n",
         "0",
         "28",
         "132"
        ],
        [
         "32",
         "Ba_Động là một trong những địa_điểm du_lịch ở Trà_Vinh . Bọn mình tới đây cũng nhiều lần ( vì dân miền Tây mà ) . Không_gian vẫn còn hoang_sơ nên khách không nhiều , đi chơi theo nhóm cũng thoải_mái . Vì là biển phù_sa nên nước đục và không đẹp . Chi_phí ăn_uống và sinh_hoạt ở đây cũng khá rẻ . Mình thích nhất_là những rặng dương xanh nghi_ngút dọc bờ biển , lúc chơi mệt có_thể vào tránh nắng mà không cần thuê dù . Bãi_biển khi cạn khá rộng nên thích_hợp cho những chuyến picnic , chơi thể_thao ... Nhìn_chung thì so_sánh về mặt giá_cả , phong_cảnh cũng tạm ổn . Các bạn nên đến thử 1 lần xem sao !\n",
         "0",
         "124",
         "603"
        ],
        [
         "33",
         "Ai muô ́ n ti ̀ m ra thi ̀ dâ ̃ n mi ̀ nh đi ăn đi\n",
         "0",
         "19",
         "51"
        ],
        [
         "34",
         "Mình và bạn nghe đồn quán ngon . ai dè khi ra thì quán vắng , nằm trog góc hẻm , khó kiếm , nhìn như mê_cung , giá đắt so với các quán ốc mình từng ăn , chỗ lại bẩn , ốc móng tay có mùi tanh kinh_khủng như để lâu ngày . không_gian chật_chội , mình ngồi còn ko dám ngồi , phục_vụ thì cứ hỏi như ép cung mình ăn thêm . quá tệ\n",
         "0",
         "78",
         "324"
        ],
        [
         "35",
         "Ở đây là quán ngồi vỉa_hè mà giá khá đắt , menu không có tính tiền ghi sổ rồi đưa mình check lại . bọn mình đi 4 người gọi 1 set nướng đầy_đủ không gan và lòng giá 400k . Đồ_ăn ở đây thì bình_thường ướp hơi bị mặn . Kim_chi thì muối bị sống ăn bị hăng , cải thảo vẫn còn trắng nguyên luôn , mình gọi rượu Atiso uống thử thì chả thấy vị thơm của Atiso đâu chỉ thấy uống chả khác_gì rượu bình_thường hay uống , trà đá thì nhạt như nước_lọc ý . Lúc mình gọi thêm bò nầm nướng thì ko thấy có khoai_lang , cà_tím , đậu nhật như đĩa đầu gọi hỏi nhân_viên thì họ bào hết mà lúc đó mới 8h tối chứ mấy . Gọi đĩa khoai_tây chiên ra trẻ_con ăn thì vừa non vừa ỉu .\n Nhân_viên phục_vụ được_cái niềm_nở nhưng chậm_chạp vãi .\n Bọn mình đi 4 người ăn hết tổng là 830k .\n",
         "0",
         "168",
         "755"
        ],
        [
         "36",
         "Quán bé lại còn bị che_khuất bở trạm xe bus nên dễ đi qua mà k nhìn thấy . Sữa_chua các loại ăn ngon chứ chè thì chả ra_sao . Kem xôi ăn cũng tạm\n",
         "0",
         "35",
         "146"
        ],
        [
         "37",
         "Mấy lần đi qua đều thấy đóng_cửa 😢 😢 😢 chưa có dịp thử\n",
         "0",
         "14",
         "55"
        ],
        [
         "38",
         "M thích kem xôi ngon vầ rẻ . Chè bơ thì k ngon như trc nữa . Sữa_chua quá chua như ko cho đường\n",
         "0",
         "24",
         "96"
        ],
        [
         "39",
         "Ăn_ở đây từ tuần khai_trương mà thấy bánh vừa đắt vừa không ngon , nhạt_nhẽo & hương_vị bình_thường . Combo cũng ko rẻ hơn mua_lẻ là mấy , thấy quảng_cáo rầm_rộ nên đi ăn mà ăn xong thất_vọng tràn_trề : - <\n",
         "0",
         "42",
         "207"
        ],
        [
         "40",
         "Không_gian : Chật_hẹp chỉ có vài cái bàn thôi\n Đồ uống : Cực dở luôn . Mình gọi smothie xoài nhg rõ_ràng vị xoài là của nước ép xoài đóng_hộp . Chán ko thể tả được . Bạn mình gọi vị chanh leo thì hắc hắc\n Giá : Bình_thường nhg quá đắt so với chất_lượng\n Wifi kém lắm .\n Nói_chung là mình sẽ ko bao_giờ quay lại\n",
         "0",
         "67",
         "311"
        ],
        [
         "41",
         "Ăn bi ̀ nh thươ ̀ ng . Hai đư ́ a ăn su ̉ i ca ̉ o va ̀ su ̉ i ca ̉ o my ̀ ta ̣ m đươ ̣ c vơ ́ i gia ́ 35k . Qua ́ n dơ ̀ i ra mă ̣ t tiê ̀ n đươ ̀ ng NTP nên dê ̃ ti ̀ m\n",
         "0",
         "65",
         "171"
        ],
        [
         "42",
         "Quán này đã dời địa_điểm sang 106a Phùng_Văn_Cung f7 quận Phú_Nhuận rồi nha mọi ng Giờ trong địa_chỉ cũ vẫn có quán ghi là hải_sản Bình_Ba luôn nhưng k ngon nha , hải_sản k tươi , phục_vụ chậm giá cao , ngồi trong bóng_tối nha Mọi ng lưu_ý tránh chuốc thêm bực_bội và ăn k vui nha , thanks ! ! !\n",
         "0",
         "62",
         "296"
        ],
        [
         "43",
         "Quán nằm gần trường Trấn_Biên , buổi chiều tan học đông cực . Chả lụi cũng bình_thường như những chỗ khác vì lấy chung một chỗ . Thái_độ phục_vụ kém , cô bán luôn tỏ_vẻ khó_chịu .\n",
         "0",
         "37",
         "180"
        ],
        [
         "44",
         "Đa ̃ ăn 1 lâ ̀ n ơ ̉ đây va ̀ se ̃ ca ̣ ch tơ ́ i gia ̀ . Tha ́ i đô ̣ phu ̣ c . Ụ ke ́ m : ăn hê ́ t rau hê ́ t tương xin lâ ̀ n đâ ̀ u tiên pha ̉ i đơ ̣ i lâu va ̀ pha ̉ i nhă ́ c tơ ́ i lâ ̀ n thư ́ 2 du ̀ qua ́ n ko đông . Chu ̉ qua ́ n co ́ tha ́ i đô ̣ kho ́ chi ̣ u . Nho ́ m 3 ng ăn xong vê ̀ tô ́ i bi ̣ đau quă ̣ n bu ̣ ng\n",
         "0",
         "125",
         "334"
        ],
        [
         "45",
         "Hôm_nay đi qua , vào gọi gà luộc . Ngồi nhâm_nhi lon bia một lúc thì thấy bê cơm ra . Hỏi gà đâu thì một lúc sau mới bảo hết rồi . Chán ! Cần cải_tạo cách phục_vụ của nhân_viên cho tốt hơn .\n Giá_cả thì cũng không phải là rẻ gì , tuy có niêm_yết chi_tiết . Tất_nhiên là rẻ hơn Hà_Nội hay Hạ_Long rồi . Được_cái nhà_hàng rộng_rãi , mát_mẻ ( miền núi mà ) , sạch_sẽ và tiện đường nhất trên Tiên_Yên . Nếu các bạn đi đông thì sẽ được ưu_tiên phục_vụ ( ăn nhiều 😁 ) . Nếu_không là phải gọi mỏi mồm đấy .\n Không có bánh gật_gù tại quán như các bạn Quảng ninh hay quảng_cáo đâu . Chắc món đấy làm lâu công . Món khâu nhục không dậy_mùi tỏi , chưa đạt yêu_cầu , như thịt ba_chỉ kho thường . Nếu bạn nào ăn_ở Hoành_Bồ rồi sẽ so_sánh được ngay .\n Nói_chung là có_tiếng do ở Tiên_Yên thôi . Phía dưới gần lối đi Ba_Chẽ cũng có vài nhà_hàng còn lớn hơn nhiều , xe đậu thoải_mái .\n",
         "0",
         "188",
         "869"
        ],
        [
         "46",
         "Quán cũng khá nhỏ đồ uống cũng được mèo thấy đồ_ăn là sán vô con hết r chúng_nó chổng đít quay di max phũ : ) ) ) ) ) ) ncl đến nhiều r nhung gio moi review cho quán ... . ncl.ổn\n",
         "0",
         "44",
         "179"
        ],
        [
         "47",
         "Đồ uống cũng bình_thường như bao quán khác , mèo ở đây nó cứ lờ_đờ bệnh bệnh thế_nào ấy\n",
         "0",
         "19",
         "88"
        ],
        [
         "48",
         "+ ) Ưu_điểm : Rộng_rãi khang_trang , trang_trí theo hơi_hướng Hàn_Quốc vì h cgv của HQ nên bài_trí như_vậy cũng k có j là_lạ : ) KHông gian rộng thôi rồi , thiet kế như kiểu 1 khu chờ tàu_điện_ngầm vậy : ) rộng đến_nỗi như kiểu đi mãi không hết_ý ! có hôm tìm phòng chiếu mãi mới thấy vì nó o trong góc : ) nếu_mà đến đây để chụp choẹt chắc chụp cả ngày không thấy chán mất , thích nhất_là khu có ghế sofa ngồi êm mà kể_cả ngồi bao_lâu cũng chả ai duoi . kiểu đến cgv hà đông cảm_giác thoải_mái lắm ý chả ai quản : ) ) cảm_thấy tự_do như ở nhà . Nhà_vệ_sinh đẹp các chị_em nào mà nghiện tự sướng thì có_thể vào tự sướng thoai mái nhé k ai cản đâu : ) ) cái gương trong WC nữ như kiểu bàn trang_điểm ý xinh dã_man , À ưu_điểm nữa_là khu để xe rộng_rãi bảo vẹ vui_tính , k mất phí gửi xe nên các bạn yên_tâm\n + ) Nhược_điểm : Quá xa trung_tâm thành_phố , mặc_dù vé ở đây nhiều lúc rẻ hơn ở các cgv khác   nhưng cứ nghĩ đến viec xuống đây xem phim la mình thấy ngại rồi ý : ) ) ngày thứ 4 vé đồng giá 50k nhé các bạn rẻ hơn cgv khác nên có hôm mình ham_hố xuống xem mặc_kệ trời nắng gắt thế_là vì tiết_kiệm 25k mà xem xong về ốm luôn : ) ) ) nên nếu ai nhà xa quá thì đừng cố nhé ko lại quá_cố ! Nhược_điểm nữa_là nhân_viên ở đây làm_ăn ko chuyên_nghiệp , nói_năng khó nghe , kiểu nhân_viên nói nhanh ko rõ_ràng ý , hôm đấy mình mua 3 vé xem phim chưa hỏi mình muốn lấy combo bỏng nước ko đã tự_động cho_rồi , mình nói mình ko mua combo mà_sao tự_dưng cho thì lại còn mắng lại bảo sao k tự để_ý vé thấy rẻ nthe mà k phàn_nàn luôn in vé rồi ko đổi dc nữa : ) Xong cũng hứa_hẹn bảo quản_lý ra giải_quyết rồi cũng mất_tăm_mất_tích luôn . may là lúc đấy cũng có khách muốn mua bỏng nên mình thương_lượng đc vs ng ta mua hộ cho mình phần combo : ) nhân_viên vô_trách_nhiệm và thái_độ , thật_sự làm minh thấy khó_chịu , xem mất tiền phải để khách thấy vui_vẻ chư nhưng chưa xem đã mất vui rồi , ko phải mình đánh_đồng vs toàn_bộ nhân_viên của CGV . Mình nhận_xét thẳng_thắn luôn nhân_viên CGV bên LOtte và bên Bà triệu mình tháy rất ok , phục_vụ rất đc chỉ có bên CGV hà đông là như_vậy thoi : ) chưa kể dù_sao cgv này cũng ở bên HÀ đông ko phải vung trung_tâm nên ng xem cũng khá mất lịch_sự ! Vào rạp thì nói to , nghe đt xong các thứ cảm_giác như đang xem ở rạp quốc_gia vậy ! Đúng là cái j rẻ quá cũng ko tốt ! khuyên các bạn muốn đổi gió thì đến đây xem thử 1 2 lần thôi rồi các bạn cũng sẽ cảm_nhận giống mình thôi : )\n",
         "0",
         "531",
         "2416"
        ],
        [
         "49",
         "Món ăn thì cũng ngon , khg có gì đáng nói , giá_cả bình_dân hợp túi_tiền\n quán trong hẻm rộng_rãi , xe để kế bên cũng an_tâm\n chỉ có là order xong ngồi chờ rã cả họng anh thanh_niên đẹp chai mới tàn tàn lại thông_báo món này hết ròi , kiu order món khác giùm , lại 1 khoảng thời_gian dài đằng_đẵng nữa chờ_đợi trong tuyệt_vọng , tới mức hết chuyện để 8 với nhau mới thấy có món dọn lên .\n ăn_ở đây 2 lần , lần nào cũng vậy\n",
         "0",
         "92",
         "423"
        ]
       ],
       "shape": {
        "columns": 4,
        "rows": 50001
       }
      },
      "text/html": [
       "<div>\n",
       "<style scoped>\n",
       "    .dataframe tbody tr th:only-of-type {\n",
       "        vertical-align: middle;\n",
       "    }\n",
       "\n",
       "    .dataframe tbody tr th {\n",
       "        vertical-align: top;\n",
       "    }\n",
       "\n",
       "    .dataframe thead th {\n",
       "        text-align: right;\n",
       "    }\n",
       "</style>\n",
       "<table border=\"1\" class=\"dataframe\">\n",
       "  <thead>\n",
       "    <tr style=\"text-align: right;\">\n",
       "      <th></th>\n",
       "      <th>sentence</th>\n",
       "      <th>label</th>\n",
       "      <th>Word_count</th>\n",
       "      <th>Char_count</th>\n",
       "    </tr>\n",
       "  </thead>\n",
       "  <tbody>\n",
       "    <tr>\n",
       "      <th>0</th>\n",
       "      <td>Mua có mỗi Bingsu thập_cẩm 45k mà mình f đợi h...</td>\n",
       "      <td>0</td>\n",
       "      <td>59</td>\n",
       "      <td>227</td>\n",
       "    </tr>\n",
       "    <tr>\n",
       "      <th>1</th>\n",
       "      <td>Thứ 6 nào ta cùng quẩy 💣 💣 💣\\n Vuvuzela beer c...</td>\n",
       "      <td>0</td>\n",
       "      <td>165</td>\n",
       "      <td>706</td>\n",
       "    </tr>\n",
       "    <tr>\n",
       "      <th>2</th>\n",
       "      <td>Mình đi với nhóm , tổng_cộng 4 người ăn chỉ có...</td>\n",
       "      <td>0</td>\n",
       "      <td>95</td>\n",
       "      <td>440</td>\n",
       "    </tr>\n",
       "    <tr>\n",
       "      <th>3</th>\n",
       "      <td>nhân_viên phục_vụ không mấy tận_tình , đồ_ăn r...</td>\n",
       "      <td>0</td>\n",
       "      <td>30</td>\n",
       "      <td>138</td>\n",
       "    </tr>\n",
       "    <tr>\n",
       "      <th>4</th>\n",
       "      <td>Vào đây thì hết bàn , nhưng mình vẫn ngồi đợi ...</td>\n",
       "      <td>0</td>\n",
       "      <td>91</td>\n",
       "      <td>429</td>\n",
       "    </tr>\n",
       "    <tr>\n",
       "      <th>...</th>\n",
       "      <td>...</td>\n",
       "      <td>...</td>\n",
       "      <td>...</td>\n",
       "      <td>...</td>\n",
       "    </tr>\n",
       "    <tr>\n",
       "      <th>49996</th>\n",
       "      <td>Quán không_gian nhỏ nhưng khá lịch_sự , sạch_s...</td>\n",
       "      <td>1</td>\n",
       "      <td>68</td>\n",
       "      <td>334</td>\n",
       "    </tr>\n",
       "    <tr>\n",
       "      <th>49997</th>\n",
       "      <td>đi ăn lần 2 : ) ) ) lần này rút kinh_nghiệm ki...</td>\n",
       "      <td>1</td>\n",
       "      <td>93</td>\n",
       "      <td>379</td>\n",
       "    </tr>\n",
       "    <tr>\n",
       "      <th>49998</th>\n",
       "      <td>Mình ăn 2 món , mà quên tên mất rồi , toàn từ ...</td>\n",
       "      <td>1</td>\n",
       "      <td>146</td>\n",
       "      <td>597</td>\n",
       "    </tr>\n",
       "    <tr>\n",
       "      <th>49999</th>\n",
       "      <td>Trong ảnh là\\n • 1 phần mì udon xào\\n • 1 phần...</td>\n",
       "      <td>1</td>\n",
       "      <td>57</td>\n",
       "      <td>237</td>\n",
       "    </tr>\n",
       "    <tr>\n",
       "      <th>50000</th>\n",
       "      <td>địa_điểm : dễ tìm , mậu thân quẹo vào đường bờ...</td>\n",
       "      <td>1</td>\n",
       "      <td>68</td>\n",
       "      <td>312</td>\n",
       "    </tr>\n",
       "  </tbody>\n",
       "</table>\n",
       "<p>50001 rows × 4 columns</p>\n",
       "</div>"
      ],
      "text/plain": [
       "                                                sentence  label  Word_count  \\\n",
       "0      Mua có mỗi Bingsu thập_cẩm 45k mà mình f đợi h...      0          59   \n",
       "1      Thứ 6 nào ta cùng quẩy 💣 💣 💣\\n Vuvuzela beer c...      0         165   \n",
       "2      Mình đi với nhóm , tổng_cộng 4 người ăn chỉ có...      0          95   \n",
       "3      nhân_viên phục_vụ không mấy tận_tình , đồ_ăn r...      0          30   \n",
       "4      Vào đây thì hết bàn , nhưng mình vẫn ngồi đợi ...      0          91   \n",
       "...                                                  ...    ...         ...   \n",
       "49996  Quán không_gian nhỏ nhưng khá lịch_sự , sạch_s...      1          68   \n",
       "49997  đi ăn lần 2 : ) ) ) lần này rút kinh_nghiệm ki...      1          93   \n",
       "49998  Mình ăn 2 món , mà quên tên mất rồi , toàn từ ...      1         146   \n",
       "49999  Trong ảnh là\\n • 1 phần mì udon xào\\n • 1 phần...      1          57   \n",
       "50000  địa_điểm : dễ tìm , mậu thân quẹo vào đường bờ...      1          68   \n",
       "\n",
       "       Char_count  \n",
       "0             227  \n",
       "1             706  \n",
       "2             440  \n",
       "3             138  \n",
       "4             429  \n",
       "...           ...  \n",
       "49996         334  \n",
       "49997         379  \n",
       "49998         597  \n",
       "49999         237  \n",
       "50000         312  \n",
       "\n",
       "[50001 rows x 4 columns]"
      ]
     },
     "execution_count": 39,
     "metadata": {},
     "output_type": "execute_result"
    }
   ],
   "source": [
    "full_df['Word_count'] = full_df['sentence'].apply(lambda x: len(x.split()))\n",
    "full_df['Char_count'] = full_df['sentence'].apply(len)\n",
    "full_df"
   ]
  },
  {
   "cell_type": "code",
   "execution_count": 40,
   "id": "727ab728",
   "metadata": {},
   "outputs": [
    {
     "data": {
      "application/vnd.microsoft.datawrangler.viewer.v0+json": {
       "columns": [
        {
         "name": "index",
         "rawType": "int64",
         "type": "integer"
        },
        {
         "name": "sentence",
         "rawType": "object",
         "type": "string"
        },
        {
         "name": "label",
         "rawType": "int64",
         "type": "integer"
        },
        {
         "name": "Word_count",
         "rawType": "int64",
         "type": "integer"
        },
        {
         "name": "Char_count",
         "rawType": "int64",
         "type": "integer"
        },
        {
         "name": "Mean_word_length",
         "rawType": "float64",
         "type": "float"
        }
       ],
       "conversionMethod": "pd.DataFrame",
       "ref": "78fd2b71-68a3-4b3c-8aaf-632dbf7f82db",
       "rows": [
        [
         "0",
         "Mua có mỗi Bingsu thập_cẩm 45k mà mình f đợi hơn 20 ' . Hỏi lại thì nv tl có r nhg bảo chờ thêm 15 ' nữa \" tụi e lm liền \" .\n Mình k biết có ngon k nhg cũng muốn ăn thử . Thiết_nghĩ nv quán nên xem_lại cách pv và nc vs khách .\n",
         "0",
         "59",
         "227",
         "3.847457627118644"
        ],
        [
         "1",
         "Thứ 6 nào ta cùng quẩy 💣 💣 💣\n Vuvuzela beer club chung hệ_thống Gogi_House , Daruma , Kichi kichi nên giá cũng chưa 10% VAT . Thanh_toán trước 20g hằng ngày đc giảm 30% thức_ăn . Tính ra đc giảm 20% . Cũng zui ! 😊 😊 😊\n Ngồi thư_giãn cũng ok . Thức_ăn cũng ổn . Có mấy món nguyên_liệu bên ngoài hok bik chỗ nào bán nên vô đây ăn . Cơ_mà gọi mấy món đó cũng ko có hàng 😂 😂 😂\n Cháo bồ_câu hình chụp nguyên con bồ_câu mà tìm hoài chỉ thấy phao_câu không thấy đầu bồ_câu . Hỏi e nv e chạy hỏi nhà_bếp đc trả_lời là 1 phần cháo đc tính_toán 1 lượng thịt cố_định theo gram chứ không phải nguyên con chị ơi . 😅 😅 😅\n Ps : Lần sau sẽ rủ trên 4 đứa đi quẩy để đc tặng 10 ly biaaaaaaaaaaaaaa mí đc 🍺 🍺 🍺 🍺 🍺 🍺 🍺 🍺 🍺 🍺\n",
         "0",
         "165",
         "706",
         "4.278787878787878"
        ],
        [
         "2",
         "Mình đi với nhóm , tổng_cộng 4 người ăn chỉ có không tới 150k mà no luôn í . Một con cá_lóc nướng to thiệt to kèm với rau_sống , bún , bánh_tráng đồ luôn là có 90k ah , bắp giò 69k để gói cuốn bánh_tráng chung .\n Bún thêm 5k , bánh_tráng thêm 8k nữa\n Đồ_ăn rẻ , thích_hợp ăn_uống cuối tuần cho gia_đình\n Tuy_nhiên mình thấy nước_chấm không ngon , mắm_nêm có mùi gừng , ăn kỳ kỳ , cá thì nguội quá , chắc là nướng lâu rồi không hâm_nóng lại\n",
         "0",
         "95",
         "440",
         "4.631578947368421"
        ],
        [
         "3",
         "nhân_viên phục_vụ không mấy tận_tình , đồ_ăn ra lâu và không đều , món cơm thịt bò nướng ngon , còn mì soba xào không được ngon cho lắm .\n",
         "0",
         "30",
         "138",
         "4.6"
        ],
        [
         "4",
         "Vào đây thì hết bàn , nhưng mình vẫn ngồi đợi bình_thường để nhân_viên dọn bàn , ai_ngờ dọn xong họ cho tốp khách sau vào ngồi , còn mình thì như vô_hình bị lơ , mình cười nửa miệng rồi bước ra khỏi quán . Có_lẽ vì mình đi 1 mình nên họ ưu_tiên nhóm đông người , vì lợi_nhuận mà xem_thường khách , phục_vụ và phong_cách làm_việc quá tệ_hại , chưa ăn nhưng dù có ngon thì với cách đón_tiếp kiểu này thì mình cũng cho vào sổ_đen !\n",
         "0",
         "91",
         "429",
         "4.714285714285714"
        ],
        [
         "5",
         "Hôm_nay đến aeon có ghé vào quán . Món ăn cũng khá nhưng hơi ít . Không_gian quán cũng ổn\n",
         "0",
         "20",
         "90",
         "4.5"
        ],
        [
         "6",
         "Mình vào lúc 8h tối , cũng không đông khách lắm nhưng chờ hơi lâu . Order 4 món thì ăn giống như nhét kẽ răng ko xi nhê , phải thêm cái lẩu cá sả nữa mới tạm no . Giá hơi mắc , đồ_ăn thì hơi ít , hình_ảnh trên menu đúng mang tính_chất minh_hoạ như em phục_vụ_bàn nói . Có món gà trứng gì đó trong menu để must try mà mình kiu lên thử thấy thất_vọng vô_cùng , 5 người 5 cục thịt gà với mấy cục tỏi , không thấy cái trứng nào hết . Dĩa gỏi bò có vài lát bò còn lại rau với rau . Nói_chung tới ăn 1 lần cho_biết chứ không có ý_định quay lại .\n",
         "0",
         "126",
         "540",
         "4.285714285714286"
        ],
        [
         "7",
         "Thức_ăn quá_đỗi bình_thường , miếng xôi của bạn mình ăn còn sạn !\n Mắc , ko xứng_đáng vs giá_cả\n",
         "0",
         "19",
         "96",
         "5.052631578947368"
        ],
        [
         "8",
         "Mình thấy quán này rất được , nhân_viên phục_vụ nhiệt_tình , vui_vẻ , hào_phóng , khách có yêu_cầu hay thắc_mắc gì đều được trả_lời rất lịch_sự . Trong phần buffet có thức_ăn nhanh với nước là khách tự_phục_vụ nhưng với những khách đi lần đầu hoặc ngại không đi lấy thì nhân_viên rất sẵn_lòng đi lấy đùm mà không hề có phàn_nàn . Mình đã ghé quán rất nhiều lần . Vào cuối tuần quán rất đông nhưng khách cũng không phải ngồi đợi lâu . Nước lẩu của quán ngon , hợp với mình và mình thích , còn mọi người thì mình k biêt . Mọi người hãy ghé quán thưởng_thức để xem điều mình nói là đúng nhé ... chúc mọi người có bữa ăn thoải_mái ở hongkong town\n",
         "0",
         "132",
         "643",
         "4.871212121212121"
        ],
        [
         "9",
         "Hôm_qua đi ăn cùng 7 chị ở công_ty . Quảng_cáo ăn 4 tặng 1 thì lại thành ăn 5 tặng 1 , hỏi ra thì được bảo là chủ em nói thế . Nhân_viên từ đầu đến cuối phục_vụ không 1 nụ_cười , muốn gì phải nói đi nói lại cả 3-4 lần mới có . Thịt bò 3-4 dĩa đầu_tiên còn được , sau đó đem ra toàn thị bò vụn . Tôm không tươi . Lẩu ăn cón được chứ đồ nướng thì quá tệ . Buffet quảng_cáo là bao_gồm nướng , lẩu và điểm sấm , gọi đồ điểm sấm thỉ được bảo là không có bao_gồm trong buffet , menu cũ nên chưa đổi . Yêu_cầu hoá_đơn đỏ thì bảo 3 ngày_sau đến lấy . Túm lại là làm_ăn cẩu_thả và khá gian_dối trong việc quảng_cáo .\n",
         "0",
         "141",
         "608",
         "4.3120567375886525"
        ],
        [
         "10",
         "- Điểm trừ : Mọi thứ đều được \" xắt lát mỏng \" , rau_muống thì \" dai_nhách \" , cải thảo thì bị úng : 3\n - Điểm cộng : Nước lẩu thì vừa ăn , cũng khá ngon . : )\n - Vì là phong_cách tự_phục_vụ nên không có comment gì được\n = > Lời khuyên : Chỉ nên ăn \" lót_dạ \" cho_biết thui , chớ ăn nhiu đây đói lắm à : 3\n",
         "0",
         "77",
         "306",
         "3.9740259740259742"
        ],
        [
         "11",
         "Không_gian quán ok như những quán king khác .\n Đồ_ăn ngoài kệ thì nhiều nhưng_mà đồ gì đâu không ngon . Tráng_miệng thì ok nhất . Kem ở king thì siêu ngon rồi . Rau_câu chè cũng ok .\n Về phần thịt thì_phải nói là siêu dở . Dở nhất trong những quán hq mình từng ăn luôn . Thịt nướng mà đông đá cứng ngắt . Nướng lên có nghe mùi_vị gì nữa đâu . Thấy kinh_khủng .\n Nv thì hách nhất_là ông kia . Kiu k trả_lời liền đâu . Bạn mình để quên đồ mà ở đó nói là tưởng rác mang đi giục luôn . Hâh .\n Ai k biết ăn_ở đây rồi chắc k dám ăn king ở tp nữa luôn qua . Mất_mặt cả chi_nhánh\n",
         "0",
         "131",
         "572",
         "4.366412213740458"
        ],
        [
         "12",
         "Quán đơn_giản nhưng đặc_biệt bánh rất ngon , nước uống gía cũng ổn , phục_vụ chu_đáo và quản_lý rất thân_thiện , mỗi lần đi Aeon_Mall_Bình_Dương là mình hay ghé để ăn 1 cái bánh nhân nho khô\n",
         "0",
         "37",
         "191",
         "5.162162162162162"
        ],
        [
         "13",
         "Món ăn khá ngon và no nhưng phục_vụ thái_độ quá kém và tệ . Không hề hài_lòng với chế_độ Refill . Mình cầm ly nước ra ngoài tầm 15 phút sau quay lại với bạn thì được thông_báo rằng nước đã đem ra ngoài xin vui_lòng order ly mới . Pó tay cái kiểu tiêu_chuẩn MỸ phục_vụ kiểu VN\n",
         "0",
         "59",
         "276",
         "4.677966101694915"
        ],
        [
         "14",
         "Ngày_trước đồ_ăn còn khá ngon nhưng giờ mình thấy bớt nhiều rồi . Nhân_viên phục_vụ không tốt , nếu_không muốn nói là thái_độ .\n",
         "0",
         "24",
         "128",
         "5.333333333333333"
        ],
        [
         "15",
         "Bánh của Luxe ăn được , trang_trí bắt_mắt . Vì chưa thử hết các loại nên không biết ngon hết không . Nhưng nước ở đây uống khá ngon . Không_gian thì không được rộng lắm\n",
         "0",
         "36",
         "169",
         "4.694444444444445"
        ],
        [
         "16",
         "Lại là gần trường cả nổi_tiếng nên đến ăn thử , thực_sự thì rất ko hài_lòng : ) ) ko gian ngoài hè nhìn hơi ko ổn nhưng vì thoáng nên cũng bỏ_qua . Gọi đồ_ăn phải đợi quá lâu , mà cái bánh crepe bơ chanh đường chua ko thể tả được , như vắt mấy quả chanh vào ấy , xong lại còn đắng đắng , crepe thịt hun khói thì chẳng có gì đặc_biệt cả , sữa_chua đánh_đá thì ống hút tắc ko thể hút đc . Hôm ấy đi ăn cùng bạn mà phải bỏ hơn nửa đĩa bơ chanh đường , thực_sự thì ko ăn nổi nữa . Tóm_lại sẽ ko bao h đến lần sau !\n",
         "0",
         "122",
         "511",
         "4.188524590163935"
        ],
        [
         "17",
         "Mình vào quán khi bên GoGi đông khách , và phải chờ , trong khi đang đói bụng , cảnh_tượng đầu_tiên khi vào quán là sàn nhà dường_như không được quét_dọn , rác , khăn giấy và đồ_ăn thừa đầy sàn , bàn ăn lau không kỹ , gọi món thì khá lâu mới có đồ_ăn , nhân_viên phục_vụ thái_độ không tận_tình , chả dám đến lần hai , không hiểu chất_lượng như thế_mà cũng được nằm trong aeon mail .\n",
         "0",
         "81",
         "383",
         "4.728395061728395"
        ],
        [
         "18",
         "Sự_việc xảy_ra và ngày 31-10-2015 . Tôi và bạn vào nhà_hàng Đôi_Đũa_Vàng tại tầng 2 của trung_tâm thương_mại AEONMALL Bình_Dương vào lúc 20h05 . Chính_xác là tôi và bạn ngồi bàn số 6 , chúng_tôi gọi món , ngồi đợi và mọi việc bắt_đầu_từ đây . Sau khi ngồi đợi 5 phút và có phục_vụ mang menu tới cho chúng_tôi gọi món và thức uống xong chúng_tôi ngồi đợi tiếp 20 phút sau và chẳng thấy phục_vụ mang nước lên hoặc có động_thái gì cả . Sau khi thấy những khách vào sau đã có thức_ăn , tôi gọi phục_vụ để hỏi . 2 lần đầu phục_vụ nhìn xong gật_đầu , nhưng không thấy ai_lại . lần thứ 3 gọi một phục_vụ nữ thì tôi nhận được một ánh nhìn liếc qua và bỏ đi không nói_năng gì cả . lần thứ 4 gọi thì_có phục_vụ lại và tôi hỏi đã có những món tôi gọi chưa và có_thể mang nước lên trước không ? Anh nhân_viên ấy chạy vào và hỏi phía trong là “ món của khách có chưa mà_sao khách ngồi đợi lâu quá kìa ? ” ( lúc này đồng_hồ là 20h40 , chúng_tôi đã đợi 35 phút ) . 5 phút sau anh phục_vụ chạy ra và cầm theo 2 cái menu như lúc đầu và nói chúng_tôi hãy gọi món lại . Tôi hỏi lý_do và gì vậy a ? Anh_ấy trả_lời là “ cái bill anh_chị gọi món bị mất đâu rồi ” Tôi không_thể chấp_nhận được một thái_độ phục_vụ như_vậy được . Tôi tự hỏi một nhà_hàng như_vậy mà_lại có dịch_vụ tệ đến như_thế sao ? Và quan_trọng nhất_là tại_sao có_nhân viện phục_vụ có thái_độ coi_thường khách đến như_thế ? Khách hang hỏi mà chỉ có vỏn_vẹn một ánh mắt liếc nhìn lại và chẳng có lời_nói nào . Tôi muốn hỏi liệu tôi đang được phục_vụ hay_là đang đi xin ?\n",
         "0",
         "320",
         "1515",
         "4.734375"
        ],
        [
         "19",
         "1 ngày làm_việc mêt mỏi . Phi xe ra quán_ăn lẩu cá . Lần đầu_vào quán . cảm_nhận nhân_viên phục_vụ nhiệt_tình , lẩu cả khá ngon , thích nhất món tôm nướng . Mà quán có món gà xé cũng ngon phết . Điểm chê là rau kèm lẩu ít hơn so với chỗ khác .\n",
         "0",
         "56",
         "244",
         "4.357142857142857"
        ],
        [
         "20",
         "Mình ăn bún đậu ở đây nhiều lần rồi , chủ_yếu vào buổi_trưa , cũng là giờ các anh_chị sinh_viên đến ăn rất đông nên có khi_không có chỗ mà ngồi . Bún thì ngon nhưng mình có cảm_giác càng_ngày_càng ít nem và bún . Phục_vụ cũng rất chậm nhưng có_thể thông_cảm vì khách đông .\n",
         "0",
         "56",
         "274",
         "4.892857142857143"
        ],
        [
         "21",
         "Quán nằm trong ngõ . đối_diện hiway hà đông . bạn mình có người quen làm ở đây nên dẫn qua uống ủng_hộ\n Trang_trí quán đẹp . nhiều tầng . tất_cả 7 tầng thì_phải . có thang_máy . các phòng có điều_hòa . wifi gia_đình dùng chung cho 7 tầng nên khá yếu\n Có cả đồ_ăn và đồ uống . bánh ngọt nhìn đẹp_mắt nhưng chưa ăn thử nên không biết chất_lượng ra_sao\n Mình uống trà sữa chân trâu đặc_biệt . uống thì rất nhạt . chưa bh uống cốc trà sữa nào chán như này . pingpang ăn thì ổn . ăn bỏng ngô xong uống cốc trà sữa kia vào thì quá chán luôn . nó có vị cứ ngang_ngang chả ra làm_sao\n Trà sữa kiểu nhái dingtea . cốc bé kia_mà 20k.chắc lần sau ko uống nữa . vừa xa nhà lại chẳng ra_gì\n Lần sau sẽ quay lại quán thử các món khác rồi nhận_xét tiếp . nếu lần sau vẫn chán như này thì bỏ luôn mất\n",
         "0",
         "172",
         "785",
         "4.563953488372093"
        ],
        [
         "22",
         "Hôm chủ_nhật , 29/11 mình đinh đến ăn vì tìm thông_tin thấy rất ngon , giá_cả hợp_lý ...\n mà đến thấy đóng_cửa mất_tiêu , sập xệ , bảng_hiệu còn rách . mọi ng cập_nhật dùm quán này còn hoạt_động hay ko vây ? : ( (\n tìm cả buổi vòng_vòng cuối_cùng đóng_cửa  \n p / s : chưa có ăn_uống đc gì nên cũng ko biết đánh_giá điểm ntn ?\n",
         "0",
         "69",
         "326",
         "4.72463768115942"
        ],
        [
         "23",
         "Mình bít tới chỗ này do 1 bạn bình_luận so_sánh với nhà_hàng buffet nét việt , bạn ấy bảo Hương_Quê vừa rẻ vừa ngon ( bên nét việt mua voucher hotdeal là 119k ) , phục_vụ lại tốt rất ok , lên foody xem review cũng thấy đc khen nức_nở nên quyết_tâm đến ăn thử , nếu ok thì lại có thêm 1 quán ruột .\n Tới thử rồi chỉ mún la_làng , quá tệ . Hok hề có 40 món như quảng_cáo , chỉ vài món le que mà hết còn hok thèm chăm lên , nêm nếm thì quá mặn , quầy lẩu thì_có mỗi mấy cái đầu cá ương hết lên lun . Lần đầu_tiên đi ăn buffet mà về ngay sau 30p và phải ra Aeon_Mall ăn hủ tíu gõ và 2 ly trà đào vì đói .\n Thấy review tốt quá mà tới thử thì kinh_sợ hoàn_toàn . Thôi xin chừa , từ nay hok ham rẻ và tin vào review , hình_ảnh quảng_cáo câu_khách để mất tiền oan nữa . Cứ tới quán quen mà ăn , dù có mắc hơn hay rẻ hơn thì cũng tốt hơn chỗ này nhìu , 100k/người mà thua tô hủ tíu gõ 12k .\n",
         "0",
         "207",
         "882",
         "4.260869565217392"
        ],
        [
         "24",
         "Quán nhỏ , nóng , đồ_ăn ít chịu châm khi hết , nhân_viên phục_vụ ok\n",
         "0",
         "15",
         "68",
         "4.533333333333333"
        ],
        [
         "25",
         "Kêu ly Cafe_Latte đá ( lỗi 1 phần do mình ko coi menu và kêu vì mình hay uống Latte ) nhìn cái ly thể_loại cafe Ý rất ư là ngỡ_ngàng , nhìn ko khác_nào ly sữa_tươi bỏ thêm cafe . Càng ko ngờ hơn ly cafe bần vậy giá 77k , ko đáng 1 chút nào . Phải_chi cái ly đẹp , nhìn sang chảnh chuyên_nghiệp như đúng bản_chất cafe Ý thì bỏ tiền ra cũng thấy đáng .\n Nhân_viên nhìn mặt ai_nấy y_như mất sổ gạo .\n Trung_Nguyen từ lúc thêm dc chữ Legend , thay_đổi diện_mạo thì giá cũng thay_đổi theo . Oải chè\n",
         "0",
         "107",
         "494",
         "4.616822429906542"
        ],
        [
         "26",
         "Không bằng tiệm cũ ngày_trước . Bgiờ ăn cơm đảo khô , chỉ hơn cơm_rang bụi 1 chút . Cơm trắng ( cơm tấm ngày_xưa tiệm cũ rất ngon ) giờ ở đây thì kém hơn .\n Mọi ng ăn hay gọi thêm sốt - sốt này ko có gì đạc biệt . Nấu bằng tương cà + nước + bột thôi\n",
         "0",
         "62",
         "250",
         "4.032258064516129"
        ],
        [
         "27",
         "Không_gian bên đây nhỏ , ngồi hơi chán . Phục_vụ cũng bình_thường .\n",
         "0",
         "13",
         "68",
         "5.230769230769231"
        ],
        [
         "28",
         "Qán BBQ cũ chuyển qa Lê_Hồng_Phong rồi ! ! Qán BBQ nguyễn chí thanh buôn_bán xạo lắm ! ! Tới qán gọi thịt bò mà đem ra toàn thịt heo ! ! Đi một lần là tởn tới già\n",
         "0",
         "39",
         "163",
         "4.17948717948718"
        ],
        [
         "29",
         "Quán phù_hợp cho các bạn mê ăn vặt . Có nhiều món đa_dạng như bánh ép , bánh_tráng trứng , bánh kẹp , bò bía . Riêng mình thì thấy gần đây bánh ép không còn ngon như trước . Bánh_tráng trứng ăn ngon nhưng nếu được nướng thì ăn ngon hơn chiên .\n",
         "0",
         "54",
         "244",
         "4.518518518518518"
        ],
        [
         "30",
         "Lâ ̀ n đâ ̀ u đi ăn ba ́ nh e ́ p huê ́ .\n Thâ ́ y la ̣ la ̣ ma ̀ cu ̃ ng re ̉ .\n 2k/ca ́ i cuô ́ n vơ ́ i rau_răm , dưa chua , dưa_leo châ ́ m nươ ́ c mă ́ m .\n Tuyê ̣ t ! ! ! !\n",
         "0",
         "64",
         "179",
         "2.796875"
        ],
        [
         "31",
         "Quán nhỏ nhưng view nhìn đẹp . Choco_Vanila ngon , Cafe_Hazenut đắng không có vị của Hazenut . Giá cũng ok ! Có dịp sẽ quay lại ...\n",
         "0",
         "28",
         "132",
         "4.714285714285714"
        ],
        [
         "32",
         "Ba_Động là một trong những địa_điểm du_lịch ở Trà_Vinh . Bọn mình tới đây cũng nhiều lần ( vì dân miền Tây mà ) . Không_gian vẫn còn hoang_sơ nên khách không nhiều , đi chơi theo nhóm cũng thoải_mái . Vì là biển phù_sa nên nước đục và không đẹp . Chi_phí ăn_uống và sinh_hoạt ở đây cũng khá rẻ . Mình thích nhất_là những rặng dương xanh nghi_ngút dọc bờ biển , lúc chơi mệt có_thể vào tránh nắng mà không cần thuê dù . Bãi_biển khi cạn khá rộng nên thích_hợp cho những chuyến picnic , chơi thể_thao ... Nhìn_chung thì so_sánh về mặt giá_cả , phong_cảnh cũng tạm ổn . Các bạn nên đến thử 1 lần xem sao !\n",
         "0",
         "124",
         "603",
         "4.862903225806452"
        ],
        [
         "33",
         "Ai muô ́ n ti ̀ m ra thi ̀ dâ ̃ n mi ̀ nh đi ăn đi\n",
         "0",
         "19",
         "51",
         "2.6842105263157894"
        ],
        [
         "34",
         "Mình và bạn nghe đồn quán ngon . ai dè khi ra thì quán vắng , nằm trog góc hẻm , khó kiếm , nhìn như mê_cung , giá đắt so với các quán ốc mình từng ăn , chỗ lại bẩn , ốc móng tay có mùi tanh kinh_khủng như để lâu ngày . không_gian chật_chội , mình ngồi còn ko dám ngồi , phục_vụ thì cứ hỏi như ép cung mình ăn thêm . quá tệ\n",
         "0",
         "78",
         "324",
         "4.153846153846154"
        ],
        [
         "35",
         "Ở đây là quán ngồi vỉa_hè mà giá khá đắt , menu không có tính tiền ghi sổ rồi đưa mình check lại . bọn mình đi 4 người gọi 1 set nướng đầy_đủ không gan và lòng giá 400k . Đồ_ăn ở đây thì bình_thường ướp hơi bị mặn . Kim_chi thì muối bị sống ăn bị hăng , cải thảo vẫn còn trắng nguyên luôn , mình gọi rượu Atiso uống thử thì chả thấy vị thơm của Atiso đâu chỉ thấy uống chả khác_gì rượu bình_thường hay uống , trà đá thì nhạt như nước_lọc ý . Lúc mình gọi thêm bò nầm nướng thì ko thấy có khoai_lang , cà_tím , đậu nhật như đĩa đầu gọi hỏi nhân_viên thì họ bào hết mà lúc đó mới 8h tối chứ mấy . Gọi đĩa khoai_tây chiên ra trẻ_con ăn thì vừa non vừa ỉu .\n Nhân_viên phục_vụ được_cái niềm_nở nhưng chậm_chạp vãi .\n Bọn mình đi 4 người ăn hết tổng là 830k .\n",
         "0",
         "168",
         "755",
         "4.494047619047619"
        ],
        [
         "36",
         "Quán bé lại còn bị che_khuất bở trạm xe bus nên dễ đi qua mà k nhìn thấy . Sữa_chua các loại ăn ngon chứ chè thì chả ra_sao . Kem xôi ăn cũng tạm\n",
         "0",
         "35",
         "146",
         "4.171428571428572"
        ],
        [
         "37",
         "Mấy lần đi qua đều thấy đóng_cửa 😢 😢 😢 chưa có dịp thử\n",
         "0",
         "14",
         "55",
         "3.9285714285714284"
        ],
        [
         "38",
         "M thích kem xôi ngon vầ rẻ . Chè bơ thì k ngon như trc nữa . Sữa_chua quá chua như ko cho đường\n",
         "0",
         "24",
         "96",
         "4.0"
        ],
        [
         "39",
         "Ăn_ở đây từ tuần khai_trương mà thấy bánh vừa đắt vừa không ngon , nhạt_nhẽo & hương_vị bình_thường . Combo cũng ko rẻ hơn mua_lẻ là mấy , thấy quảng_cáo rầm_rộ nên đi ăn mà ăn xong thất_vọng tràn_trề : - <\n",
         "0",
         "42",
         "207",
         "4.928571428571429"
        ],
        [
         "40",
         "Không_gian : Chật_hẹp chỉ có vài cái bàn thôi\n Đồ uống : Cực dở luôn . Mình gọi smothie xoài nhg rõ_ràng vị xoài là của nước ép xoài đóng_hộp . Chán ko thể tả được . Bạn mình gọi vị chanh leo thì hắc hắc\n Giá : Bình_thường nhg quá đắt so với chất_lượng\n Wifi kém lắm .\n Nói_chung là mình sẽ ko bao_giờ quay lại\n",
         "0",
         "67",
         "311",
         "4.641791044776119"
        ],
        [
         "41",
         "Ăn bi ̀ nh thươ ̀ ng . Hai đư ́ a ăn su ̉ i ca ̉ o va ̀ su ̉ i ca ̉ o my ̀ ta ̣ m đươ ̣ c vơ ́ i gia ́ 35k . Qua ́ n dơ ̀ i ra mă ̣ t tiê ̀ n đươ ̀ ng NTP nên dê ̃ ti ̀ m\n",
         "0",
         "65",
         "171",
         "2.6307692307692307"
        ],
        [
         "42",
         "Quán này đã dời địa_điểm sang 106a Phùng_Văn_Cung f7 quận Phú_Nhuận rồi nha mọi ng Giờ trong địa_chỉ cũ vẫn có quán ghi là hải_sản Bình_Ba luôn nhưng k ngon nha , hải_sản k tươi , phục_vụ chậm giá cao , ngồi trong bóng_tối nha Mọi ng lưu_ý tránh chuốc thêm bực_bội và ăn k vui nha , thanks ! ! !\n",
         "0",
         "62",
         "296",
         "4.774193548387097"
        ],
        [
         "43",
         "Quán nằm gần trường Trấn_Biên , buổi chiều tan học đông cực . Chả lụi cũng bình_thường như những chỗ khác vì lấy chung một chỗ . Thái_độ phục_vụ kém , cô bán luôn tỏ_vẻ khó_chịu .\n",
         "0",
         "37",
         "180",
         "4.864864864864865"
        ],
        [
         "44",
         "Đa ̃ ăn 1 lâ ̀ n ơ ̉ đây va ̀ se ̃ ca ̣ ch tơ ́ i gia ̀ . Tha ́ i đô ̣ phu ̣ c . Ụ ke ́ m : ăn hê ́ t rau hê ́ t tương xin lâ ̀ n đâ ̀ u tiên pha ̉ i đơ ̣ i lâu va ̀ pha ̉ i nhă ́ c tơ ́ i lâ ̀ n thư ́ 2 du ̀ qua ́ n ko đông . Chu ̉ qua ́ n co ́ tha ́ i đô ̣ kho ́ chi ̣ u . Nho ́ m 3 ng ăn xong vê ̀ tô ́ i bi ̣ đau quă ̣ n bu ̣ ng\n",
         "0",
         "125",
         "334",
         "2.672"
        ],
        [
         "45",
         "Hôm_nay đi qua , vào gọi gà luộc . Ngồi nhâm_nhi lon bia một lúc thì thấy bê cơm ra . Hỏi gà đâu thì một lúc sau mới bảo hết rồi . Chán ! Cần cải_tạo cách phục_vụ của nhân_viên cho tốt hơn .\n Giá_cả thì cũng không phải là rẻ gì , tuy có niêm_yết chi_tiết . Tất_nhiên là rẻ hơn Hà_Nội hay Hạ_Long rồi . Được_cái nhà_hàng rộng_rãi , mát_mẻ ( miền núi mà ) , sạch_sẽ và tiện đường nhất trên Tiên_Yên . Nếu các bạn đi đông thì sẽ được ưu_tiên phục_vụ ( ăn nhiều 😁 ) . Nếu_không là phải gọi mỏi mồm đấy .\n Không có bánh gật_gù tại quán như các bạn Quảng ninh hay quảng_cáo đâu . Chắc món đấy làm lâu công . Món khâu nhục không dậy_mùi tỏi , chưa đạt yêu_cầu , như thịt ba_chỉ kho thường . Nếu bạn nào ăn_ở Hoành_Bồ rồi sẽ so_sánh được ngay .\n Nói_chung là có_tiếng do ở Tiên_Yên thôi . Phía dưới gần lối đi Ba_Chẽ cũng có vài nhà_hàng còn lớn hơn nhiều , xe đậu thoải_mái .\n",
         "0",
         "188",
         "869",
         "4.622340425531915"
        ],
        [
         "46",
         "Quán cũng khá nhỏ đồ uống cũng được mèo thấy đồ_ăn là sán vô con hết r chúng_nó chổng đít quay di max phũ : ) ) ) ) ) ) ncl đến nhiều r nhung gio moi review cho quán ... . ncl.ổn\n",
         "0",
         "44",
         "179",
         "4.068181818181818"
        ],
        [
         "47",
         "Đồ uống cũng bình_thường như bao quán khác , mèo ở đây nó cứ lờ_đờ bệnh bệnh thế_nào ấy\n",
         "0",
         "19",
         "88",
         "4.631578947368421"
        ],
        [
         "48",
         "+ ) Ưu_điểm : Rộng_rãi khang_trang , trang_trí theo hơi_hướng Hàn_Quốc vì h cgv của HQ nên bài_trí như_vậy cũng k có j là_lạ : ) KHông gian rộng thôi rồi , thiet kế như kiểu 1 khu chờ tàu_điện_ngầm vậy : ) rộng đến_nỗi như kiểu đi mãi không hết_ý ! có hôm tìm phòng chiếu mãi mới thấy vì nó o trong góc : ) nếu_mà đến đây để chụp choẹt chắc chụp cả ngày không thấy chán mất , thích nhất_là khu có ghế sofa ngồi êm mà kể_cả ngồi bao_lâu cũng chả ai duoi . kiểu đến cgv hà đông cảm_giác thoải_mái lắm ý chả ai quản : ) ) cảm_thấy tự_do như ở nhà . Nhà_vệ_sinh đẹp các chị_em nào mà nghiện tự sướng thì có_thể vào tự sướng thoai mái nhé k ai cản đâu : ) ) cái gương trong WC nữ như kiểu bàn trang_điểm ý xinh dã_man , À ưu_điểm nữa_là khu để xe rộng_rãi bảo vẹ vui_tính , k mất phí gửi xe nên các bạn yên_tâm\n + ) Nhược_điểm : Quá xa trung_tâm thành_phố , mặc_dù vé ở đây nhiều lúc rẻ hơn ở các cgv khác   nhưng cứ nghĩ đến viec xuống đây xem phim la mình thấy ngại rồi ý : ) ) ngày thứ 4 vé đồng giá 50k nhé các bạn rẻ hơn cgv khác nên có hôm mình ham_hố xuống xem mặc_kệ trời nắng gắt thế_là vì tiết_kiệm 25k mà xem xong về ốm luôn : ) ) ) nên nếu ai nhà xa quá thì đừng cố nhé ko lại quá_cố ! Nhược_điểm nữa_là nhân_viên ở đây làm_ăn ko chuyên_nghiệp , nói_năng khó nghe , kiểu nhân_viên nói nhanh ko rõ_ràng ý , hôm đấy mình mua 3 vé xem phim chưa hỏi mình muốn lấy combo bỏng nước ko đã tự_động cho_rồi , mình nói mình ko mua combo mà_sao tự_dưng cho thì lại còn mắng lại bảo sao k tự để_ý vé thấy rẻ nthe mà k phàn_nàn luôn in vé rồi ko đổi dc nữa : ) Xong cũng hứa_hẹn bảo quản_lý ra giải_quyết rồi cũng mất_tăm_mất_tích luôn . may là lúc đấy cũng có khách muốn mua bỏng nên mình thương_lượng đc vs ng ta mua hộ cho mình phần combo : ) nhân_viên vô_trách_nhiệm và thái_độ , thật_sự làm minh thấy khó_chịu , xem mất tiền phải để khách thấy vui_vẻ chư nhưng chưa xem đã mất vui rồi , ko phải mình đánh_đồng vs toàn_bộ nhân_viên của CGV . Mình nhận_xét thẳng_thắn luôn nhân_viên CGV bên LOtte và bên Bà triệu mình tháy rất ok , phục_vụ rất đc chỉ có bên CGV hà đông là như_vậy thoi : ) chưa kể dù_sao cgv này cũng ở bên HÀ đông ko phải vung trung_tâm nên ng xem cũng khá mất lịch_sự ! Vào rạp thì nói to , nghe đt xong các thứ cảm_giác như đang xem ở rạp quốc_gia vậy ! Đúng là cái j rẻ quá cũng ko tốt ! khuyên các bạn muốn đổi gió thì đến đây xem thử 1 2 lần thôi rồi các bạn cũng sẽ cảm_nhận giống mình thôi : )\n",
         "0",
         "531",
         "2416",
         "4.549905838041432"
        ],
        [
         "49",
         "Món ăn thì cũng ngon , khg có gì đáng nói , giá_cả bình_dân hợp túi_tiền\n quán trong hẻm rộng_rãi , xe để kế bên cũng an_tâm\n chỉ có là order xong ngồi chờ rã cả họng anh thanh_niên đẹp chai mới tàn tàn lại thông_báo món này hết ròi , kiu order món khác giùm , lại 1 khoảng thời_gian dài đằng_đẵng nữa chờ_đợi trong tuyệt_vọng , tới mức hết chuyện để 8 với nhau mới thấy có món dọn lên .\n ăn_ở đây 2 lần , lần nào cũng vậy\n",
         "0",
         "92",
         "423",
         "4.5978260869565215"
        ]
       ],
       "shape": {
        "columns": 5,
        "rows": 50001
       }
      },
      "text/html": [
       "<div>\n",
       "<style scoped>\n",
       "    .dataframe tbody tr th:only-of-type {\n",
       "        vertical-align: middle;\n",
       "    }\n",
       "\n",
       "    .dataframe tbody tr th {\n",
       "        vertical-align: top;\n",
       "    }\n",
       "\n",
       "    .dataframe thead th {\n",
       "        text-align: right;\n",
       "    }\n",
       "</style>\n",
       "<table border=\"1\" class=\"dataframe\">\n",
       "  <thead>\n",
       "    <tr style=\"text-align: right;\">\n",
       "      <th></th>\n",
       "      <th>sentence</th>\n",
       "      <th>label</th>\n",
       "      <th>Word_count</th>\n",
       "      <th>Char_count</th>\n",
       "      <th>Mean_word_length</th>\n",
       "    </tr>\n",
       "  </thead>\n",
       "  <tbody>\n",
       "    <tr>\n",
       "      <th>0</th>\n",
       "      <td>Mua có mỗi Bingsu thập_cẩm 45k mà mình f đợi h...</td>\n",
       "      <td>0</td>\n",
       "      <td>59</td>\n",
       "      <td>227</td>\n",
       "      <td>3.847458</td>\n",
       "    </tr>\n",
       "    <tr>\n",
       "      <th>1</th>\n",
       "      <td>Thứ 6 nào ta cùng quẩy 💣 💣 💣\\n Vuvuzela beer c...</td>\n",
       "      <td>0</td>\n",
       "      <td>165</td>\n",
       "      <td>706</td>\n",
       "      <td>4.278788</td>\n",
       "    </tr>\n",
       "    <tr>\n",
       "      <th>2</th>\n",
       "      <td>Mình đi với nhóm , tổng_cộng 4 người ăn chỉ có...</td>\n",
       "      <td>0</td>\n",
       "      <td>95</td>\n",
       "      <td>440</td>\n",
       "      <td>4.631579</td>\n",
       "    </tr>\n",
       "    <tr>\n",
       "      <th>3</th>\n",
       "      <td>nhân_viên phục_vụ không mấy tận_tình , đồ_ăn r...</td>\n",
       "      <td>0</td>\n",
       "      <td>30</td>\n",
       "      <td>138</td>\n",
       "      <td>4.600000</td>\n",
       "    </tr>\n",
       "    <tr>\n",
       "      <th>4</th>\n",
       "      <td>Vào đây thì hết bàn , nhưng mình vẫn ngồi đợi ...</td>\n",
       "      <td>0</td>\n",
       "      <td>91</td>\n",
       "      <td>429</td>\n",
       "      <td>4.714286</td>\n",
       "    </tr>\n",
       "    <tr>\n",
       "      <th>...</th>\n",
       "      <td>...</td>\n",
       "      <td>...</td>\n",
       "      <td>...</td>\n",
       "      <td>...</td>\n",
       "      <td>...</td>\n",
       "    </tr>\n",
       "    <tr>\n",
       "      <th>49996</th>\n",
       "      <td>Quán không_gian nhỏ nhưng khá lịch_sự , sạch_s...</td>\n",
       "      <td>1</td>\n",
       "      <td>68</td>\n",
       "      <td>334</td>\n",
       "      <td>4.911765</td>\n",
       "    </tr>\n",
       "    <tr>\n",
       "      <th>49997</th>\n",
       "      <td>đi ăn lần 2 : ) ) ) lần này rút kinh_nghiệm ki...</td>\n",
       "      <td>1</td>\n",
       "      <td>93</td>\n",
       "      <td>379</td>\n",
       "      <td>4.075269</td>\n",
       "    </tr>\n",
       "    <tr>\n",
       "      <th>49998</th>\n",
       "      <td>Mình ăn 2 món , mà quên tên mất rồi , toàn từ ...</td>\n",
       "      <td>1</td>\n",
       "      <td>146</td>\n",
       "      <td>597</td>\n",
       "      <td>4.089041</td>\n",
       "    </tr>\n",
       "    <tr>\n",
       "      <th>49999</th>\n",
       "      <td>Trong ảnh là\\n • 1 phần mì udon xào\\n • 1 phần...</td>\n",
       "      <td>1</td>\n",
       "      <td>57</td>\n",
       "      <td>237</td>\n",
       "      <td>4.157895</td>\n",
       "    </tr>\n",
       "    <tr>\n",
       "      <th>50000</th>\n",
       "      <td>địa_điểm : dễ tìm , mậu thân quẹo vào đường bờ...</td>\n",
       "      <td>1</td>\n",
       "      <td>68</td>\n",
       "      <td>312</td>\n",
       "      <td>4.588235</td>\n",
       "    </tr>\n",
       "  </tbody>\n",
       "</table>\n",
       "<p>50001 rows × 5 columns</p>\n",
       "</div>"
      ],
      "text/plain": [
       "                                                sentence  label  Word_count  \\\n",
       "0      Mua có mỗi Bingsu thập_cẩm 45k mà mình f đợi h...      0          59   \n",
       "1      Thứ 6 nào ta cùng quẩy 💣 💣 💣\\n Vuvuzela beer c...      0         165   \n",
       "2      Mình đi với nhóm , tổng_cộng 4 người ăn chỉ có...      0          95   \n",
       "3      nhân_viên phục_vụ không mấy tận_tình , đồ_ăn r...      0          30   \n",
       "4      Vào đây thì hết bàn , nhưng mình vẫn ngồi đợi ...      0          91   \n",
       "...                                                  ...    ...         ...   \n",
       "49996  Quán không_gian nhỏ nhưng khá lịch_sự , sạch_s...      1          68   \n",
       "49997  đi ăn lần 2 : ) ) ) lần này rút kinh_nghiệm ki...      1          93   \n",
       "49998  Mình ăn 2 món , mà quên tên mất rồi , toàn từ ...      1         146   \n",
       "49999  Trong ảnh là\\n • 1 phần mì udon xào\\n • 1 phần...      1          57   \n",
       "50000  địa_điểm : dễ tìm , mậu thân quẹo vào đường bờ...      1          68   \n",
       "\n",
       "       Char_count  Mean_word_length  \n",
       "0             227          3.847458  \n",
       "1             706          4.278788  \n",
       "2             440          4.631579  \n",
       "3             138          4.600000  \n",
       "4             429          4.714286  \n",
       "...           ...               ...  \n",
       "49996         334          4.911765  \n",
       "49997         379          4.075269  \n",
       "49998         597          4.089041  \n",
       "49999         237          4.157895  \n",
       "50000         312          4.588235  \n",
       "\n",
       "[50001 rows x 5 columns]"
      ]
     },
     "execution_count": 40,
     "metadata": {},
     "output_type": "execute_result"
    }
   ],
   "source": [
    "full_df['Mean_word_length'] = full_df['Char_count'] / full_df['Word_count']\n",
    "full_df"
   ]
  },
  {
   "cell_type": "code",
   "execution_count": 41,
   "id": "127bcf14",
   "metadata": {},
   "outputs": [
    {
     "data": {
      "image/png": "[encoded data removed]",
      "text/plain": [
       "<Figure size 1200x600 with 1 Axes>"
      ]
     },
     "metadata": {},
     "output_type": "display_data"
    }
   ],
   "source": [
    "## Plot the distribution of word count respect to label \n",
    "plt.figure(figsize=(12, 6))\n",
    "sns.histplot(data=full_df, x='Word_count', hue='label', kde=True)\n",
    "plt.title('Distribution of word count respect to label')\n",
    "plt.show()"
   ]
  },
  {
   "cell_type": "code",
   "execution_count": 42,
   "id": "3bee73c3",
   "metadata": {},
   "outputs": [
    {
     "data": {
      "image/png": "[encoded data removed]",
      "text/plain": [
       "<Figure size 1200x600 with 1 Axes>"
      ]
     },
     "metadata": {},
     "output_type": "display_data"
    }
   ],
   "source": [
    "# Plot the distribution of character count respect to label\n",
    "plt.figure(figsize=(12, 6))\n",
    "sns.histplot(data=full_df, x='Char_count', hue='label', kde=True)\n",
    "plt.title('Distribution of character count respect to label')\n",
    "plt.show()"
   ]
  },
  {
   "cell_type": "code",
   "execution_count": 43,
   "id": "57da7d6e",
   "metadata": {},
   "outputs": [
    {
     "data": {
      "image/png": "[encoded data removed]",
      "text/plain": [
       "<Figure size 1200x600 with 1 Axes>"
      ]
     },
     "metadata": {},
     "output_type": "display_data"
    }
   ],
   "source": [
    "# Plot the mean word length respect to label\n",
    "plt.figure(figsize=(12, 6))\n",
    "sns.histplot(data=full_df, x='Mean_word_length', hue='label', kde=True)\n",
    "plt.title('Distribution of mean word length respect to label')\n",
    "plt.show()"
   ]
  },
  {
   "cell_type": "markdown",
   "id": "d1877738",
   "metadata": {},
   "source": [
    "# **Keep Vietnamese dataset**"
   ]
  },
  {
   "cell_type": "code",
   "execution_count": 51,
   "id": "2f3301f5",
   "metadata": {},
   "outputs": [],
   "source": [
    "full_df['language'] = full_df['sentence'].apply(detect)\n",
    "languages = full_df['language'].nunique()"
   ]
  },
  {
   "cell_type": "code",
   "execution_count": 52,
   "id": "dfa7f491",
   "metadata": {},
   "outputs": [
    {
     "data": {
      "text/plain": [
       "0        vi\n",
       "1        vi\n",
       "2        vi\n",
       "3        vi\n",
       "4        vi\n",
       "         ..\n",
       "49996    vi\n",
       "49997    vi\n",
       "49998    vi\n",
       "49999    vi\n",
       "50000    vi\n",
       "Name: language, Length: 50001, dtype: object"
      ]
     },
     "execution_count": 52,
     "metadata": {},
     "output_type": "execute_result"
    }
   ],
   "source": [
    "full_df['language']"
   ]
  },
  {
   "cell_type": "code",
   "execution_count": 53,
   "id": "8ff62eab",
   "metadata": {},
   "outputs": [
    {
     "name": "stdout",
     "output_type": "stream",
     "text": [
      "There are 12 languages in the dataset\n"
     ]
    }
   ],
   "source": [
    "print(f'There are {languages} languages in the dataset')"
   ]
  },
  {
   "cell_type": "code",
   "execution_count": 56,
   "id": "d80c4a52",
   "metadata": {},
   "outputs": [],
   "source": [
    "def identify_VN(df):\n",
    "    identifier = LanguageIdentifier.from_modelstring(model, norm_probs=True)\n",
    "    not_vi = set()\n",
    "    THRESHOLD = 0.9\n",
    "    for idx, row in df.iterrows():\n",
    "        lang, score = identifier.classify(row['sentence'])\n",
    "        if lang != 'vi' or (lang == 'vi' and score < THRESHOLD):\n",
    "            not_vi.add(idx)\n",
    "    \n",
    "    vi_df = df[~df.index.isin(not_vi)]\n",
    "    not_vi_df = df[df.index.isin(not_vi)]\n",
    "    return vi_df, not_vi_df"
   ]
  },
  {
   "cell_type": "code",
   "execution_count": 57,
   "id": "e8a840a7",
   "metadata": {},
   "outputs": [
    {
     "data": {
      "application/vnd.microsoft.datawrangler.viewer.v0+json": {
       "columns": [
        {
         "name": "index",
         "rawType": "int64",
         "type": "integer"
        },
        {
         "name": "sentence",
         "rawType": "object",
         "type": "string"
        },
        {
         "name": "label",
         "rawType": "int64",
         "type": "integer"
        }
       ],
       "conversionMethod": "pd.DataFrame",
       "ref": "e88354ed-5245-4d4d-8ba6-35f34341e1ac",
       "rows": [
        [
         "0",
         "Mua có mỗi Bingsu thập_cẩm 45k mà mình f đợi hơn 20 ' . Hỏi lại thì nv tl có r nhg bảo chờ thêm 15 ' nữa \" tụi e lm liền \" .\n Mình k biết có ngon k nhg cũng muốn ăn thử . Thiết_nghĩ nv quán nên xem_lại cách pv và nc vs khách .\n",
         "0"
        ],
        [
         "1",
         "Thứ 6 nào ta cùng quẩy 💣 💣 💣\n Vuvuzela beer club chung hệ_thống Gogi_House , Daruma , Kichi kichi nên giá cũng chưa 10% VAT . Thanh_toán trước 20g hằng ngày đc giảm 30% thức_ăn . Tính ra đc giảm 20% . Cũng zui ! 😊 😊 😊\n Ngồi thư_giãn cũng ok . Thức_ăn cũng ổn . Có mấy món nguyên_liệu bên ngoài hok bik chỗ nào bán nên vô đây ăn . Cơ_mà gọi mấy món đó cũng ko có hàng 😂 😂 😂\n Cháo bồ_câu hình chụp nguyên con bồ_câu mà tìm hoài chỉ thấy phao_câu không thấy đầu bồ_câu . Hỏi e nv e chạy hỏi nhà_bếp đc trả_lời là 1 phần cháo đc tính_toán 1 lượng thịt cố_định theo gram chứ không phải nguyên con chị ơi . 😅 😅 😅\n Ps : Lần sau sẽ rủ trên 4 đứa đi quẩy để đc tặng 10 ly biaaaaaaaaaaaaaa mí đc 🍺 🍺 🍺 🍺 🍺 🍺 🍺 🍺 🍺 🍺\n",
         "0"
        ],
        [
         "2",
         "Mình đi với nhóm , tổng_cộng 4 người ăn chỉ có không tới 150k mà no luôn í . Một con cá_lóc nướng to thiệt to kèm với rau_sống , bún , bánh_tráng đồ luôn là có 90k ah , bắp giò 69k để gói cuốn bánh_tráng chung .\n Bún thêm 5k , bánh_tráng thêm 8k nữa\n Đồ_ăn rẻ , thích_hợp ăn_uống cuối tuần cho gia_đình\n Tuy_nhiên mình thấy nước_chấm không ngon , mắm_nêm có mùi gừng , ăn kỳ kỳ , cá thì nguội quá , chắc là nướng lâu rồi không hâm_nóng lại\n",
         "0"
        ],
        [
         "3",
         "nhân_viên phục_vụ không mấy tận_tình , đồ_ăn ra lâu và không đều , món cơm thịt bò nướng ngon , còn mì soba xào không được ngon cho lắm .\n",
         "0"
        ],
        [
         "4",
         "Vào đây thì hết bàn , nhưng mình vẫn ngồi đợi bình_thường để nhân_viên dọn bàn , ai_ngờ dọn xong họ cho tốp khách sau vào ngồi , còn mình thì như vô_hình bị lơ , mình cười nửa miệng rồi bước ra khỏi quán . Có_lẽ vì mình đi 1 mình nên họ ưu_tiên nhóm đông người , vì lợi_nhuận mà xem_thường khách , phục_vụ và phong_cách làm_việc quá tệ_hại , chưa ăn nhưng dù có ngon thì với cách đón_tiếp kiểu này thì mình cũng cho vào sổ_đen !\n",
         "0"
        ],
        [
         "5",
         "Hôm_nay đến aeon có ghé vào quán . Món ăn cũng khá nhưng hơi ít . Không_gian quán cũng ổn\n",
         "0"
        ],
        [
         "6",
         "Mình vào lúc 8h tối , cũng không đông khách lắm nhưng chờ hơi lâu . Order 4 món thì ăn giống như nhét kẽ răng ko xi nhê , phải thêm cái lẩu cá sả nữa mới tạm no . Giá hơi mắc , đồ_ăn thì hơi ít , hình_ảnh trên menu đúng mang tính_chất minh_hoạ như em phục_vụ_bàn nói . Có món gà trứng gì đó trong menu để must try mà mình kiu lên thử thấy thất_vọng vô_cùng , 5 người 5 cục thịt gà với mấy cục tỏi , không thấy cái trứng nào hết . Dĩa gỏi bò có vài lát bò còn lại rau với rau . Nói_chung tới ăn 1 lần cho_biết chứ không có ý_định quay lại .\n",
         "0"
        ],
        [
         "7",
         "Thức_ăn quá_đỗi bình_thường , miếng xôi của bạn mình ăn còn sạn !\n Mắc , ko xứng_đáng vs giá_cả\n",
         "0"
        ],
        [
         "8",
         "Mình thấy quán này rất được , nhân_viên phục_vụ nhiệt_tình , vui_vẻ , hào_phóng , khách có yêu_cầu hay thắc_mắc gì đều được trả_lời rất lịch_sự . Trong phần buffet có thức_ăn nhanh với nước là khách tự_phục_vụ nhưng với những khách đi lần đầu hoặc ngại không đi lấy thì nhân_viên rất sẵn_lòng đi lấy đùm mà không hề có phàn_nàn . Mình đã ghé quán rất nhiều lần . Vào cuối tuần quán rất đông nhưng khách cũng không phải ngồi đợi lâu . Nước lẩu của quán ngon , hợp với mình và mình thích , còn mọi người thì mình k biêt . Mọi người hãy ghé quán thưởng_thức để xem điều mình nói là đúng nhé ... chúc mọi người có bữa ăn thoải_mái ở hongkong town\n",
         "0"
        ],
        [
         "9",
         "Hôm_qua đi ăn cùng 7 chị ở công_ty . Quảng_cáo ăn 4 tặng 1 thì lại thành ăn 5 tặng 1 , hỏi ra thì được bảo là chủ em nói thế . Nhân_viên từ đầu đến cuối phục_vụ không 1 nụ_cười , muốn gì phải nói đi nói lại cả 3-4 lần mới có . Thịt bò 3-4 dĩa đầu_tiên còn được , sau đó đem ra toàn thị bò vụn . Tôm không tươi . Lẩu ăn cón được chứ đồ nướng thì quá tệ . Buffet quảng_cáo là bao_gồm nướng , lẩu và điểm sấm , gọi đồ điểm sấm thỉ được bảo là không có bao_gồm trong buffet , menu cũ nên chưa đổi . Yêu_cầu hoá_đơn đỏ thì bảo 3 ngày_sau đến lấy . Túm lại là làm_ăn cẩu_thả và khá gian_dối trong việc quảng_cáo .\n",
         "0"
        ],
        [
         "10",
         "- Điểm trừ : Mọi thứ đều được \" xắt lát mỏng \" , rau_muống thì \" dai_nhách \" , cải thảo thì bị úng : 3\n - Điểm cộng : Nước lẩu thì vừa ăn , cũng khá ngon . : )\n - Vì là phong_cách tự_phục_vụ nên không có comment gì được\n = > Lời khuyên : Chỉ nên ăn \" lót_dạ \" cho_biết thui , chớ ăn nhiu đây đói lắm à : 3\n",
         "0"
        ],
        [
         "11",
         "Không_gian quán ok như những quán king khác .\n Đồ_ăn ngoài kệ thì nhiều nhưng_mà đồ gì đâu không ngon . Tráng_miệng thì ok nhất . Kem ở king thì siêu ngon rồi . Rau_câu chè cũng ok .\n Về phần thịt thì_phải nói là siêu dở . Dở nhất trong những quán hq mình từng ăn luôn . Thịt nướng mà đông đá cứng ngắt . Nướng lên có nghe mùi_vị gì nữa đâu . Thấy kinh_khủng .\n Nv thì hách nhất_là ông kia . Kiu k trả_lời liền đâu . Bạn mình để quên đồ mà ở đó nói là tưởng rác mang đi giục luôn . Hâh .\n Ai k biết ăn_ở đây rồi chắc k dám ăn king ở tp nữa luôn qua . Mất_mặt cả chi_nhánh\n",
         "0"
        ],
        [
         "12",
         "Quán đơn_giản nhưng đặc_biệt bánh rất ngon , nước uống gía cũng ổn , phục_vụ chu_đáo và quản_lý rất thân_thiện , mỗi lần đi Aeon_Mall_Bình_Dương là mình hay ghé để ăn 1 cái bánh nhân nho khô\n",
         "0"
        ],
        [
         "13",
         "Món ăn khá ngon và no nhưng phục_vụ thái_độ quá kém và tệ . Không hề hài_lòng với chế_độ Refill . Mình cầm ly nước ra ngoài tầm 15 phút sau quay lại với bạn thì được thông_báo rằng nước đã đem ra ngoài xin vui_lòng order ly mới . Pó tay cái kiểu tiêu_chuẩn MỸ phục_vụ kiểu VN\n",
         "0"
        ],
        [
         "14",
         "Ngày_trước đồ_ăn còn khá ngon nhưng giờ mình thấy bớt nhiều rồi . Nhân_viên phục_vụ không tốt , nếu_không muốn nói là thái_độ .\n",
         "0"
        ],
        [
         "15",
         "Bánh của Luxe ăn được , trang_trí bắt_mắt . Vì chưa thử hết các loại nên không biết ngon hết không . Nhưng nước ở đây uống khá ngon . Không_gian thì không được rộng lắm\n",
         "0"
        ],
        [
         "16",
         "Lại là gần trường cả nổi_tiếng nên đến ăn thử , thực_sự thì rất ko hài_lòng : ) ) ko gian ngoài hè nhìn hơi ko ổn nhưng vì thoáng nên cũng bỏ_qua . Gọi đồ_ăn phải đợi quá lâu , mà cái bánh crepe bơ chanh đường chua ko thể tả được , như vắt mấy quả chanh vào ấy , xong lại còn đắng đắng , crepe thịt hun khói thì chẳng có gì đặc_biệt cả , sữa_chua đánh_đá thì ống hút tắc ko thể hút đc . Hôm ấy đi ăn cùng bạn mà phải bỏ hơn nửa đĩa bơ chanh đường , thực_sự thì ko ăn nổi nữa . Tóm_lại sẽ ko bao h đến lần sau !\n",
         "0"
        ],
        [
         "17",
         "Mình vào quán khi bên GoGi đông khách , và phải chờ , trong khi đang đói bụng , cảnh_tượng đầu_tiên khi vào quán là sàn nhà dường_như không được quét_dọn , rác , khăn giấy và đồ_ăn thừa đầy sàn , bàn ăn lau không kỹ , gọi món thì khá lâu mới có đồ_ăn , nhân_viên phục_vụ thái_độ không tận_tình , chả dám đến lần hai , không hiểu chất_lượng như thế_mà cũng được nằm trong aeon mail .\n",
         "0"
        ],
        [
         "18",
         "Sự_việc xảy_ra và ngày 31-10-2015 . Tôi và bạn vào nhà_hàng Đôi_Đũa_Vàng tại tầng 2 của trung_tâm thương_mại AEONMALL Bình_Dương vào lúc 20h05 . Chính_xác là tôi và bạn ngồi bàn số 6 , chúng_tôi gọi món , ngồi đợi và mọi việc bắt_đầu_từ đây . Sau khi ngồi đợi 5 phút và có phục_vụ mang menu tới cho chúng_tôi gọi món và thức uống xong chúng_tôi ngồi đợi tiếp 20 phút sau và chẳng thấy phục_vụ mang nước lên hoặc có động_thái gì cả . Sau khi thấy những khách vào sau đã có thức_ăn , tôi gọi phục_vụ để hỏi . 2 lần đầu phục_vụ nhìn xong gật_đầu , nhưng không thấy ai_lại . lần thứ 3 gọi một phục_vụ nữ thì tôi nhận được một ánh nhìn liếc qua và bỏ đi không nói_năng gì cả . lần thứ 4 gọi thì_có phục_vụ lại và tôi hỏi đã có những món tôi gọi chưa và có_thể mang nước lên trước không ? Anh nhân_viên ấy chạy vào và hỏi phía trong là “ món của khách có chưa mà_sao khách ngồi đợi lâu quá kìa ? ” ( lúc này đồng_hồ là 20h40 , chúng_tôi đã đợi 35 phút ) . 5 phút sau anh phục_vụ chạy ra và cầm theo 2 cái menu như lúc đầu và nói chúng_tôi hãy gọi món lại . Tôi hỏi lý_do và gì vậy a ? Anh_ấy trả_lời là “ cái bill anh_chị gọi món bị mất đâu rồi ” Tôi không_thể chấp_nhận được một thái_độ phục_vụ như_vậy được . Tôi tự hỏi một nhà_hàng như_vậy mà_lại có dịch_vụ tệ đến như_thế sao ? Và quan_trọng nhất_là tại_sao có_nhân viện phục_vụ có thái_độ coi_thường khách đến như_thế ? Khách hang hỏi mà chỉ có vỏn_vẹn một ánh mắt liếc nhìn lại và chẳng có lời_nói nào . Tôi muốn hỏi liệu tôi đang được phục_vụ hay_là đang đi xin ?\n",
         "0"
        ],
        [
         "19",
         "1 ngày làm_việc mêt mỏi . Phi xe ra quán_ăn lẩu cá . Lần đầu_vào quán . cảm_nhận nhân_viên phục_vụ nhiệt_tình , lẩu cả khá ngon , thích nhất món tôm nướng . Mà quán có món gà xé cũng ngon phết . Điểm chê là rau kèm lẩu ít hơn so với chỗ khác .\n",
         "0"
        ],
        [
         "20",
         "Mình ăn bún đậu ở đây nhiều lần rồi , chủ_yếu vào buổi_trưa , cũng là giờ các anh_chị sinh_viên đến ăn rất đông nên có khi_không có chỗ mà ngồi . Bún thì ngon nhưng mình có cảm_giác càng_ngày_càng ít nem và bún . Phục_vụ cũng rất chậm nhưng có_thể thông_cảm vì khách đông .\n",
         "0"
        ],
        [
         "21",
         "Quán nằm trong ngõ . đối_diện hiway hà đông . bạn mình có người quen làm ở đây nên dẫn qua uống ủng_hộ\n Trang_trí quán đẹp . nhiều tầng . tất_cả 7 tầng thì_phải . có thang_máy . các phòng có điều_hòa . wifi gia_đình dùng chung cho 7 tầng nên khá yếu\n Có cả đồ_ăn và đồ uống . bánh ngọt nhìn đẹp_mắt nhưng chưa ăn thử nên không biết chất_lượng ra_sao\n Mình uống trà sữa chân trâu đặc_biệt . uống thì rất nhạt . chưa bh uống cốc trà sữa nào chán như này . pingpang ăn thì ổn . ăn bỏng ngô xong uống cốc trà sữa kia vào thì quá chán luôn . nó có vị cứ ngang_ngang chả ra làm_sao\n Trà sữa kiểu nhái dingtea . cốc bé kia_mà 20k.chắc lần sau ko uống nữa . vừa xa nhà lại chẳng ra_gì\n Lần sau sẽ quay lại quán thử các món khác rồi nhận_xét tiếp . nếu lần sau vẫn chán như này thì bỏ luôn mất\n",
         "0"
        ],
        [
         "22",
         "Hôm chủ_nhật , 29/11 mình đinh đến ăn vì tìm thông_tin thấy rất ngon , giá_cả hợp_lý ...\n mà đến thấy đóng_cửa mất_tiêu , sập xệ , bảng_hiệu còn rách . mọi ng cập_nhật dùm quán này còn hoạt_động hay ko vây ? : ( (\n tìm cả buổi vòng_vòng cuối_cùng đóng_cửa  \n p / s : chưa có ăn_uống đc gì nên cũng ko biết đánh_giá điểm ntn ?\n",
         "0"
        ],
        [
         "23",
         "Mình bít tới chỗ này do 1 bạn bình_luận so_sánh với nhà_hàng buffet nét việt , bạn ấy bảo Hương_Quê vừa rẻ vừa ngon ( bên nét việt mua voucher hotdeal là 119k ) , phục_vụ lại tốt rất ok , lên foody xem review cũng thấy đc khen nức_nở nên quyết_tâm đến ăn thử , nếu ok thì lại có thêm 1 quán ruột .\n Tới thử rồi chỉ mún la_làng , quá tệ . Hok hề có 40 món như quảng_cáo , chỉ vài món le que mà hết còn hok thèm chăm lên , nêm nếm thì quá mặn , quầy lẩu thì_có mỗi mấy cái đầu cá ương hết lên lun . Lần đầu_tiên đi ăn buffet mà về ngay sau 30p và phải ra Aeon_Mall ăn hủ tíu gõ và 2 ly trà đào vì đói .\n Thấy review tốt quá mà tới thử thì kinh_sợ hoàn_toàn . Thôi xin chừa , từ nay hok ham rẻ và tin vào review , hình_ảnh quảng_cáo câu_khách để mất tiền oan nữa . Cứ tới quán quen mà ăn , dù có mắc hơn hay rẻ hơn thì cũng tốt hơn chỗ này nhìu , 100k/người mà thua tô hủ tíu gõ 12k .\n",
         "0"
        ],
        [
         "24",
         "Quán nhỏ , nóng , đồ_ăn ít chịu châm khi hết , nhân_viên phục_vụ ok\n",
         "0"
        ],
        [
         "25",
         "Kêu ly Cafe_Latte đá ( lỗi 1 phần do mình ko coi menu và kêu vì mình hay uống Latte ) nhìn cái ly thể_loại cafe Ý rất ư là ngỡ_ngàng , nhìn ko khác_nào ly sữa_tươi bỏ thêm cafe . Càng ko ngờ hơn ly cafe bần vậy giá 77k , ko đáng 1 chút nào . Phải_chi cái ly đẹp , nhìn sang chảnh chuyên_nghiệp như đúng bản_chất cafe Ý thì bỏ tiền ra cũng thấy đáng .\n Nhân_viên nhìn mặt ai_nấy y_như mất sổ gạo .\n Trung_Nguyen từ lúc thêm dc chữ Legend , thay_đổi diện_mạo thì giá cũng thay_đổi theo . Oải chè\n",
         "0"
        ],
        [
         "26",
         "Không bằng tiệm cũ ngày_trước . Bgiờ ăn cơm đảo khô , chỉ hơn cơm_rang bụi 1 chút . Cơm trắng ( cơm tấm ngày_xưa tiệm cũ rất ngon ) giờ ở đây thì kém hơn .\n Mọi ng ăn hay gọi thêm sốt - sốt này ko có gì đạc biệt . Nấu bằng tương cà + nước + bột thôi\n",
         "0"
        ],
        [
         "27",
         "Không_gian bên đây nhỏ , ngồi hơi chán . Phục_vụ cũng bình_thường .\n",
         "0"
        ],
        [
         "28",
         "Qán BBQ cũ chuyển qa Lê_Hồng_Phong rồi ! ! Qán BBQ nguyễn chí thanh buôn_bán xạo lắm ! ! Tới qán gọi thịt bò mà đem ra toàn thịt heo ! ! Đi một lần là tởn tới già\n",
         "0"
        ],
        [
         "29",
         "Quán phù_hợp cho các bạn mê ăn vặt . Có nhiều món đa_dạng như bánh ép , bánh_tráng trứng , bánh kẹp , bò bía . Riêng mình thì thấy gần đây bánh ép không còn ngon như trước . Bánh_tráng trứng ăn ngon nhưng nếu được nướng thì ăn ngon hơn chiên .\n",
         "0"
        ],
        [
         "30",
         "Lâ ̀ n đâ ̀ u đi ăn ba ́ nh e ́ p huê ́ .\n Thâ ́ y la ̣ la ̣ ma ̀ cu ̃ ng re ̉ .\n 2k/ca ́ i cuô ́ n vơ ́ i rau_răm , dưa chua , dưa_leo châ ́ m nươ ́ c mă ́ m .\n Tuyê ̣ t ! ! ! !\n",
         "0"
        ],
        [
         "31",
         "Quán nhỏ nhưng view nhìn đẹp . Choco_Vanila ngon , Cafe_Hazenut đắng không có vị của Hazenut . Giá cũng ok ! Có dịp sẽ quay lại ...\n",
         "0"
        ],
        [
         "32",
         "Ba_Động là một trong những địa_điểm du_lịch ở Trà_Vinh . Bọn mình tới đây cũng nhiều lần ( vì dân miền Tây mà ) . Không_gian vẫn còn hoang_sơ nên khách không nhiều , đi chơi theo nhóm cũng thoải_mái . Vì là biển phù_sa nên nước đục và không đẹp . Chi_phí ăn_uống và sinh_hoạt ở đây cũng khá rẻ . Mình thích nhất_là những rặng dương xanh nghi_ngút dọc bờ biển , lúc chơi mệt có_thể vào tránh nắng mà không cần thuê dù . Bãi_biển khi cạn khá rộng nên thích_hợp cho những chuyến picnic , chơi thể_thao ... Nhìn_chung thì so_sánh về mặt giá_cả , phong_cảnh cũng tạm ổn . Các bạn nên đến thử 1 lần xem sao !\n",
         "0"
        ],
        [
         "33",
         "Ai muô ́ n ti ̀ m ra thi ̀ dâ ̃ n mi ̀ nh đi ăn đi\n",
         "0"
        ],
        [
         "34",
         "Mình và bạn nghe đồn quán ngon . ai dè khi ra thì quán vắng , nằm trog góc hẻm , khó kiếm , nhìn như mê_cung , giá đắt so với các quán ốc mình từng ăn , chỗ lại bẩn , ốc móng tay có mùi tanh kinh_khủng như để lâu ngày . không_gian chật_chội , mình ngồi còn ko dám ngồi , phục_vụ thì cứ hỏi như ép cung mình ăn thêm . quá tệ\n",
         "0"
        ],
        [
         "35",
         "Ở đây là quán ngồi vỉa_hè mà giá khá đắt , menu không có tính tiền ghi sổ rồi đưa mình check lại . bọn mình đi 4 người gọi 1 set nướng đầy_đủ không gan và lòng giá 400k . Đồ_ăn ở đây thì bình_thường ướp hơi bị mặn . Kim_chi thì muối bị sống ăn bị hăng , cải thảo vẫn còn trắng nguyên luôn , mình gọi rượu Atiso uống thử thì chả thấy vị thơm của Atiso đâu chỉ thấy uống chả khác_gì rượu bình_thường hay uống , trà đá thì nhạt như nước_lọc ý . Lúc mình gọi thêm bò nầm nướng thì ko thấy có khoai_lang , cà_tím , đậu nhật như đĩa đầu gọi hỏi nhân_viên thì họ bào hết mà lúc đó mới 8h tối chứ mấy . Gọi đĩa khoai_tây chiên ra trẻ_con ăn thì vừa non vừa ỉu .\n Nhân_viên phục_vụ được_cái niềm_nở nhưng chậm_chạp vãi .\n Bọn mình đi 4 người ăn hết tổng là 830k .\n",
         "0"
        ],
        [
         "36",
         "Quán bé lại còn bị che_khuất bở trạm xe bus nên dễ đi qua mà k nhìn thấy . Sữa_chua các loại ăn ngon chứ chè thì chả ra_sao . Kem xôi ăn cũng tạm\n",
         "0"
        ],
        [
         "37",
         "Mấy lần đi qua đều thấy đóng_cửa 😢 😢 😢 chưa có dịp thử\n",
         "0"
        ],
        [
         "38",
         "M thích kem xôi ngon vầ rẻ . Chè bơ thì k ngon như trc nữa . Sữa_chua quá chua như ko cho đường\n",
         "0"
        ],
        [
         "39",
         "Ăn_ở đây từ tuần khai_trương mà thấy bánh vừa đắt vừa không ngon , nhạt_nhẽo & hương_vị bình_thường . Combo cũng ko rẻ hơn mua_lẻ là mấy , thấy quảng_cáo rầm_rộ nên đi ăn mà ăn xong thất_vọng tràn_trề : - <\n",
         "0"
        ],
        [
         "40",
         "Không_gian : Chật_hẹp chỉ có vài cái bàn thôi\n Đồ uống : Cực dở luôn . Mình gọi smothie xoài nhg rõ_ràng vị xoài là của nước ép xoài đóng_hộp . Chán ko thể tả được . Bạn mình gọi vị chanh leo thì hắc hắc\n Giá : Bình_thường nhg quá đắt so với chất_lượng\n Wifi kém lắm .\n Nói_chung là mình sẽ ko bao_giờ quay lại\n",
         "0"
        ],
        [
         "41",
         "Ăn bi ̀ nh thươ ̀ ng . Hai đư ́ a ăn su ̉ i ca ̉ o va ̀ su ̉ i ca ̉ o my ̀ ta ̣ m đươ ̣ c vơ ́ i gia ́ 35k . Qua ́ n dơ ̀ i ra mă ̣ t tiê ̀ n đươ ̀ ng NTP nên dê ̃ ti ̀ m\n",
         "0"
        ],
        [
         "42",
         "Quán này đã dời địa_điểm sang 106a Phùng_Văn_Cung f7 quận Phú_Nhuận rồi nha mọi ng Giờ trong địa_chỉ cũ vẫn có quán ghi là hải_sản Bình_Ba luôn nhưng k ngon nha , hải_sản k tươi , phục_vụ chậm giá cao , ngồi trong bóng_tối nha Mọi ng lưu_ý tránh chuốc thêm bực_bội và ăn k vui nha , thanks ! ! !\n",
         "0"
        ],
        [
         "43",
         "Quán nằm gần trường Trấn_Biên , buổi chiều tan học đông cực . Chả lụi cũng bình_thường như những chỗ khác vì lấy chung một chỗ . Thái_độ phục_vụ kém , cô bán luôn tỏ_vẻ khó_chịu .\n",
         "0"
        ],
        [
         "44",
         "Đa ̃ ăn 1 lâ ̀ n ơ ̉ đây va ̀ se ̃ ca ̣ ch tơ ́ i gia ̀ . Tha ́ i đô ̣ phu ̣ c . Ụ ke ́ m : ăn hê ́ t rau hê ́ t tương xin lâ ̀ n đâ ̀ u tiên pha ̉ i đơ ̣ i lâu va ̀ pha ̉ i nhă ́ c tơ ́ i lâ ̀ n thư ́ 2 du ̀ qua ́ n ko đông . Chu ̉ qua ́ n co ́ tha ́ i đô ̣ kho ́ chi ̣ u . Nho ́ m 3 ng ăn xong vê ̀ tô ́ i bi ̣ đau quă ̣ n bu ̣ ng\n",
         "0"
        ],
        [
         "45",
         "Hôm_nay đi qua , vào gọi gà luộc . Ngồi nhâm_nhi lon bia một lúc thì thấy bê cơm ra . Hỏi gà đâu thì một lúc sau mới bảo hết rồi . Chán ! Cần cải_tạo cách phục_vụ của nhân_viên cho tốt hơn .\n Giá_cả thì cũng không phải là rẻ gì , tuy có niêm_yết chi_tiết . Tất_nhiên là rẻ hơn Hà_Nội hay Hạ_Long rồi . Được_cái nhà_hàng rộng_rãi , mát_mẻ ( miền núi mà ) , sạch_sẽ và tiện đường nhất trên Tiên_Yên . Nếu các bạn đi đông thì sẽ được ưu_tiên phục_vụ ( ăn nhiều 😁 ) . Nếu_không là phải gọi mỏi mồm đấy .\n Không có bánh gật_gù tại quán như các bạn Quảng ninh hay quảng_cáo đâu . Chắc món đấy làm lâu công . Món khâu nhục không dậy_mùi tỏi , chưa đạt yêu_cầu , như thịt ba_chỉ kho thường . Nếu bạn nào ăn_ở Hoành_Bồ rồi sẽ so_sánh được ngay .\n Nói_chung là có_tiếng do ở Tiên_Yên thôi . Phía dưới gần lối đi Ba_Chẽ cũng có vài nhà_hàng còn lớn hơn nhiều , xe đậu thoải_mái .\n",
         "0"
        ],
        [
         "46",
         "Quán cũng khá nhỏ đồ uống cũng được mèo thấy đồ_ăn là sán vô con hết r chúng_nó chổng đít quay di max phũ : ) ) ) ) ) ) ncl đến nhiều r nhung gio moi review cho quán ... . ncl.ổn\n",
         "0"
        ],
        [
         "47",
         "Đồ uống cũng bình_thường như bao quán khác , mèo ở đây nó cứ lờ_đờ bệnh bệnh thế_nào ấy\n",
         "0"
        ],
        [
         "48",
         "+ ) Ưu_điểm : Rộng_rãi khang_trang , trang_trí theo hơi_hướng Hàn_Quốc vì h cgv của HQ nên bài_trí như_vậy cũng k có j là_lạ : ) KHông gian rộng thôi rồi , thiet kế như kiểu 1 khu chờ tàu_điện_ngầm vậy : ) rộng đến_nỗi như kiểu đi mãi không hết_ý ! có hôm tìm phòng chiếu mãi mới thấy vì nó o trong góc : ) nếu_mà đến đây để chụp choẹt chắc chụp cả ngày không thấy chán mất , thích nhất_là khu có ghế sofa ngồi êm mà kể_cả ngồi bao_lâu cũng chả ai duoi . kiểu đến cgv hà đông cảm_giác thoải_mái lắm ý chả ai quản : ) ) cảm_thấy tự_do như ở nhà . Nhà_vệ_sinh đẹp các chị_em nào mà nghiện tự sướng thì có_thể vào tự sướng thoai mái nhé k ai cản đâu : ) ) cái gương trong WC nữ như kiểu bàn trang_điểm ý xinh dã_man , À ưu_điểm nữa_là khu để xe rộng_rãi bảo vẹ vui_tính , k mất phí gửi xe nên các bạn yên_tâm\n + ) Nhược_điểm : Quá xa trung_tâm thành_phố , mặc_dù vé ở đây nhiều lúc rẻ hơn ở các cgv khác   nhưng cứ nghĩ đến viec xuống đây xem phim la mình thấy ngại rồi ý : ) ) ngày thứ 4 vé đồng giá 50k nhé các bạn rẻ hơn cgv khác nên có hôm mình ham_hố xuống xem mặc_kệ trời nắng gắt thế_là vì tiết_kiệm 25k mà xem xong về ốm luôn : ) ) ) nên nếu ai nhà xa quá thì đừng cố nhé ko lại quá_cố ! Nhược_điểm nữa_là nhân_viên ở đây làm_ăn ko chuyên_nghiệp , nói_năng khó nghe , kiểu nhân_viên nói nhanh ko rõ_ràng ý , hôm đấy mình mua 3 vé xem phim chưa hỏi mình muốn lấy combo bỏng nước ko đã tự_động cho_rồi , mình nói mình ko mua combo mà_sao tự_dưng cho thì lại còn mắng lại bảo sao k tự để_ý vé thấy rẻ nthe mà k phàn_nàn luôn in vé rồi ko đổi dc nữa : ) Xong cũng hứa_hẹn bảo quản_lý ra giải_quyết rồi cũng mất_tăm_mất_tích luôn . may là lúc đấy cũng có khách muốn mua bỏng nên mình thương_lượng đc vs ng ta mua hộ cho mình phần combo : ) nhân_viên vô_trách_nhiệm và thái_độ , thật_sự làm minh thấy khó_chịu , xem mất tiền phải để khách thấy vui_vẻ chư nhưng chưa xem đã mất vui rồi , ko phải mình đánh_đồng vs toàn_bộ nhân_viên của CGV . Mình nhận_xét thẳng_thắn luôn nhân_viên CGV bên LOtte và bên Bà triệu mình tháy rất ok , phục_vụ rất đc chỉ có bên CGV hà đông là như_vậy thoi : ) chưa kể dù_sao cgv này cũng ở bên HÀ đông ko phải vung trung_tâm nên ng xem cũng khá mất lịch_sự ! Vào rạp thì nói to , nghe đt xong các thứ cảm_giác như đang xem ở rạp quốc_gia vậy ! Đúng là cái j rẻ quá cũng ko tốt ! khuyên các bạn muốn đổi gió thì đến đây xem thử 1 2 lần thôi rồi các bạn cũng sẽ cảm_nhận giống mình thôi : )\n",
         "0"
        ],
        [
         "49",
         "Món ăn thì cũng ngon , khg có gì đáng nói , giá_cả bình_dân hợp túi_tiền\n quán trong hẻm rộng_rãi , xe để kế bên cũng an_tâm\n chỉ có là order xong ngồi chờ rã cả họng anh thanh_niên đẹp chai mới tàn tàn lại thông_báo món này hết ròi , kiu order món khác giùm , lại 1 khoảng thời_gian dài đằng_đẵng nữa chờ_đợi trong tuyệt_vọng , tới mức hết chuyện để 8 với nhau mới thấy có món dọn lên .\n ăn_ở đây 2 lần , lần nào cũng vậy\n",
         "0"
        ]
       ],
       "shape": {
        "columns": 2,
        "rows": 50001
       }
      },
      "text/html": [
       "<div>\n",
       "<style scoped>\n",
       "    .dataframe tbody tr th:only-of-type {\n",
       "        vertical-align: middle;\n",
       "    }\n",
       "\n",
       "    .dataframe tbody tr th {\n",
       "        vertical-align: top;\n",
       "    }\n",
       "\n",
       "    .dataframe thead th {\n",
       "        text-align: right;\n",
       "    }\n",
       "</style>\n",
       "<table border=\"1\" class=\"dataframe\">\n",
       "  <thead>\n",
       "    <tr style=\"text-align: right;\">\n",
       "      <th></th>\n",
       "      <th>sentence</th>\n",
       "      <th>label</th>\n",
       "    </tr>\n",
       "  </thead>\n",
       "  <tbody>\n",
       "    <tr>\n",
       "      <th>0</th>\n",
       "      <td>Mua có mỗi Bingsu thập_cẩm 45k mà mình f đợi h...</td>\n",
       "      <td>0</td>\n",
       "    </tr>\n",
       "    <tr>\n",
       "      <th>1</th>\n",
       "      <td>Thứ 6 nào ta cùng quẩy 💣 💣 💣\\n Vuvuzela beer c...</td>\n",
       "      <td>0</td>\n",
       "    </tr>\n",
       "    <tr>\n",
       "      <th>2</th>\n",
       "      <td>Mình đi với nhóm , tổng_cộng 4 người ăn chỉ có...</td>\n",
       "      <td>0</td>\n",
       "    </tr>\n",
       "    <tr>\n",
       "      <th>3</th>\n",
       "      <td>nhân_viên phục_vụ không mấy tận_tình , đồ_ăn r...</td>\n",
       "      <td>0</td>\n",
       "    </tr>\n",
       "    <tr>\n",
       "      <th>4</th>\n",
       "      <td>Vào đây thì hết bàn , nhưng mình vẫn ngồi đợi ...</td>\n",
       "      <td>0</td>\n",
       "    </tr>\n",
       "    <tr>\n",
       "      <th>...</th>\n",
       "      <td>...</td>\n",
       "      <td>...</td>\n",
       "    </tr>\n",
       "    <tr>\n",
       "      <th>49996</th>\n",
       "      <td>Quán không_gian nhỏ nhưng khá lịch_sự , sạch_s...</td>\n",
       "      <td>1</td>\n",
       "    </tr>\n",
       "    <tr>\n",
       "      <th>49997</th>\n",
       "      <td>đi ăn lần 2 : ) ) ) lần này rút kinh_nghiệm ki...</td>\n",
       "      <td>1</td>\n",
       "    </tr>\n",
       "    <tr>\n",
       "      <th>49998</th>\n",
       "      <td>Mình ăn 2 món , mà quên tên mất rồi , toàn từ ...</td>\n",
       "      <td>1</td>\n",
       "    </tr>\n",
       "    <tr>\n",
       "      <th>49999</th>\n",
       "      <td>Trong ảnh là\\n • 1 phần mì udon xào\\n • 1 phần...</td>\n",
       "      <td>1</td>\n",
       "    </tr>\n",
       "    <tr>\n",
       "      <th>50000</th>\n",
       "      <td>địa_điểm : dễ tìm , mậu thân quẹo vào đường bờ...</td>\n",
       "      <td>1</td>\n",
       "    </tr>\n",
       "  </tbody>\n",
       "</table>\n",
       "<p>50001 rows × 2 columns</p>\n",
       "</div>"
      ],
      "text/plain": [
       "                                                sentence  label\n",
       "0      Mua có mỗi Bingsu thập_cẩm 45k mà mình f đợi h...      0\n",
       "1      Thứ 6 nào ta cùng quẩy 💣 💣 💣\\n Vuvuzela beer c...      0\n",
       "2      Mình đi với nhóm , tổng_cộng 4 người ăn chỉ có...      0\n",
       "3      nhân_viên phục_vụ không mấy tận_tình , đồ_ăn r...      0\n",
       "4      Vào đây thì hết bàn , nhưng mình vẫn ngồi đợi ...      0\n",
       "...                                                  ...    ...\n",
       "49996  Quán không_gian nhỏ nhưng khá lịch_sự , sạch_s...      1\n",
       "49997  đi ăn lần 2 : ) ) ) lần này rút kinh_nghiệm ki...      1\n",
       "49998  Mình ăn 2 món , mà quên tên mất rồi , toàn từ ...      1\n",
       "49999  Trong ảnh là\\n • 1 phần mì udon xào\\n • 1 phần...      1\n",
       "50000  địa_điểm : dễ tìm , mậu thân quẹo vào đường bờ...      1\n",
       "\n",
       "[50001 rows x 2 columns]"
      ]
     },
     "execution_count": 57,
     "metadata": {},
     "output_type": "execute_result"
    }
   ],
   "source": [
    "full_df.drop(columns=['language', 'Word_count', 'Char_count', 'Mean_word_length'], inplace=True)\n",
    "full_df"
   ]
  },
  {
   "cell_type": "code",
   "execution_count": 59,
   "id": "65aec10f",
   "metadata": {},
   "outputs": [
    {
     "name": "stdout",
     "output_type": "stream",
     "text": [
      "<class 'pandas.core.frame.DataFrame'>\n",
      "Index: 49579 entries, 0 to 50000\n",
      "Data columns (total 2 columns):\n",
      " #   Column    Non-Null Count  Dtype \n",
      "---  ------    --------------  ----- \n",
      " 0   sentence  49579 non-null  object\n",
      " 1   label     49579 non-null  int64 \n",
      "dtypes: int64(1), object(1)\n",
      "memory usage: 1.1+ MB\n"
     ]
    }
   ],
   "source": [
    "full_df, not_vi_df = identify_VN(full_df)\n",
    "full_df.info()"
   ]
  },
  {
   "cell_type": "code",
   "execution_count": 60,
   "id": "23d6f9b6",
   "metadata": {},
   "outputs": [],
   "source": [
    "train_df, not_vi_train_df = identify_VN(train_df)\n",
    "valid_df, not_vi_valid_df = identify_VN(valid_df)\n",
    "test_df, not_vi_test_df = identify_VN(test_df)"
   ]
  },
  {
   "cell_type": "markdown",
   "id": "1c818ff1",
   "metadata": {},
   "source": [
    "# **Remove HTML tags, special character, emoji in text**"
   ]
  },
  {
   "cell_type": "code",
   "execution_count": 74,
   "id": "652f7116",
   "metadata": {},
   "outputs": [],
   "source": [
    "viet_luong_dict = {\n",
    "    \"ko\": \"không\", \"k\": \"không\", \"hok\": \"không\", \"hôg\": \"không\", \"hôk\": \"không\",\n",
    "    \"j\": \"gì\", \"gìa\": \"gì\", \"zìa\": \"gì\", \"zì\": \"gì\", \"jì\": \"gì\",\n",
    "    \"tl\": \"trả lời\", \"ntn\": \"như thế nào\", \"ntnao\": \"như thế nào\", \"tnào\": \"thế nào\",\n",
    "    \"vkl\": \"rất\", \"vch\": \"vãi chưởng\", \"cx\": \"cũng\", \"kũg\": \"cũng\", \"cũg\": \"cũng\",\n",
    "    \"z\": \"d\", \"thik\": \"thích\", \"thjk\": \"thích\", \"thíc\": \"thích\", \"thíck\": \"thích\",\n",
    "    \"iu\": \"yêu\", \"ck\": \"chồng\", \"vk\": \"vợ\", \"mjk\": \"mình\", \"mih\": \"mình\", \"mìnk\": \"mình\", \"mjh\": \"mình\",\n",
    "    \"bik\": \"biết\", \"pjt\": \"biết\", \"bít\": \"biết\", \"bik\": \"biết\",\n",
    "    \"bn\": \"bạn\", \"pn\": \"bạn\", \"bbè\": \"bạn bè\", \"btrai\": \"bạn trai\", \"bgái\": \"bạn gái\",\n",
    "    \"mng\": \"mọi người\", \"bme\": \"bố mẹ\", \"cta\": \"chúng ta\", \"ctrai\": \"con trai\", \"cgai\": \"con gái\", \"cgái\": \"con gái\",\n",
    "    \"nhữg\": \"những\", \"svtn\": \"sinh viên tình nguyện\", \"qtam\": \"quan tâm\", \"qtâm\": \"quan tâm\", \"wtâm\": \"quan tâm\",\n",
    "    \"thươg\": \"thương\", \"thgian\": \"thời gian\", \"thườg\": \"thường\", \"thíck\": \"thích\",\n",
    "    \"chug\": \"chung\", \"chúg\": \"chúng\", \"trườg\": \"trường\", \"thoy\": \"thôi\", \"thuj\": \"thôi\",\n",
    "    \"đki\": \"đăng ký\", \"đky\": \"đăng ký\", \"dky\": \"đăng ký\", \"atsm\": \"ảo tưởng sức mạnh\",\n",
    "    \"ạk\": \"ạ\", \"cv\": \"công việc\", \"cviec\": \"công việc\", \"cviệc\": \"công việc\",\n",
    "    \"cùg\": \"cùng\", \"keke\": \"ce ce\", \"ktra\": \"kiểm tra\", \"nek\": \"nè\", \"nèk\": \"nè\",\n",
    "    \"nthe\": \"như thế\", \"nthê\": \"như thế\", \"nthế\": \"như thế\", \"nvay\": \"như vậy\", \"nvậy\": \"như vậy\",\n",
    "    \"kái\": \"cái\", \"tìh\": \"tình\", \"phòg\": \"phòng\", \"phog\": \"phòng\", \"lòg\": \"lòng\",\n",
    "    \"s2\": \"trái tim\", \"bt\": \"biết\", \"òy\": \"rồi\", \"zồi\": \"rồi\", \"zùi\": \"rồi\", \"rồii\": \"rồi\",\n",
    "    \"dlgt\": \"đang làm gì thế\", \"nk4\": \"nha\", \"snvv\": \"sinh nhật vui vẻ\", \"hix\": \"hích\", \"hjx\": \"hích\", \"hixxx\": \"hích\",\n",
    "    \"hjxhjx\": \"hích\", \"hihe\": \"hi he\", \"hìhì\": \"hì hì\", \"hêhê\": \"hê hê\", \"hiha\": \"hi ha\",\n",
    "    \"xg\": \"xuống\", \"xuốg\": \"xuống\", \"xug\": \"xùng\", \"xih\": \"xinh\", \"ngía\": \"nghía\",\n",
    "    \"ngke\": \"nghe\", \"ngag\": \"ngang\", \"ngốk\": \"ngốc\", \"ngđó\": \"người đó\", \"ngđo\": \"người đó\", \"ngkhác\": \"người khác\",\n",
    "    \"ngyeu\": \"người yêu\", \"nyêu\": \"người yêu\", \"nyc\": \"người yêu cũ\", \"nàg\": \"nàng\", \"chàg\": \"chàng\", \"chăg\": \"chăng\",\n",
    "    \"nkư\": \"như\", \"nhjeu\": \"nhiều\", \"nhiềuuu\": \"nhiều\", \"bnhiu\": \"bao nhiêu\", \"bnhiêu\": \"bao nhiêu\",\n",
    "    \"kậu\": \"cậu\", \"kòn\": \"còn\", \"kủa\": \"của\", \"kảm\": \"cảm\", \"kqua\": \"kết quả\", \"ktra\": \"kiểm tra\",\n",
    "    \"kb\": \"kết bạn\", \"lgi\": \"làm gì\", \"lzi\": \"làm gì\", \"lz\": \"làm gì\", \"lquen\": \"làm quen\",\n",
    "    \"lạh\": \"lạnh\", \"lặg\": \"lặng\", \"lúk\": \"lúc\", \"ltinh\": \"linh tinh\", \"lquan\": \"liên quan\",\n",
    "    \"llac\": \"liên lạc\", \"lzi\": \"làm gì\", \"làm\": \"làm\",\n",
    "    \"đkiện\": \"điều kiện\", \"đki\": \"đăng ký\", \"đky\": \"đăng ký\", \"dky\": \"đăng ký\",\n",
    "}\n",
    "\n",
    "\n",
    "def replace_teencode(text):\n",
    "    words = text.split()\n",
    "    return \" \".join([viet_luong_dict[word] if word in viet_luong_dict else word for word in words])\n",
    "\n",
    "def preprocess_text(text):\n",
    "    text = text.lower()\n",
    "    \n",
    "    text = replace_teencode(text)\n",
    "    \n",
    "    url_pattern = re.compile(r'https?://\\S+|www\\.\\S+')\n",
    "    text = url_pattern.sub(r\" \", text)\n",
    "    \n",
    "    html_pattern = re.compile(r'<.*?>')\n",
    "    text = html_pattern.sub(r\" \", text)\n",
    "    \n",
    "    text = emoji.demojize(text)\n",
    "    \n",
    "    text = \" \".join(text.split())\n",
    "    return text"
   ]
  },
  {
   "cell_type": "code",
   "execution_count": 75,
   "id": "95129bbb",
   "metadata": {},
   "outputs": [],
   "source": [
    "train_df['sentence'] = train_df['sentence'].apply(preprocess_text)\n",
    "valid_df['sentence'] = valid_df['sentence'].apply(preprocess_text)\n",
    "test_df['sentence'] = test_df['sentence'].apply(preprocess_text)\n",
    "full_df['sentence'] = full_df['sentence'].apply(preprocess_text)"
   ]
  },
  {
   "cell_type": "code",
   "execution_count": 76,
   "id": "55fd4f90",
   "metadata": {},
   "outputs": [
    {
     "name": "stdout",
     "output_type": "stream",
     "text": [
      "49579\n"
     ]
    },
    {
     "data": {
      "application/vnd.microsoft.datawrangler.viewer.v0+json": {
       "columns": [
        {
         "name": "index",
         "rawType": "int64",
         "type": "integer"
        },
        {
         "name": "sentence",
         "rawType": "object",
         "type": "string"
        },
        {
         "name": "label",
         "rawType": "int64",
         "type": "integer"
        }
       ],
       "conversionMethod": "pd.DataFrame",
       "ref": "e51bd444-de6f-449d-873f-2f110eb03f66",
       "rows": [
        [
         "0",
         "mua có mỗi bingsu thập_cẩm 45k mà mình f đợi hơn 20 ' . hỏi lại thì nv trả lời có r nhg bảo chờ thêm 15 ' nữa \" tụi e lm liền \" . mình không biết có ngon không nhg cũng muốn ăn thử . thiết_nghĩ nv quán nên xem_lại cách pv và nc vs khách .",
         "0"
        ],
        [
         "1",
         "thứ 6 nào ta cùng quẩy :bomb: :bomb: :bomb: vuvuzela beer club chung hệ_thống gogi_house , daruma , kichi kichi nên giá cũng chưa 10% vat . thanh_toán trước 20g hằng ngày đc giảm 30% thức_ăn . tính ra đc giảm 20% . cũng zui ! :smiling_face_with_smiling_eyes: :smiling_face_with_smiling_eyes: :smiling_face_with_smiling_eyes: ngồi thư_giãn cũng ok . thức_ăn cũng ổn . có mấy món nguyên_liệu bên ngoài không biết chỗ nào bán nên vô đây ăn . cơ_mà gọi mấy món đó cũng không có hàng :face_with_tears_of_joy: :face_with_tears_of_joy: :face_with_tears_of_joy: cháo bồ_câu hình chụp nguyên con bồ_câu mà tìm hoài chỉ thấy phao_câu không thấy đầu bồ_câu . hỏi e nv e chạy hỏi nhà_bếp đc trả_lời là 1 phần cháo đc tính_toán 1 lượng thịt cố_định theo gram chứ không phải nguyên con chị ơi . :grinning_face_with_sweat: :grinning_face_with_sweat: :grinning_face_with_sweat: ps : lần sau sẽ rủ trên 4 đứa đi quẩy để đc tặng 10 ly biaaaaaaaaaaaaaa mí đc :beer_mug: :beer_mug: :beer_mug: :beer_mug: :beer_mug: :beer_mug: :beer_mug: :beer_mug: :beer_mug: :beer_mug:",
         "0"
        ],
        [
         "2",
         "mình đi với nhóm , tổng_cộng 4 người ăn chỉ có không tới 150k mà no luôn í . một con cá_lóc nướng to thiệt to kèm với rau_sống , bún , bánh_tráng đồ luôn là có 90k ah , bắp giò 69k để gói cuốn bánh_tráng chung . bún thêm 5k , bánh_tráng thêm 8k nữa đồ_ăn rẻ , thích_hợp ăn_uống cuối tuần cho gia_đình tuy_nhiên mình thấy nước_chấm không ngon , mắm_nêm có mùi gừng , ăn kỳ kỳ , cá thì nguội quá , chắc là nướng lâu rồi không hâm_nóng lại",
         "0"
        ],
        [
         "3",
         "nhân_viên phục_vụ không mấy tận_tình , đồ_ăn ra lâu và không đều , món cơm thịt bò nướng ngon , còn mì soba xào không được ngon cho lắm .",
         "0"
        ],
        [
         "4",
         "vào đây thì hết bàn , nhưng mình vẫn ngồi đợi bình_thường để nhân_viên dọn bàn , ai_ngờ dọn xong họ cho tốp khách sau vào ngồi , còn mình thì như vô_hình bị lơ , mình cười nửa miệng rồi bước ra khỏi quán . có_lẽ vì mình đi 1 mình nên họ ưu_tiên nhóm đông người , vì lợi_nhuận mà xem_thường khách , phục_vụ và phong_cách làm_việc quá tệ_hại , chưa ăn nhưng dù có ngon thì với cách đón_tiếp kiểu này thì mình cũng cho vào sổ_đen !",
         "0"
        ],
        [
         "5",
         "hôm_nay đến aeon có ghé vào quán . món ăn cũng khá nhưng hơi ít . không_gian quán cũng ổn",
         "0"
        ],
        [
         "6",
         "mình vào lúc 8h tối , cũng không đông khách lắm nhưng chờ hơi lâu . order 4 món thì ăn giống như nhét kẽ răng không xi nhê , phải thêm cái lẩu cá sả nữa mới tạm no . giá hơi mắc , đồ_ăn thì hơi ít , hình_ảnh trên menu đúng mang tính_chất minh_hoạ như em phục_vụ_bàn nói . có món gà trứng gì đó trong menu để must try mà mình kiu lên thử thấy thất_vọng vô_cùng , 5 người 5 cục thịt gà với mấy cục tỏi , không thấy cái trứng nào hết . dĩa gỏi bò có vài lát bò còn lại rau với rau . nói_chung tới ăn 1 lần cho_biết chứ không có ý_định quay lại .",
         "0"
        ],
        [
         "7",
         "thức_ăn quá_đỗi bình_thường , miếng xôi của bạn mình ăn còn sạn ! mắc , không xứng_đáng vs giá_cả",
         "0"
        ],
        [
         "8",
         "mình thấy quán này rất được , nhân_viên phục_vụ nhiệt_tình , vui_vẻ , hào_phóng , khách có yêu_cầu hay thắc_mắc gì đều được trả_lời rất lịch_sự . trong phần buffet có thức_ăn nhanh với nước là khách tự_phục_vụ nhưng với những khách đi lần đầu hoặc ngại không đi lấy thì nhân_viên rất sẵn_lòng đi lấy đùm mà không hề có phàn_nàn . mình đã ghé quán rất nhiều lần . vào cuối tuần quán rất đông nhưng khách cũng không phải ngồi đợi lâu . nước lẩu của quán ngon , hợp với mình và mình thích , còn mọi người thì mình không biêt . mọi người hãy ghé quán thưởng_thức để xem điều mình nói là đúng nhé ... chúc mọi người có bữa ăn thoải_mái ở hongkong town",
         "0"
        ],
        [
         "9",
         "hôm_qua đi ăn cùng 7 chị ở công_ty . quảng_cáo ăn 4 tặng 1 thì lại thành ăn 5 tặng 1 , hỏi ra thì được bảo là chủ em nói thế . nhân_viên từ đầu đến cuối phục_vụ không 1 nụ_cười , muốn gì phải nói đi nói lại cả 3-4 lần mới có . thịt bò 3-4 dĩa đầu_tiên còn được , sau đó đem ra toàn thị bò vụn . tôm không tươi . lẩu ăn cón được chứ đồ nướng thì quá tệ . buffet quảng_cáo là bao_gồm nướng , lẩu và điểm sấm , gọi đồ điểm sấm thỉ được bảo là không có bao_gồm trong buffet , menu cũ nên chưa đổi . yêu_cầu hoá_đơn đỏ thì bảo 3 ngày_sau đến lấy . túm lại là làm_ăn cẩu_thả và khá gian_dối trong việc quảng_cáo .",
         "0"
        ],
        [
         "10",
         "- điểm trừ : mọi thứ đều được \" xắt lát mỏng \" , rau_muống thì \" dai_nhách \" , cải thảo thì bị úng : 3 - điểm cộng : nước lẩu thì vừa ăn , cũng khá ngon . : ) - vì là phong_cách tự_phục_vụ nên không có comment gì được = > lời khuyên : chỉ nên ăn \" lót_dạ \" cho_biết thui , chớ ăn nhiu đây đói lắm à : 3",
         "0"
        ],
        [
         "11",
         "không_gian quán ok như những quán king khác . đồ_ăn ngoài kệ thì nhiều nhưng_mà đồ gì đâu không ngon . tráng_miệng thì ok nhất . kem ở king thì siêu ngon rồi . rau_câu chè cũng ok . về phần thịt thì_phải nói là siêu dở . dở nhất trong những quán hq mình từng ăn luôn . thịt nướng mà đông đá cứng ngắt . nướng lên có nghe mùi_vị gì nữa đâu . thấy kinh_khủng . nv thì hách nhất_là ông kia . kiu không trả_lời liền đâu . bạn mình để quên đồ mà ở đó nói là tưởng rác mang đi giục luôn . hâh . ai không biết ăn_ở đây rồi chắc không dám ăn king ở tp nữa luôn qua . mất_mặt cả chi_nhánh",
         "0"
        ],
        [
         "12",
         "quán đơn_giản nhưng đặc_biệt bánh rất ngon , nước uống gía cũng ổn , phục_vụ chu_đáo và quản_lý rất thân_thiện , mỗi lần đi aeon_mall_bình_dương là mình hay ghé để ăn 1 cái bánh nhân nho khô",
         "0"
        ],
        [
         "13",
         "món ăn khá ngon và no nhưng phục_vụ thái_độ quá kém và tệ . không hề hài_lòng với chế_độ refill . mình cầm ly nước ra ngoài tầm 15 phút sau quay lại với bạn thì được thông_báo rằng nước đã đem ra ngoài xin vui_lòng order ly mới . pó tay cái kiểu tiêu_chuẩn mỹ phục_vụ kiểu vn",
         "0"
        ],
        [
         "14",
         "ngày_trước đồ_ăn còn khá ngon nhưng giờ mình thấy bớt nhiều rồi . nhân_viên phục_vụ không tốt , nếu_không muốn nói là thái_độ .",
         "0"
        ],
        [
         "15",
         "bánh của luxe ăn được , trang_trí bắt_mắt . vì chưa thử hết các loại nên không biết ngon hết không . nhưng nước ở đây uống khá ngon . không_gian thì không được rộng lắm",
         "0"
        ],
        [
         "16",
         "lại là gần trường cả nổi_tiếng nên đến ăn thử , thực_sự thì rất không hài_lòng : ) ) không gian ngoài hè nhìn hơi không ổn nhưng vì thoáng nên cũng bỏ_qua . gọi đồ_ăn phải đợi quá lâu , mà cái bánh crepe bơ chanh đường chua không thể tả được , như vắt mấy quả chanh vào ấy , xong lại còn đắng đắng , crepe thịt hun khói thì chẳng có gì đặc_biệt cả , sữa_chua đánh_đá thì ống hút tắc không thể hút đc . hôm ấy đi ăn cùng bạn mà phải bỏ hơn nửa đĩa bơ chanh đường , thực_sự thì không ăn nổi nữa . tóm_lại sẽ không bao h đến lần sau !",
         "0"
        ],
        [
         "17",
         "mình vào quán khi bên gogi đông khách , và phải chờ , trong khi đang đói bụng , cảnh_tượng đầu_tiên khi vào quán là sàn nhà dường_như không được quét_dọn , rác , khăn giấy và đồ_ăn thừa đầy sàn , bàn ăn lau không kỹ , gọi món thì khá lâu mới có đồ_ăn , nhân_viên phục_vụ thái_độ không tận_tình , chả dám đến lần hai , không hiểu chất_lượng như thế_mà cũng được nằm trong aeon mail .",
         "0"
        ],
        [
         "18",
         "sự_việc xảy_ra và ngày 31-10-2015 . tôi và bạn vào nhà_hàng đôi_đũa_vàng tại tầng 2 của trung_tâm thương_mại aeonmall bình_dương vào lúc 20h05 . chính_xác là tôi và bạn ngồi bàn số 6 , chúng_tôi gọi món , ngồi đợi và mọi việc bắt_đầu_từ đây . sau khi ngồi đợi 5 phút và có phục_vụ mang menu tới cho chúng_tôi gọi món và thức uống xong chúng_tôi ngồi đợi tiếp 20 phút sau và chẳng thấy phục_vụ mang nước lên hoặc có động_thái gì cả . sau khi thấy những khách vào sau đã có thức_ăn , tôi gọi phục_vụ để hỏi . 2 lần đầu phục_vụ nhìn xong gật_đầu , nhưng không thấy ai_lại . lần thứ 3 gọi một phục_vụ nữ thì tôi nhận được một ánh nhìn liếc qua và bỏ đi không nói_năng gì cả . lần thứ 4 gọi thì_có phục_vụ lại và tôi hỏi đã có những món tôi gọi chưa và có_thể mang nước lên trước không ? anh nhân_viên ấy chạy vào và hỏi phía trong là “ món của khách có chưa mà_sao khách ngồi đợi lâu quá kìa ? ” ( lúc này đồng_hồ là 20h40 , chúng_tôi đã đợi 35 phút ) . 5 phút sau anh phục_vụ chạy ra và cầm theo 2 cái menu như lúc đầu và nói chúng_tôi hãy gọi món lại . tôi hỏi lý_do và gì vậy a ? anh_ấy trả_lời là “ cái bill anh_chị gọi món bị mất đâu rồi ” tôi không_thể chấp_nhận được một thái_độ phục_vụ như_vậy được . tôi tự hỏi một nhà_hàng như_vậy mà_lại có dịch_vụ tệ đến như_thế sao ? và quan_trọng nhất_là tại_sao có_nhân viện phục_vụ có thái_độ coi_thường khách đến như_thế ? khách hang hỏi mà chỉ có vỏn_vẹn một ánh mắt liếc nhìn lại và chẳng có lời_nói nào . tôi muốn hỏi liệu tôi đang được phục_vụ hay_là đang đi xin ?",
         "0"
        ],
        [
         "19",
         "1 ngày làm_việc mêt mỏi . phi xe ra quán_ăn lẩu cá . lần đầu_vào quán . cảm_nhận nhân_viên phục_vụ nhiệt_tình , lẩu cả khá ngon , thích nhất món tôm nướng . mà quán có món gà xé cũng ngon phết . điểm chê là rau kèm lẩu ít hơn so với chỗ khác .",
         "0"
        ],
        [
         "20",
         "mình ăn bún đậu ở đây nhiều lần rồi , chủ_yếu vào buổi_trưa , cũng là giờ các anh_chị sinh_viên đến ăn rất đông nên có khi_không có chỗ mà ngồi . bún thì ngon nhưng mình có cảm_giác càng_ngày_càng ít nem và bún . phục_vụ cũng rất chậm nhưng có_thể thông_cảm vì khách đông .",
         "0"
        ],
        [
         "21",
         "quán nằm trong ngõ . đối_diện hiway hà đông . bạn mình có người quen làm ở đây nên dẫn qua uống ủng_hộ trang_trí quán đẹp . nhiều tầng . tất_cả 7 tầng thì_phải . có thang_máy . các phòng có điều_hòa . wifi gia_đình dùng chung cho 7 tầng nên khá yếu có cả đồ_ăn và đồ uống . bánh ngọt nhìn đẹp_mắt nhưng chưa ăn thử nên không biết chất_lượng ra_sao mình uống trà sữa chân trâu đặc_biệt . uống thì rất nhạt . chưa bh uống cốc trà sữa nào chán như này . pingpang ăn thì ổn . ăn bỏng ngô xong uống cốc trà sữa kia vào thì quá chán luôn . nó có vị cứ ngang_ngang chả ra làm_sao trà sữa kiểu nhái dingtea . cốc bé kia_mà 20k.chắc lần sau không uống nữa . vừa xa nhà lại chẳng ra_gì lần sau sẽ quay lại quán thử các món khác rồi nhận_xét tiếp . nếu lần sau vẫn chán như này thì bỏ luôn mất",
         "0"
        ],
        [
         "22",
         "hôm chủ_nhật , 29/11 mình đinh đến ăn vì tìm thông_tin thấy rất ngon , giá_cả hợp_lý ... mà đến thấy đóng_cửa mất_tiêu , sập xệ , bảng_hiệu còn rách . mọi ng cập_nhật dùm quán này còn hoạt_động hay không vây ? : ( ( tìm cả buổi vòng_vòng cuối_cùng đóng_cửa p / s : chưa có ăn_uống đc gì nên cũng không biết đánh_giá điểm như thế nào ?",
         "0"
        ],
        [
         "23",
         "mình biết tới chỗ này do 1 bạn bình_luận so_sánh với nhà_hàng buffet nét việt , bạn ấy bảo hương_quê vừa rẻ vừa ngon ( bên nét việt mua voucher hotdeal là 119k ) , phục_vụ lại tốt rất ok , lên foody xem review cũng thấy đc khen nức_nở nên quyết_tâm đến ăn thử , nếu ok thì lại có thêm 1 quán ruột . tới thử rồi chỉ mún la_làng , quá tệ . không hề có 40 món như quảng_cáo , chỉ vài món le que mà hết còn không thèm chăm lên , nêm nếm thì quá mặn , quầy lẩu thì_có mỗi mấy cái đầu cá ương hết lên lun . lần đầu_tiên đi ăn buffet mà về ngay sau 30p và phải ra aeon_mall ăn hủ tíu gõ và 2 ly trà đào vì đói . thấy review tốt quá mà tới thử thì kinh_sợ hoàn_toàn . thôi xin chừa , từ nay không ham rẻ và tin vào review , hình_ảnh quảng_cáo câu_khách để mất tiền oan nữa . cứ tới quán quen mà ăn , dù có mắc hơn hay rẻ hơn thì cũng tốt hơn chỗ này nhìu , 100k/người mà thua tô hủ tíu gõ 12k .",
         "0"
        ],
        [
         "24",
         "quán nhỏ , nóng , đồ_ăn ít chịu châm khi hết , nhân_viên phục_vụ ok",
         "0"
        ],
        [
         "25",
         "kêu ly cafe_latte đá ( lỗi 1 phần do mình không coi menu và kêu vì mình hay uống latte ) nhìn cái ly thể_loại cafe ý rất ư là ngỡ_ngàng , nhìn không khác_nào ly sữa_tươi bỏ thêm cafe . càng không ngờ hơn ly cafe bần vậy giá 77k , không đáng 1 chút nào . phải_chi cái ly đẹp , nhìn sang chảnh chuyên_nghiệp như đúng bản_chất cafe ý thì bỏ tiền ra cũng thấy đáng . nhân_viên nhìn mặt ai_nấy y_như mất sổ gạo . trung_nguyen từ lúc thêm dc chữ legend , thay_đổi diện_mạo thì giá cũng thay_đổi theo . oải chè",
         "0"
        ],
        [
         "26",
         "không bằng tiệm cũ ngày_trước . bgiờ ăn cơm đảo khô , chỉ hơn cơm_rang bụi 1 chút . cơm trắng ( cơm tấm ngày_xưa tiệm cũ rất ngon ) giờ ở đây thì kém hơn . mọi ng ăn hay gọi thêm sốt - sốt này không có gì đạc biệt . nấu bằng tương cà + nước + bột thôi",
         "0"
        ],
        [
         "27",
         "không_gian bên đây nhỏ , ngồi hơi chán . phục_vụ cũng bình_thường .",
         "0"
        ],
        [
         "28",
         "qán bbq cũ chuyển qa lê_hồng_phong rồi ! ! qán bbq nguyễn chí thanh buôn_bán xạo lắm ! ! tới qán gọi thịt bò mà đem ra toàn thịt heo ! ! đi một lần là tởn tới già",
         "0"
        ],
        [
         "29",
         "quán phù_hợp cho các bạn mê ăn vặt . có nhiều món đa_dạng như bánh ép , bánh_tráng trứng , bánh kẹp , bò bía . riêng mình thì thấy gần đây bánh ép không còn ngon như trước . bánh_tráng trứng ăn ngon nhưng nếu được nướng thì ăn ngon hơn chiên .",
         "0"
        ],
        [
         "30",
         "lâ ̀ n đâ ̀ u đi ăn ba ́ nh e ́ p huê ́ . thâ ́ y la ̣ la ̣ ma ̀ cu ̃ ng re ̉ . 2k/ca ́ i cuô ́ n vơ ́ i rau_răm , dưa chua , dưa_leo châ ́ m nươ ́ c mă ́ m . tuyê ̣ t ! ! ! !",
         "0"
        ],
        [
         "31",
         "quán nhỏ nhưng view nhìn đẹp . choco_vanila ngon , cafe_hazenut đắng không có vị của hazenut . giá cũng ok ! có dịp sẽ quay lại ...",
         "0"
        ],
        [
         "32",
         "ba_động là một trong những địa_điểm du_lịch ở trà_vinh . bọn mình tới đây cũng nhiều lần ( vì dân miền tây mà ) . không_gian vẫn còn hoang_sơ nên khách không nhiều , đi chơi theo nhóm cũng thoải_mái . vì là biển phù_sa nên nước đục và không đẹp . chi_phí ăn_uống và sinh_hoạt ở đây cũng khá rẻ . mình thích nhất_là những rặng dương xanh nghi_ngút dọc bờ biển , lúc chơi mệt có_thể vào tránh nắng mà không cần thuê dù . bãi_biển khi cạn khá rộng nên thích_hợp cho những chuyến picnic , chơi thể_thao ... nhìn_chung thì so_sánh về mặt giá_cả , phong_cảnh cũng tạm ổn . các bạn nên đến thử 1 lần xem sao !",
         "0"
        ],
        [
         "33",
         "ai muô ́ n ti ̀ m ra thi ̀ dâ ̃ n mi ̀ nh đi ăn đi",
         "0"
        ],
        [
         "34",
         "mình và bạn nghe đồn quán ngon . ai dè khi ra thì quán vắng , nằm trog góc hẻm , khó kiếm , nhìn như mê_cung , giá đắt so với các quán ốc mình từng ăn , chỗ lại bẩn , ốc móng tay có mùi tanh kinh_khủng như để lâu ngày . không_gian chật_chội , mình ngồi còn không dám ngồi , phục_vụ thì cứ hỏi như ép cung mình ăn thêm . quá tệ",
         "0"
        ],
        [
         "35",
         "ở đây là quán ngồi vỉa_hè mà giá khá đắt , menu không có tính tiền ghi sổ rồi đưa mình check lại . bọn mình đi 4 người gọi 1 set nướng đầy_đủ không gan và lòng giá 400k . đồ_ăn ở đây thì bình_thường ướp hơi bị mặn . kim_chi thì muối bị sống ăn bị hăng , cải thảo vẫn còn trắng nguyên luôn , mình gọi rượu atiso uống thử thì chả thấy vị thơm của atiso đâu chỉ thấy uống chả khác_gì rượu bình_thường hay uống , trà đá thì nhạt như nước_lọc ý . lúc mình gọi thêm bò nầm nướng thì không thấy có khoai_lang , cà_tím , đậu nhật như đĩa đầu gọi hỏi nhân_viên thì họ bào hết mà lúc đó mới 8h tối chứ mấy . gọi đĩa khoai_tây chiên ra trẻ_con ăn thì vừa non vừa ỉu . nhân_viên phục_vụ được_cái niềm_nở nhưng chậm_chạp vãi . bọn mình đi 4 người ăn hết tổng là 830k .",
         "0"
        ],
        [
         "36",
         "quán bé lại còn bị che_khuất bở trạm xe bus nên dễ đi qua mà không nhìn thấy . sữa_chua các loại ăn ngon chứ chè thì chả ra_sao . kem xôi ăn cũng tạm",
         "0"
        ],
        [
         "37",
         "mấy lần đi qua đều thấy đóng_cửa :crying_face: :crying_face: :crying_face: chưa có dịp thử",
         "0"
        ],
        [
         "38",
         "m thích kem xôi ngon vầ rẻ . chè bơ thì không ngon như trc nữa . sữa_chua quá chua như không cho đường",
         "0"
        ],
        [
         "39",
         "ăn_ở đây từ tuần khai_trương mà thấy bánh vừa đắt vừa không ngon , nhạt_nhẽo & hương_vị bình_thường . combo cũng không rẻ hơn mua_lẻ là mấy , thấy quảng_cáo rầm_rộ nên đi ăn mà ăn xong thất_vọng tràn_trề : - <",
         "0"
        ],
        [
         "40",
         "không_gian : chật_hẹp chỉ có vài cái bàn thôi đồ uống : cực dở luôn . mình gọi smothie xoài nhg rõ_ràng vị xoài là của nước ép xoài đóng_hộp . chán không thể tả được . bạn mình gọi vị chanh leo thì hắc hắc giá : bình_thường nhg quá đắt so với chất_lượng wifi kém lắm . nói_chung là mình sẽ không bao_giờ quay lại",
         "0"
        ],
        [
         "41",
         "ăn bi ̀ nh thươ ̀ ng . hai đư ́ a ăn su ̉ i ca ̉ o va ̀ su ̉ i ca ̉ o my ̀ ta ̣ m đươ ̣ c vơ ́ i gia ́ 35k . qua ́ n dơ ̀ i ra mă ̣ t tiê ̀ n đươ ̀ ng ntp nên dê ̃ ti ̀ m",
         "0"
        ],
        [
         "42",
         "quán này đã dời địa_điểm sang 106a phùng_văn_cung f7 quận phú_nhuận rồi nha mọi ng giờ trong địa_chỉ cũ vẫn có quán ghi là hải_sản bình_ba luôn nhưng không ngon nha , hải_sản không tươi , phục_vụ chậm giá cao , ngồi trong bóng_tối nha mọi ng lưu_ý tránh chuốc thêm bực_bội và ăn không vui nha , thanks ! ! !",
         "0"
        ],
        [
         "43",
         "quán nằm gần trường trấn_biên , buổi chiều tan học đông cực . chả lụi cũng bình_thường như những chỗ khác vì lấy chung một chỗ . thái_độ phục_vụ kém , cô bán luôn tỏ_vẻ khó_chịu .",
         "0"
        ],
        [
         "44",
         "đa ̃ ăn 1 lâ ̀ n ơ ̉ đây va ̀ se ̃ ca ̣ ch tơ ́ i gia ̀ . tha ́ i đô ̣ phu ̣ c . ụ ke ́ m : ăn hê ́ t rau hê ́ t tương xin lâ ̀ n đâ ̀ u tiên pha ̉ i đơ ̣ i lâu va ̀ pha ̉ i nhă ́ c tơ ́ i lâ ̀ n thư ́ 2 du ̀ qua ́ n không đông . chu ̉ qua ́ n co ́ tha ́ i đô ̣ kho ́ chi ̣ u . nho ́ m 3 ng ăn xong vê ̀ tô ́ i bi ̣ đau quă ̣ n bu ̣ ng",
         "0"
        ],
        [
         "45",
         "hôm_nay đi qua , vào gọi gà luộc . ngồi nhâm_nhi lon bia một lúc thì thấy bê cơm ra . hỏi gà đâu thì một lúc sau mới bảo hết rồi . chán ! cần cải_tạo cách phục_vụ của nhân_viên cho tốt hơn . giá_cả thì cũng không phải là rẻ gì , tuy có niêm_yết chi_tiết . tất_nhiên là rẻ hơn hà_nội hay hạ_long rồi . được_cái nhà_hàng rộng_rãi , mát_mẻ ( miền núi mà ) , sạch_sẽ và tiện đường nhất trên tiên_yên . nếu các bạn đi đông thì sẽ được ưu_tiên phục_vụ ( ăn nhiều :beaming_face_with_smiling_eyes: ) . nếu_không là phải gọi mỏi mồm đấy . không có bánh gật_gù tại quán như các bạn quảng ninh hay quảng_cáo đâu . chắc món đấy làm lâu công . món khâu nhục không dậy_mùi tỏi , chưa đạt yêu_cầu , như thịt ba_chỉ kho thường . nếu bạn nào ăn_ở hoành_bồ rồi sẽ so_sánh được ngay . nói_chung là có_tiếng do ở tiên_yên thôi . phía dưới gần lối đi ba_chẽ cũng có vài nhà_hàng còn lớn hơn nhiều , xe đậu thoải_mái .",
         "0"
        ],
        [
         "46",
         "quán cũng khá nhỏ đồ uống cũng được mèo thấy đồ_ăn là sán vô con hết r chúng_nó chổng đít quay di max phũ : ) ) ) ) ) ) ncl đến nhiều r nhung gio moi review cho quán ... . ncl.ổn",
         "0"
        ],
        [
         "47",
         "đồ uống cũng bình_thường như bao quán khác , mèo ở đây nó cứ lờ_đờ bệnh bệnh thế_nào ấy",
         "0"
        ],
        [
         "48",
         "+ ) ưu_điểm : rộng_rãi khang_trang , trang_trí theo hơi_hướng hàn_quốc vì h cgv của hq nên bài_trí như_vậy cũng không có gì là_lạ : ) không gian rộng thôi rồi , thiet kế như kiểu 1 khu chờ tàu_điện_ngầm vậy : ) rộng đến_nỗi như kiểu đi mãi không hết_ý ! có hôm tìm phòng chiếu mãi mới thấy vì nó o trong góc : ) nếu_mà đến đây để chụp choẹt chắc chụp cả ngày không thấy chán mất , thích nhất_là khu có ghế sofa ngồi êm mà kể_cả ngồi bao_lâu cũng chả ai duoi . kiểu đến cgv hà đông cảm_giác thoải_mái lắm ý chả ai quản : ) ) cảm_thấy tự_do như ở nhà . nhà_vệ_sinh đẹp các chị_em nào mà nghiện tự sướng thì có_thể vào tự sướng thoai mái nhé không ai cản đâu : ) ) cái gương trong wc nữ như kiểu bàn trang_điểm ý xinh dã_man , à ưu_điểm nữa_là khu để xe rộng_rãi bảo vẹ vui_tính , không mất phí gửi xe nên các bạn yên_tâm + ) nhược_điểm : quá xa trung_tâm thành_phố , mặc_dù vé ở đây nhiều lúc rẻ hơn ở các cgv khác nhưng cứ nghĩ đến viec xuống đây xem phim la mình thấy ngại rồi ý : ) ) ngày thứ 4 vé đồng giá 50k nhé các bạn rẻ hơn cgv khác nên có hôm mình ham_hố xuống xem mặc_kệ trời nắng gắt thế_là vì tiết_kiệm 25k mà xem xong về ốm luôn : ) ) ) nên nếu ai nhà xa quá thì đừng cố nhé không lại quá_cố ! nhược_điểm nữa_là nhân_viên ở đây làm_ăn không chuyên_nghiệp , nói_năng khó nghe , kiểu nhân_viên nói nhanh không rõ_ràng ý , hôm đấy mình mua 3 vé xem phim chưa hỏi mình muốn lấy combo bỏng nước không đã tự_động cho_rồi , mình nói mình không mua combo mà_sao tự_dưng cho thì lại còn mắng lại bảo sao không tự để_ý vé thấy rẻ như thế mà không phàn_nàn luôn in vé rồi không đổi dc nữa : ) xong cũng hứa_hẹn bảo quản_lý ra giải_quyết rồi cũng mất_tăm_mất_tích luôn . may là lúc đấy cũng có khách muốn mua bỏng nên mình thương_lượng đc vs ng ta mua hộ cho mình phần combo : ) nhân_viên vô_trách_nhiệm và thái_độ , thật_sự làm minh thấy khó_chịu , xem mất tiền phải để khách thấy vui_vẻ chư nhưng chưa xem đã mất vui rồi , không phải mình đánh_đồng vs toàn_bộ nhân_viên của cgv . mình nhận_xét thẳng_thắn luôn nhân_viên cgv bên lotte và bên bà triệu mình tháy rất ok , phục_vụ rất đc chỉ có bên cgv hà đông là như_vậy thoi : ) chưa kể dù_sao cgv này cũng ở bên hà đông không phải vung trung_tâm nên ng xem cũng khá mất lịch_sự ! vào rạp thì nói to , nghe đt xong các thứ cảm_giác như đang xem ở rạp quốc_gia vậy ! đúng là cái gì rẻ quá cũng không tốt ! khuyên các bạn muốn đổi gió thì đến đây xem thử 1 2 lần thôi rồi các bạn cũng sẽ cảm_nhận giống mình thôi : )",
         "0"
        ],
        [
         "49",
         "món ăn thì cũng ngon , khg có gì đáng nói , giá_cả bình_dân hợp túi_tiền quán trong hẻm rộng_rãi , xe để kế bên cũng an_tâm chỉ có là order xong ngồi chờ rã cả họng anh thanh_niên đẹp chai mới tàn tàn lại thông_báo món này hết ròi , kiu order món khác giùm , lại 1 khoảng thời_gian dài đằng_đẵng nữa chờ_đợi trong tuyệt_vọng , tới mức hết chuyện để 8 với nhau mới thấy có món dọn lên . ăn_ở đây 2 lần , lần nào cũng vậy",
         "0"
        ]
       ],
       "shape": {
        "columns": 2,
        "rows": 49579
       }
      },
      "text/html": [
       "<div>\n",
       "<style scoped>\n",
       "    .dataframe tbody tr th:only-of-type {\n",
       "        vertical-align: middle;\n",
       "    }\n",
       "\n",
       "    .dataframe tbody tr th {\n",
       "        vertical-align: top;\n",
       "    }\n",
       "\n",
       "    .dataframe thead th {\n",
       "        text-align: right;\n",
       "    }\n",
       "</style>\n",
       "<table border=\"1\" class=\"dataframe\">\n",
       "  <thead>\n",
       "    <tr style=\"text-align: right;\">\n",
       "      <th></th>\n",
       "      <th>sentence</th>\n",
       "      <th>label</th>\n",
       "    </tr>\n",
       "  </thead>\n",
       "  <tbody>\n",
       "    <tr>\n",
       "      <th>0</th>\n",
       "      <td>mua có mỗi bingsu thập_cẩm 45k mà mình f đợi h...</td>\n",
       "      <td>0</td>\n",
       "    </tr>\n",
       "    <tr>\n",
       "      <th>1</th>\n",
       "      <td>thứ 6 nào ta cùng quẩy :bomb: :bomb: :bomb: vu...</td>\n",
       "      <td>0</td>\n",
       "    </tr>\n",
       "    <tr>\n",
       "      <th>2</th>\n",
       "      <td>mình đi với nhóm , tổng_cộng 4 người ăn chỉ có...</td>\n",
       "      <td>0</td>\n",
       "    </tr>\n",
       "    <tr>\n",
       "      <th>3</th>\n",
       "      <td>nhân_viên phục_vụ không mấy tận_tình , đồ_ăn r...</td>\n",
       "      <td>0</td>\n",
       "    </tr>\n",
       "    <tr>\n",
       "      <th>4</th>\n",
       "      <td>vào đây thì hết bàn , nhưng mình vẫn ngồi đợi ...</td>\n",
       "      <td>0</td>\n",
       "    </tr>\n",
       "    <tr>\n",
       "      <th>...</th>\n",
       "      <td>...</td>\n",
       "      <td>...</td>\n",
       "    </tr>\n",
       "    <tr>\n",
       "      <th>49996</th>\n",
       "      <td>quán không_gian nhỏ nhưng khá lịch_sự , sạch_s...</td>\n",
       "      <td>1</td>\n",
       "    </tr>\n",
       "    <tr>\n",
       "      <th>49997</th>\n",
       "      <td>đi ăn lần 2 : ) ) ) lần này rút kinh_nghiệm ki...</td>\n",
       "      <td>1</td>\n",
       "    </tr>\n",
       "    <tr>\n",
       "      <th>49998</th>\n",
       "      <td>mình ăn 2 món , mà quên tên mất rồi , toàn từ ...</td>\n",
       "      <td>1</td>\n",
       "    </tr>\n",
       "    <tr>\n",
       "      <th>49999</th>\n",
       "      <td>trong ảnh là • 1 phần mì udon xào • 1 phần cuố...</td>\n",
       "      <td>1</td>\n",
       "    </tr>\n",
       "    <tr>\n",
       "      <th>50000</th>\n",
       "      <td>địa_điểm : dễ tìm , mậu thân quẹo vào đường bờ...</td>\n",
       "      <td>1</td>\n",
       "    </tr>\n",
       "  </tbody>\n",
       "</table>\n",
       "<p>49579 rows × 2 columns</p>\n",
       "</div>"
      ],
      "text/plain": [
       "                                                sentence  label\n",
       "0      mua có mỗi bingsu thập_cẩm 45k mà mình f đợi h...      0\n",
       "1      thứ 6 nào ta cùng quẩy :bomb: :bomb: :bomb: vu...      0\n",
       "2      mình đi với nhóm , tổng_cộng 4 người ăn chỉ có...      0\n",
       "3      nhân_viên phục_vụ không mấy tận_tình , đồ_ăn r...      0\n",
       "4      vào đây thì hết bàn , nhưng mình vẫn ngồi đợi ...      0\n",
       "...                                                  ...    ...\n",
       "49996  quán không_gian nhỏ nhưng khá lịch_sự , sạch_s...      1\n",
       "49997  đi ăn lần 2 : ) ) ) lần này rút kinh_nghiệm ki...      1\n",
       "49998  mình ăn 2 món , mà quên tên mất rồi , toàn từ ...      1\n",
       "49999  trong ảnh là • 1 phần mì udon xào • 1 phần cuố...      1\n",
       "50000  địa_điểm : dễ tìm , mậu thân quẹo vào đường bờ...      1\n",
       "\n",
       "[49579 rows x 2 columns]"
      ]
     },
     "execution_count": 76,
     "metadata": {},
     "output_type": "execute_result"
    }
   ],
   "source": [
    "print(len(train_df) + len(valid_df) + len(test_df))\n",
    "full_df"
   ]
  },
  {
   "cell_type": "markdown",
   "id": "338bfd2f",
   "metadata": {},
   "source": [
    "# **Conver to csv**"
   ]
  },
  {
   "cell_type": "code",
   "execution_count": 82,
   "id": "c8cabf7e",
   "metadata": {},
   "outputs": [],
   "source": [
    "path = r'./cleaned_data/'\n",
    "train_df.to_csv(path + 'train.csv', index=False, encoding='utf-8')\n",
    "valid_df.to_csv(path + 'valid.csv', index=False, encoding='utf-8')\n",
    "test_df.to_csv(path + 'test.csv', index=False, encoding='utf-8')"
   ]
  }
 ],
 "metadata": {
  "kernelspec": {
   "display_name": "Python 3",
   "language": "python",
   "name": "python3"
  },
  "language_info": {
   "codemirror_mode": {
    "name": "ipython",
    "version": 3
   },
   "file_extension": ".py",
   "mimetype": "text/x-python",
   "name": "python",
   "nbconvert_exporter": "python",
   "pygments_lexer": "ipython3",
   "version": "3.12.0"
  }
 },
 "nbformat": 4,
 "nbformat_minor": 5
}
