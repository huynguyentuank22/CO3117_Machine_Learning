{
 "cells": [
  {
   "cell_type": "code",
   "execution_count": 1,
   "id": "89c9b180",
   "metadata": {},
   "outputs": [
    {
     "name": "stderr",
     "output_type": "stream",
     "text": [
      "c:\\Users\\Huy\\AppData\\Local\\Programs\\Python\\Python312\\Lib\\site-packages\\tqdm\\auto.py:21: TqdmWarning: IProgress not found. Please update jupyter and ipywidgets. See https://ipywidgets.readthedocs.io/en/stable/user_install.html\n",
      "  from .autonotebook import tqdm as notebook_tqdm\n"
     ]
    }
   ],
   "source": [
    "import pandas as pd\n",
    "import numpy as np\n",
    "import re\n",
    "import torch\n",
    "from torch.utils.data import Dataset, DataLoader\n",
    "from transformers import AutoTokenizer, AutoModelForSequenceClassification\n",
    "from torch.optim import AdamW\n",
    "from transformers import get_linear_schedule_with_warmup"
   ]
  },
  {
   "cell_type": "code",
   "execution_count": 2,
   "id": "a54b58be",
   "metadata": {},
   "outputs": [],
   "source": [
    "model = AutoModelForSequenceClassification.from_pretrained(\"./modelTransformer/\")\n",
    "tokenizer = AutoTokenizer.from_pretrained(\"./modelTransformer/\")"
   ]
  },
  {
   "cell_type": "code",
   "execution_count": null,
   "id": "9737e327",
   "metadata": {},
   "outputs": [
    {
     "name": "stdout",
     "output_type": "stream",
     "text": [
      "tensor([[0.6897, 0.3103]], device='cuda:0', grad_fn=<SoftmaxBackward0>)\n",
      "negative\n"
     ]
    }
   ],
   "source": [
    "inp = \"món này ăn rất ngon, mình rất thích\"\n",
    "\n",
    "token = tokenizer.encode(inp, return_tensors='pt')\n",
    "\n",
    "device = torch.device(\"cuda\" if torch.cuda.is_available() else \"cpu\")\n",
    "model.to(device)\n",
    "token = token.to(device)\n",
    "output  = model(token)\n",
    "out = torch.softmax(output.logits, dim=1)\n",
    "i2label = {0: \"negative\", 1: \"positive\"}\n",
    "print(out)\n",
    "print(i2label[torch.argmax(out).item()])"
   ]
  },
  {
   "cell_type": "code",
   "execution_count": 17,
   "id": "5d9ad51f",
   "metadata": {},
   "outputs": [
    {
     "data": {
      "text/plain": [
       "['món', 'này', 'ăn', 'rất', 'ng@@', 'on@@', ',', 'mình', 'rất', 'thích']"
      ]
     },
     "execution_count": 17,
     "metadata": {},
     "output_type": "execute_result"
    }
   ],
   "source": [
    "inp = \"món này ăn rất ngon, mình rất thích\"\n",
    "\n",
    "tokens = tokenizer.tokenize(inp)\n",
    "tokens"
   ]
  },
  {
   "cell_type": "code",
   "execution_count": null,
   "id": "1b67e34b",
   "metadata": {},
   "outputs": [],
   "source": []
  }
 ],
 "metadata": {
  "kernelspec": {
   "display_name": "Python 3",
   "language": "python",
   "name": "python3"
  },
  "language_info": {
   "codemirror_mode": {
    "name": "ipython",
    "version": 3
   },
   "file_extension": ".py",
   "mimetype": "text/x-python",
   "name": "python",
   "nbconvert_exporter": "python",
   "pygments_lexer": "ipython3",
   "version": "3.12.0"
  }
 },
 "nbformat": 4,
 "nbformat_minor": 5
}
