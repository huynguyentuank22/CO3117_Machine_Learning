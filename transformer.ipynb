{
 "cells": [
  {
   "cell_type": "code",
   "execution_count": 1,
   "id": "80ce350b",
   "metadata": {},
   "outputs": [
    {
     "name": "stderr",
     "output_type": "stream",
     "text": [
      "c:\\Users\\Huy\\AppData\\Local\\Programs\\Python\\Python312\\Lib\\site-packages\\tqdm\\auto.py:21: TqdmWarning: IProgress not found. Please update jupyter and ipywidgets. See https://ipywidgets.readthedocs.io/en/stable/user_install.html\n",
      "  from .autonotebook import tqdm as notebook_tqdm\n"
     ]
    }
   ],
   "source": [
    "import pandas as pd\n",
    "import numpy as np\n",
    "import re\n",
    "import torch\n",
    "from torch.utils.data import Dataset, DataLoader\n",
    "from transformers import AutoTokenizer, AutoModelForSequenceClassification\n",
    "from torch.optim import AdamW\n",
    "from transformers import get_linear_schedule_with_warmup"
   ]
  },
  {
   "cell_type": "code",
   "execution_count": 2,
   "id": "2c0eb820",
   "metadata": {},
   "outputs": [
    {
     "name": "stderr",
     "output_type": "stream",
     "text": [
      "Some weights of RobertaForSequenceClassification were not initialized from the model checkpoint at vinai/phobert-base and are newly initialized: ['classifier.dense.bias', 'classifier.dense.weight', 'classifier.out_proj.bias', 'classifier.out_proj.weight']\n",
      "You should probably TRAIN this model on a down-stream task to be able to use it for predictions and inference.\n"
     ]
    }
   ],
   "source": [
    "tokenizer = AutoTokenizer.from_pretrained(\"vinai/phobert-base\")\n",
    "model = AutoModelForSequenceClassification.from_pretrained(\"vinai/phobert-base\", num_labels=2)"
   ]
  },
  {
   "cell_type": "code",
   "execution_count": 3,
   "id": "01976147",
   "metadata": {},
   "outputs": [],
   "source": [
    "train_df = pd.read_csv('./cleaned_data/train.csv')\n",
    "valid_df = pd.read_csv('./cleaned_data/valid.csv')\n",
    "test_df = pd.read_csv('./cleaned_data/test.csv')\n",
    "# Làm sạch dữ liệu\n",
    "def clean_text(text):\n",
    "    text = str(text)\n",
    "    emoji_pattern = re.compile(\":[a-zA-Z0-9_]+:\")\n",
    "    text = emoji_pattern.sub(\"\", text)\n",
    "    text = re.sub(r'[^\\w\\s]', '', text)\n",
    "    text = re.sub(r'[\\s\\_]+', ' ', text)\n",
    "    return text.strip()\n",
    "\n",
    "train_df['sentence'] = train_df['sentence'].apply(clean_text)\n",
    "valid_df['sentence'] = valid_df['sentence'].apply(clean_text)\n",
    "test_df['sentence'] = test_df['sentence'].apply(clean_text)\n",
    "# dataset = [train_df, valid_df, test_df]\n",
    "# for data in dataset:\n",
    "#     for i, text in enumerate(data['sentence'].tolist()):\n",
    "#         try:\n",
    "#             encoding = tokenizer(text, padding=\"max_length\", truncation=True, max_length=512, return_tensors=\"pt\")\n",
    "#             max_id = encoding['input_ids'].max().item()\n",
    "#             if max_id >= 64001:\n",
    "#                 print(f\"Câu lỗi tại index {i}: {text}\")\n",
    "#         except Exception as e:\n",
    "#             print(f\"Lỗi tại index {i}: {text}, Chi tiết: {str(e)}\")"
   ]
  },
  {
   "cell_type": "code",
   "execution_count": 4,
   "id": "34cb7996",
   "metadata": {},
   "outputs": [
    {
     "data": {
      "application/vnd.microsoft.datawrangler.viewer.v0+json": {
       "columns": [
        {
         "name": "index",
         "rawType": "int64",
         "type": "integer"
        },
        {
         "name": "sentence",
         "rawType": "object",
         "type": "string"
        },
        {
         "name": "label",
         "rawType": "int64",
         "type": "integer"
        }
       ],
       "conversionMethod": "pd.DataFrame",
       "ref": "44c085bc-2709-4652-ba2b-16f96c1846f7",
       "rows": [
        [
         "0",
         "mua có mỗi bingsu thập cẩm 45k mà mình f đợi hơn 20 hỏi lại thì nv trả lời có r nhg bảo chờ thêm 15 nữa tụi e lm liền mình không biết có ngon không nhg cũng muốn ăn thử thiết nghĩ nv quán nên xem lại cách pv và nc vs khách",
         "0"
        ],
        [
         "1",
         "thứ 6 nào ta cùng quẩy vuvuzela beer club chung hệ thống gogi house daruma kichi kichi nên giá cũng chưa 10 vat thanh toán trước 20g hằng ngày đc giảm 30 thức ăn tính ra đc giảm 20 cũng zui ngồi thư giãn cũng ok thức ăn cũng ổn có mấy món nguyên liệu bên ngoài không biết chỗ nào bán nên vô đây ăn cơ mà gọi mấy món đó cũng không có hàng cháo bồ câu hình chụp nguyên con bồ câu mà tìm hoài chỉ thấy phao câu không thấy đầu bồ câu hỏi e nv e chạy hỏi nhà bếp đc trả lời là 1 phần cháo đc tính toán 1 lượng thịt cố định theo gram chứ không phải nguyên con chị ơi ps lần sau sẽ rủ trên 4 đứa đi quẩy để đc tặng 10 ly biaaaaaaaaaaaaaa mí đc",
         "0"
        ],
        [
         "2",
         "mình đi với nhóm tổng cộng 4 người ăn chỉ có không tới 150k mà no luôn í một con cá lóc nướng to thiệt to kèm với rau sống bún bánh tráng đồ luôn là có 90k ah bắp giò 69k để gói cuốn bánh tráng chung bún thêm 5k bánh tráng thêm 8k nữa đồ ăn rẻ thích hợp ăn uống cuối tuần cho gia đình tuy nhiên mình thấy nước chấm không ngon mắm nêm có mùi gừng ăn kỳ kỳ cá thì nguội quá chắc là nướng lâu rồi không hâm nóng lại",
         "0"
        ],
        [
         "3",
         "nhân viên phục vụ không mấy tận tình đồ ăn ra lâu và không đều món cơm thịt bò nướng ngon còn mì soba xào không được ngon cho lắm",
         "0"
        ],
        [
         "4",
         "vào đây thì hết bàn nhưng mình vẫn ngồi đợi bình thường để nhân viên dọn bàn ai ngờ dọn xong họ cho tốp khách sau vào ngồi còn mình thì như vô hình bị lơ mình cười nửa miệng rồi bước ra khỏi quán có lẽ vì mình đi 1 mình nên họ ưu tiên nhóm đông người vì lợi nhuận mà xem thường khách phục vụ và phong cách làm việc quá tệ hại chưa ăn nhưng dù có ngon thì với cách đón tiếp kiểu này thì mình cũng cho vào sổ đen",
         "0"
        ],
        [
         "5",
         "hôm nay đến aeon có ghé vào quán món ăn cũng khá nhưng hơi ít không gian quán cũng ổn",
         "0"
        ],
        [
         "6",
         "mình vào lúc 8h tối cũng không đông khách lắm nhưng chờ hơi lâu order 4 món thì ăn giống như nhét kẽ răng không xi nhê phải thêm cái lẩu cá sả nữa mới tạm no giá hơi mắc đồ ăn thì hơi ít hình ảnh trên menu đúng mang tính chất minh hoạ như em phục vụ bàn nói có món gà trứng gì đó trong menu để must try mà mình kiu lên thử thấy thất vọng vô cùng 5 người 5 cục thịt gà với mấy cục tỏi không thấy cái trứng nào hết dĩa gỏi bò có vài lát bò còn lại rau với rau nói chung tới ăn 1 lần cho biết chứ không có ý định quay lại",
         "0"
        ],
        [
         "7",
         "thức ăn quá đỗi bình thường miếng xôi của bạn mình ăn còn sạn mắc không xứng đáng vs giá cả",
         "0"
        ],
        [
         "8",
         "mình thấy quán này rất được nhân viên phục vụ nhiệt tình vui vẻ hào phóng khách có yêu cầu hay thắc mắc gì đều được trả lời rất lịch sự trong phần buffet có thức ăn nhanh với nước là khách tự phục vụ nhưng với những khách đi lần đầu hoặc ngại không đi lấy thì nhân viên rất sẵn lòng đi lấy đùm mà không hề có phàn nàn mình đã ghé quán rất nhiều lần vào cuối tuần quán rất đông nhưng khách cũng không phải ngồi đợi lâu nước lẩu của quán ngon hợp với mình và mình thích còn mọi người thì mình không biêt mọi người hãy ghé quán thưởng thức để xem điều mình nói là đúng nhé chúc mọi người có bữa ăn thoải mái ở hongkong town",
         "0"
        ],
        [
         "9",
         "hôm qua đi ăn cùng 7 chị ở công ty quảng cáo ăn 4 tặng 1 thì lại thành ăn 5 tặng 1 hỏi ra thì được bảo là chủ em nói thế nhân viên từ đầu đến cuối phục vụ không 1 nụ cười muốn gì phải nói đi nói lại cả 34 lần mới có thịt bò 34 dĩa đầu tiên còn được sau đó đem ra toàn thị bò vụn tôm không tươi lẩu ăn cón được chứ đồ nướng thì quá tệ buffet quảng cáo là bao gồm nướng lẩu và điểm sấm gọi đồ điểm sấm thỉ được bảo là không có bao gồm trong buffet menu cũ nên chưa đổi yêu cầu hoá đơn đỏ thì bảo 3 ngày sau đến lấy túm lại là làm ăn cẩu thả và khá gian dối trong việc quảng cáo",
         "0"
        ],
        [
         "10",
         "điểm trừ mọi thứ đều được xắt lát mỏng rau muống thì dai nhách cải thảo thì bị úng 3 điểm cộng nước lẩu thì vừa ăn cũng khá ngon vì là phong cách tự phục vụ nên không có comment gì được lời khuyên chỉ nên ăn lót dạ cho biết thui chớ ăn nhiu đây đói lắm à 3",
         "0"
        ],
        [
         "11",
         "không gian quán ok như những quán king khác đồ ăn ngoài kệ thì nhiều nhưng mà đồ gì đâu không ngon tráng miệng thì ok nhất kem ở king thì siêu ngon rồi rau câu chè cũng ok về phần thịt thì phải nói là siêu dở dở nhất trong những quán hq mình từng ăn luôn thịt nướng mà đông đá cứng ngắt nướng lên có nghe mùi vị gì nữa đâu thấy kinh khủng nv thì hách nhất là ông kia kiu không trả lời liền đâu bạn mình để quên đồ mà ở đó nói là tưởng rác mang đi giục luôn hâh ai không biết ăn ở đây rồi chắc không dám ăn king ở tp nữa luôn qua mất mặt cả chi nhánh",
         "0"
        ],
        [
         "12",
         "quán đơn giản nhưng đặc biệt bánh rất ngon nước uống gía cũng ổn phục vụ chu đáo và quản lý rất thân thiện mỗi lần đi aeon mall bình dương là mình hay ghé để ăn 1 cái bánh nhân nho khô",
         "0"
        ],
        [
         "13",
         "món ăn khá ngon và no nhưng phục vụ thái độ quá kém và tệ không hề hài lòng với chế độ refill mình cầm ly nước ra ngoài tầm 15 phút sau quay lại với bạn thì được thông báo rằng nước đã đem ra ngoài xin vui lòng order ly mới pó tay cái kiểu tiêu chuẩn mỹ phục vụ kiểu vn",
         "0"
        ],
        [
         "14",
         "ngày trước đồ ăn còn khá ngon nhưng giờ mình thấy bớt nhiều rồi nhân viên phục vụ không tốt nếu không muốn nói là thái độ",
         "0"
        ],
        [
         "15",
         "bánh của luxe ăn được trang trí bắt mắt vì chưa thử hết các loại nên không biết ngon hết không nhưng nước ở đây uống khá ngon không gian thì không được rộng lắm",
         "0"
        ],
        [
         "16",
         "lại là gần trường cả nổi tiếng nên đến ăn thử thực sự thì rất không hài lòng không gian ngoài hè nhìn hơi không ổn nhưng vì thoáng nên cũng bỏ qua gọi đồ ăn phải đợi quá lâu mà cái bánh crepe bơ chanh đường chua không thể tả được như vắt mấy quả chanh vào ấy xong lại còn đắng đắng crepe thịt hun khói thì chẳng có gì đặc biệt cả sữa chua đánh đá thì ống hút tắc không thể hút đc hôm ấy đi ăn cùng bạn mà phải bỏ hơn nửa đĩa bơ chanh đường thực sự thì không ăn nổi nữa tóm lại sẽ không bao h đến lần sau",
         "0"
        ],
        [
         "17",
         "mình vào quán khi bên gogi đông khách và phải chờ trong khi đang đói bụng cảnh tượng đầu tiên khi vào quán là sàn nhà dường như không được quét dọn rác khăn giấy và đồ ăn thừa đầy sàn bàn ăn lau không kỹ gọi món thì khá lâu mới có đồ ăn nhân viên phục vụ thái độ không tận tình chả dám đến lần hai không hiểu chất lượng như thế mà cũng được nằm trong aeon mail",
         "0"
        ],
        [
         "18",
         "sự việc xảy ra và ngày 31102015 tôi và bạn vào nhà hàng đôi đũa vàng tại tầng 2 của trung tâm thương mại aeonmall bình dương vào lúc 20h05 chính xác là tôi và bạn ngồi bàn số 6 chúng tôi gọi món ngồi đợi và mọi việc bắt đầu từ đây sau khi ngồi đợi 5 phút và có phục vụ mang menu tới cho chúng tôi gọi món và thức uống xong chúng tôi ngồi đợi tiếp 20 phút sau và chẳng thấy phục vụ mang nước lên hoặc có động thái gì cả sau khi thấy những khách vào sau đã có thức ăn tôi gọi phục vụ để hỏi 2 lần đầu phục vụ nhìn xong gật đầu nhưng không thấy ai lại lần thứ 3 gọi một phục vụ nữ thì tôi nhận được một ánh nhìn liếc qua và bỏ đi không nói năng gì cả lần thứ 4 gọi thì có phục vụ lại và tôi hỏi đã có những món tôi gọi chưa và có thể mang nước lên trước không anh nhân viên ấy chạy vào và hỏi phía trong là món của khách có chưa mà sao khách ngồi đợi lâu quá kìa lúc này đồng hồ là 20h40 chúng tôi đã đợi 35 phút 5 phút sau anh phục vụ chạy ra và cầm theo 2 cái menu như lúc đầu và nói chúng tôi hãy gọi món lại tôi hỏi lý do và gì vậy a anh ấy trả lời là cái bill anh chị gọi món bị mất đâu rồi tôi không thể chấp nhận được một thái độ phục vụ như vậy được tôi tự hỏi một nhà hàng như vậy mà lại có dịch vụ tệ đến như thế sao và quan trọng nhất là tại sao có nhân viện phục vụ có thái độ coi thường khách đến như thế khách hang hỏi mà chỉ có vỏn vẹn một ánh mắt liếc nhìn lại và chẳng có lời nói nào tôi muốn hỏi liệu tôi đang được phục vụ hay là đang đi xin",
         "0"
        ],
        [
         "19",
         "1 ngày làm việc mêt mỏi phi xe ra quán ăn lẩu cá lần đầu vào quán cảm nhận nhân viên phục vụ nhiệt tình lẩu cả khá ngon thích nhất món tôm nướng mà quán có món gà xé cũng ngon phết điểm chê là rau kèm lẩu ít hơn so với chỗ khác",
         "0"
        ],
        [
         "20",
         "mình ăn bún đậu ở đây nhiều lần rồi chủ yếu vào buổi trưa cũng là giờ các anh chị sinh viên đến ăn rất đông nên có khi không có chỗ mà ngồi bún thì ngon nhưng mình có cảm giác càng ngày càng ít nem và bún phục vụ cũng rất chậm nhưng có thể thông cảm vì khách đông",
         "0"
        ],
        [
         "21",
         "quán nằm trong ngõ đối diện hiway hà đông bạn mình có người quen làm ở đây nên dẫn qua uống ủng hộ trang trí quán đẹp nhiều tầng tất cả 7 tầng thì phải có thang máy các phòng có điều hòa wifi gia đình dùng chung cho 7 tầng nên khá yếu có cả đồ ăn và đồ uống bánh ngọt nhìn đẹp mắt nhưng chưa ăn thử nên không biết chất lượng ra sao mình uống trà sữa chân trâu đặc biệt uống thì rất nhạt chưa bh uống cốc trà sữa nào chán như này pingpang ăn thì ổn ăn bỏng ngô xong uống cốc trà sữa kia vào thì quá chán luôn nó có vị cứ ngang ngang chả ra làm sao trà sữa kiểu nhái dingtea cốc bé kia mà 20kchắc lần sau không uống nữa vừa xa nhà lại chẳng ra gì lần sau sẽ quay lại quán thử các món khác rồi nhận xét tiếp nếu lần sau vẫn chán như này thì bỏ luôn mất",
         "0"
        ],
        [
         "22",
         "hôm chủ nhật 2911 mình đinh đến ăn vì tìm thông tin thấy rất ngon giá cả hợp lý mà đến thấy đóng cửa mất tiêu sập xệ bảng hiệu còn rách mọi ng cập nhật dùm quán này còn hoạt động hay không vây tìm cả buổi vòng vòng cuối cùng đóng cửa p s chưa có ăn uống đc gì nên cũng không biết đánh giá điểm như thế nào",
         "0"
        ],
        [
         "23",
         "mình biết tới chỗ này do 1 bạn bình luận so sánh với nhà hàng buffet nét việt bạn ấy bảo hương quê vừa rẻ vừa ngon bên nét việt mua voucher hotdeal là 119k phục vụ lại tốt rất ok lên foody xem review cũng thấy đc khen nức nở nên quyết tâm đến ăn thử nếu ok thì lại có thêm 1 quán ruột tới thử rồi chỉ mún la làng quá tệ không hề có 40 món như quảng cáo chỉ vài món le que mà hết còn không thèm chăm lên nêm nếm thì quá mặn quầy lẩu thì có mỗi mấy cái đầu cá ương hết lên lun lần đầu tiên đi ăn buffet mà về ngay sau 30p và phải ra aeon mall ăn hủ tíu gõ và 2 ly trà đào vì đói thấy review tốt quá mà tới thử thì kinh sợ hoàn toàn thôi xin chừa từ nay không ham rẻ và tin vào review hình ảnh quảng cáo câu khách để mất tiền oan nữa cứ tới quán quen mà ăn dù có mắc hơn hay rẻ hơn thì cũng tốt hơn chỗ này nhìu 100kngười mà thua tô hủ tíu gõ 12k",
         "0"
        ],
        [
         "24",
         "quán nhỏ nóng đồ ăn ít chịu châm khi hết nhân viên phục vụ ok",
         "0"
        ],
        [
         "25",
         "kêu ly cafe latte đá lỗi 1 phần do mình không coi menu và kêu vì mình hay uống latte nhìn cái ly thể loại cafe ý rất ư là ngỡ ngàng nhìn không khác nào ly sữa tươi bỏ thêm cafe càng không ngờ hơn ly cafe bần vậy giá 77k không đáng 1 chút nào phải chi cái ly đẹp nhìn sang chảnh chuyên nghiệp như đúng bản chất cafe ý thì bỏ tiền ra cũng thấy đáng nhân viên nhìn mặt ai nấy y như mất sổ gạo trung nguyen từ lúc thêm dc chữ legend thay đổi diện mạo thì giá cũng thay đổi theo oải chè",
         "0"
        ],
        [
         "26",
         "không bằng tiệm cũ ngày trước bgiờ ăn cơm đảo khô chỉ hơn cơm rang bụi 1 chút cơm trắng cơm tấm ngày xưa tiệm cũ rất ngon giờ ở đây thì kém hơn mọi ng ăn hay gọi thêm sốt sốt này không có gì đạc biệt nấu bằng tương cà nước bột thôi",
         "0"
        ],
        [
         "27",
         "không gian bên đây nhỏ ngồi hơi chán phục vụ cũng bình thường",
         "0"
        ],
        [
         "28",
         "qán bbq cũ chuyển qa lê hồng phong rồi qán bbq nguyễn chí thanh buôn bán xạo lắm tới qán gọi thịt bò mà đem ra toàn thịt heo đi một lần là tởn tới già",
         "0"
        ],
        [
         "29",
         "quán phù hợp cho các bạn mê ăn vặt có nhiều món đa dạng như bánh ép bánh tráng trứng bánh kẹp bò bía riêng mình thì thấy gần đây bánh ép không còn ngon như trước bánh tráng trứng ăn ngon nhưng nếu được nướng thì ăn ngon hơn chiên",
         "0"
        ],
        [
         "30",
         "lâ n đâ u đi ăn ba nh e p huê thâ y la la ma cu ng re 2kca i cuô n vơ i rau răm dưa chua dưa leo châ m nươ c mă m tuyê t",
         "0"
        ],
        [
         "31",
         "quán nhỏ nhưng view nhìn đẹp choco vanila ngon cafe hazenut đắng không có vị của hazenut giá cũng ok có dịp sẽ quay lại",
         "0"
        ],
        [
         "32",
         "ba động là một trong những địa điểm du lịch ở trà vinh bọn mình tới đây cũng nhiều lần vì dân miền tây mà không gian vẫn còn hoang sơ nên khách không nhiều đi chơi theo nhóm cũng thoải mái vì là biển phù sa nên nước đục và không đẹp chi phí ăn uống và sinh hoạt ở đây cũng khá rẻ mình thích nhất là những rặng dương xanh nghi ngút dọc bờ biển lúc chơi mệt có thể vào tránh nắng mà không cần thuê dù bãi biển khi cạn khá rộng nên thích hợp cho những chuyến picnic chơi thể thao nhìn chung thì so sánh về mặt giá cả phong cảnh cũng tạm ổn các bạn nên đến thử 1 lần xem sao",
         "0"
        ],
        [
         "33",
         "ai muô n ti m ra thi dâ n mi nh đi ăn đi",
         "0"
        ],
        [
         "34",
         "mình và bạn nghe đồn quán ngon ai dè khi ra thì quán vắng nằm trog góc hẻm khó kiếm nhìn như mê cung giá đắt so với các quán ốc mình từng ăn chỗ lại bẩn ốc móng tay có mùi tanh kinh khủng như để lâu ngày không gian chật chội mình ngồi còn không dám ngồi phục vụ thì cứ hỏi như ép cung mình ăn thêm quá tệ",
         "0"
        ],
        [
         "35",
         "ở đây là quán ngồi vỉa hè mà giá khá đắt menu không có tính tiền ghi sổ rồi đưa mình check lại bọn mình đi 4 người gọi 1 set nướng đầy đủ không gan và lòng giá 400k đồ ăn ở đây thì bình thường ướp hơi bị mặn kim chi thì muối bị sống ăn bị hăng cải thảo vẫn còn trắng nguyên luôn mình gọi rượu atiso uống thử thì chả thấy vị thơm của atiso đâu chỉ thấy uống chả khác gì rượu bình thường hay uống trà đá thì nhạt như nước lọc ý lúc mình gọi thêm bò nầm nướng thì không thấy có khoai lang cà tím đậu nhật như đĩa đầu gọi hỏi nhân viên thì họ bào hết mà lúc đó mới 8h tối chứ mấy gọi đĩa khoai tây chiên ra trẻ con ăn thì vừa non vừa ỉu nhân viên phục vụ được cái niềm nở nhưng chậm chạp vãi bọn mình đi 4 người ăn hết tổng là 830k",
         "0"
        ],
        [
         "36",
         "quán bé lại còn bị che khuất bở trạm xe bus nên dễ đi qua mà không nhìn thấy sữa chua các loại ăn ngon chứ chè thì chả ra sao kem xôi ăn cũng tạm",
         "0"
        ],
        [
         "37",
         "mấy lần đi qua đều thấy đóng cửa chưa có dịp thử",
         "0"
        ],
        [
         "38",
         "m thích kem xôi ngon vầ rẻ chè bơ thì không ngon như trc nữa sữa chua quá chua như không cho đường",
         "0"
        ],
        [
         "39",
         "ăn ở đây từ tuần khai trương mà thấy bánh vừa đắt vừa không ngon nhạt nhẽo hương vị bình thường combo cũng không rẻ hơn mua lẻ là mấy thấy quảng cáo rầm rộ nên đi ăn mà ăn xong thất vọng tràn trề",
         "0"
        ],
        [
         "40",
         "không gian chật hẹp chỉ có vài cái bàn thôi đồ uống cực dở luôn mình gọi smothie xoài nhg rõ ràng vị xoài là của nước ép xoài đóng hộp chán không thể tả được bạn mình gọi vị chanh leo thì hắc hắc giá bình thường nhg quá đắt so với chất lượng wifi kém lắm nói chung là mình sẽ không bao giờ quay lại",
         "0"
        ],
        [
         "41",
         "ăn bi nh thươ ng hai đư a ăn su i ca o va su i ca o my ta m đươ c vơ i gia 35k qua n dơ i ra mă t tiê n đươ ng ntp nên dê ti m",
         "0"
        ],
        [
         "42",
         "quán này đã dời địa điểm sang 106a phùng văn cung f7 quận phú nhuận rồi nha mọi ng giờ trong địa chỉ cũ vẫn có quán ghi là hải sản bình ba luôn nhưng không ngon nha hải sản không tươi phục vụ chậm giá cao ngồi trong bóng tối nha mọi ng lưu ý tránh chuốc thêm bực bội và ăn không vui nha thanks",
         "0"
        ],
        [
         "43",
         "quán nằm gần trường trấn biên buổi chiều tan học đông cực chả lụi cũng bình thường như những chỗ khác vì lấy chung một chỗ thái độ phục vụ kém cô bán luôn tỏ vẻ khó chịu",
         "0"
        ],
        [
         "44",
         "đa ăn 1 lâ n ơ đây va se ca ch tơ i gia tha i đô phu c u ke m ăn hê t rau hê t tương xin lâ n đâ u tiên pha i đơ i lâu va pha i nhă c tơ i lâ n thư 2 du qua n không đông chu qua n co tha i đô kho chi u nho m 3 ng ăn xong vê tô i bi đau quă n bu ng",
         "0"
        ],
        [
         "45",
         "hôm nay đi qua vào gọi gà luộc ngồi nhâm nhi lon bia một lúc thì thấy bê cơm ra hỏi gà đâu thì một lúc sau mới bảo hết rồi chán cần cải tạo cách phục vụ của nhân viên cho tốt hơn giá cả thì cũng không phải là rẻ gì tuy có niêm yết chi tiết tất nhiên là rẻ hơn hà nội hay hạ long rồi được cái nhà hàng rộng rãi mát mẻ miền núi mà sạch sẽ và tiện đường nhất trên tiên yên nếu các bạn đi đông thì sẽ được ưu tiên phục vụ ăn nhiều nếu không là phải gọi mỏi mồm đấy không có bánh gật gù tại quán như các bạn quảng ninh hay quảng cáo đâu chắc món đấy làm lâu công món khâu nhục không dậy mùi tỏi chưa đạt yêu cầu như thịt ba chỉ kho thường nếu bạn nào ăn ở hoành bồ rồi sẽ so sánh được ngay nói chung là có tiếng do ở tiên yên thôi phía dưới gần lối đi ba chẽ cũng có vài nhà hàng còn lớn hơn nhiều xe đậu thoải mái",
         "0"
        ],
        [
         "46",
         "quán cũng khá nhỏ đồ uống cũng được mèo thấy đồ ăn là sán vô con hết r chúng nó chổng đít quay di max phũ ncl đến nhiều r nhung gio moi review cho quán nclổn",
         "0"
        ],
        [
         "47",
         "đồ uống cũng bình thường như bao quán khác mèo ở đây nó cứ lờ đờ bệnh bệnh thế nào ấy",
         "0"
        ],
        [
         "48",
         "ưu điểm rộng rãi khang trang trang trí theo hơi hướng hàn quốc vì h cgv của hq nên bài trí như vậy cũng không có gì là lạ không gian rộng thôi rồi thiet kế như kiểu 1 khu chờ tàu điện ngầm vậy rộng đến nỗi như kiểu đi mãi không hết ý có hôm tìm phòng chiếu mãi mới thấy vì nó o trong góc nếu mà đến đây để chụp choẹt chắc chụp cả ngày không thấy chán mất thích nhất là khu có ghế sofa ngồi êm mà kể cả ngồi bao lâu cũng chả ai duoi kiểu đến cgv hà đông cảm giác thoải mái lắm ý chả ai quản cảm thấy tự do như ở nhà nhà vệ sinh đẹp các chị em nào mà nghiện tự sướng thì có thể vào tự sướng thoai mái nhé không ai cản đâu cái gương trong wc nữ như kiểu bàn trang điểm ý xinh dã man à ưu điểm nữa là khu để xe rộng rãi bảo vẹ vui tính không mất phí gửi xe nên các bạn yên tâm nhược điểm quá xa trung tâm thành phố mặc dù vé ở đây nhiều lúc rẻ hơn ở các cgv khác nhưng cứ nghĩ đến viec xuống đây xem phim la mình thấy ngại rồi ý ngày thứ 4 vé đồng giá 50k nhé các bạn rẻ hơn cgv khác nên có hôm mình ham hố xuống xem mặc kệ trời nắng gắt thế là vì tiết kiệm 25k mà xem xong về ốm luôn nên nếu ai nhà xa quá thì đừng cố nhé không lại quá cố nhược điểm nữa là nhân viên ở đây làm ăn không chuyên nghiệp nói năng khó nghe kiểu nhân viên nói nhanh không rõ ràng ý hôm đấy mình mua 3 vé xem phim chưa hỏi mình muốn lấy combo bỏng nước không đã tự động cho rồi mình nói mình không mua combo mà sao tự dưng cho thì lại còn mắng lại bảo sao không tự để ý vé thấy rẻ như thế mà không phàn nàn luôn in vé rồi không đổi dc nữa xong cũng hứa hẹn bảo quản lý ra giải quyết rồi cũng mất tăm mất tích luôn may là lúc đấy cũng có khách muốn mua bỏng nên mình thương lượng đc vs ng ta mua hộ cho mình phần combo nhân viên vô trách nhiệm và thái độ thật sự làm minh thấy khó chịu xem mất tiền phải để khách thấy vui vẻ chư nhưng chưa xem đã mất vui rồi không phải mình đánh đồng vs toàn bộ nhân viên của cgv mình nhận xét thẳng thắn luôn nhân viên cgv bên lotte và bên bà triệu mình tháy rất ok phục vụ rất đc chỉ có bên cgv hà đông là như vậy thoi chưa kể dù sao cgv này cũng ở bên hà đông không phải vung trung tâm nên ng xem cũng khá mất lịch sự vào rạp thì nói to nghe đt xong các thứ cảm giác như đang xem ở rạp quốc gia vậy đúng là cái gì rẻ quá cũng không tốt khuyên các bạn muốn đổi gió thì đến đây xem thử 1 2 lần thôi rồi các bạn cũng sẽ cảm nhận giống mình thôi",
         "0"
        ],
        [
         "49",
         "món ăn thì cũng ngon khg có gì đáng nói giá cả bình dân hợp túi tiền quán trong hẻm rộng rãi xe để kế bên cũng an tâm chỉ có là order xong ngồi chờ rã cả họng anh thanh niên đẹp chai mới tàn tàn lại thông báo món này hết ròi kiu order món khác giùm lại 1 khoảng thời gian dài đằng đẵng nữa chờ đợi trong tuyệt vọng tới mức hết chuyện để 8 với nhau mới thấy có món dọn lên ăn ở đây 2 lần lần nào cũng vậy",
         "0"
        ]
       ],
       "shape": {
        "columns": 2,
        "rows": 29737
       }
      },
      "text/html": [
       "<div>\n",
       "<style scoped>\n",
       "    .dataframe tbody tr th:only-of-type {\n",
       "        vertical-align: middle;\n",
       "    }\n",
       "\n",
       "    .dataframe tbody tr th {\n",
       "        vertical-align: top;\n",
       "    }\n",
       "\n",
       "    .dataframe thead th {\n",
       "        text-align: right;\n",
       "    }\n",
       "</style>\n",
       "<table border=\"1\" class=\"dataframe\">\n",
       "  <thead>\n",
       "    <tr style=\"text-align: right;\">\n",
       "      <th></th>\n",
       "      <th>sentence</th>\n",
       "      <th>label</th>\n",
       "    </tr>\n",
       "  </thead>\n",
       "  <tbody>\n",
       "    <tr>\n",
       "      <th>0</th>\n",
       "      <td>mua có mỗi bingsu thập cẩm 45k mà mình f đợi h...</td>\n",
       "      <td>0</td>\n",
       "    </tr>\n",
       "    <tr>\n",
       "      <th>1</th>\n",
       "      <td>thứ 6 nào ta cùng quẩy vuvuzela beer club chun...</td>\n",
       "      <td>0</td>\n",
       "    </tr>\n",
       "    <tr>\n",
       "      <th>2</th>\n",
       "      <td>mình đi với nhóm tổng cộng 4 người ăn chỉ có k...</td>\n",
       "      <td>0</td>\n",
       "    </tr>\n",
       "    <tr>\n",
       "      <th>3</th>\n",
       "      <td>nhân viên phục vụ không mấy tận tình đồ ăn ra ...</td>\n",
       "      <td>0</td>\n",
       "    </tr>\n",
       "    <tr>\n",
       "      <th>4</th>\n",
       "      <td>vào đây thì hết bàn nhưng mình vẫn ngồi đợi bì...</td>\n",
       "      <td>0</td>\n",
       "    </tr>\n",
       "    <tr>\n",
       "      <th>...</th>\n",
       "      <td>...</td>\n",
       "      <td>...</td>\n",
       "    </tr>\n",
       "    <tr>\n",
       "      <th>29732</th>\n",
       "      <td>29 mình đi với nhóm bạn tổng cộng là 8ngthiệt ...</td>\n",
       "      <td>1</td>\n",
       "    </tr>\n",
       "    <tr>\n",
       "      <th>29733</th>\n",
       "      <td>sushi bình dân mà chất lượng không bình dân ch...</td>\n",
       "      <td>1</td>\n",
       "    </tr>\n",
       "    <tr>\n",
       "      <th>29734</th>\n",
       "      <td>trời ơi từ bé đến lớn chưa thử món kem nào bằn...</td>\n",
       "      <td>1</td>\n",
       "    </tr>\n",
       "    <tr>\n",
       "      <th>29735</th>\n",
       "      <td>nge mn cũng ns ngon nên hni đến coi thế nào qu...</td>\n",
       "      <td>1</td>\n",
       "    </tr>\n",
       "    <tr>\n",
       "      <th>29736</th>\n",
       "      <td>ks đẹp thoág mát lại gần vs phố cổ nữa nên rất...</td>\n",
       "      <td>1</td>\n",
       "    </tr>\n",
       "  </tbody>\n",
       "</table>\n",
       "<p>29737 rows × 2 columns</p>\n",
       "</div>"
      ],
      "text/plain": [
       "                                                sentence  label\n",
       "0      mua có mỗi bingsu thập cẩm 45k mà mình f đợi h...      0\n",
       "1      thứ 6 nào ta cùng quẩy vuvuzela beer club chun...      0\n",
       "2      mình đi với nhóm tổng cộng 4 người ăn chỉ có k...      0\n",
       "3      nhân viên phục vụ không mấy tận tình đồ ăn ra ...      0\n",
       "4      vào đây thì hết bàn nhưng mình vẫn ngồi đợi bì...      0\n",
       "...                                                  ...    ...\n",
       "29732  29 mình đi với nhóm bạn tổng cộng là 8ngthiệt ...      1\n",
       "29733  sushi bình dân mà chất lượng không bình dân ch...      1\n",
       "29734  trời ơi từ bé đến lớn chưa thử món kem nào bằn...      1\n",
       "29735  nge mn cũng ns ngon nên hni đến coi thế nào qu...      1\n",
       "29736  ks đẹp thoág mát lại gần vs phố cổ nữa nên rất...      1\n",
       "\n",
       "[29737 rows x 2 columns]"
      ]
     },
     "execution_count": 4,
     "metadata": {},
     "output_type": "execute_result"
    }
   ],
   "source": [
    "train_df"
   ]
  },
  {
   "cell_type": "markdown",
   "id": "8e11e9fd",
   "metadata": {},
   "source": [
    "# **Tokenize**"
   ]
  },
  {
   "cell_type": "code",
   "execution_count": 5,
   "id": "b0bb2b4f",
   "metadata": {},
   "outputs": [],
   "source": [
    "def tokenize_function(texts):\n",
    "    return tokenizer(texts, padding=\"max_length\", truncation=True, max_length=256, return_tensors=\"pt\")\n",
    "\n",
    "# Áp dụng tokenize cho từng tập dữ liệu\n",
    "train_encodings = tokenize_function(train_df['sentence'].tolist())\n",
    "valid_encodings = tokenize_function(valid_df['sentence'].tolist())\n",
    "test_encodings = tokenize_function(test_df['sentence'].tolist())"
   ]
  },
  {
   "cell_type": "markdown",
   "id": "48ac219c",
   "metadata": {},
   "source": [
    "# **Prepare dataset**"
   ]
  },
  {
   "cell_type": "code",
   "execution_count": 6,
   "id": "cda89da9",
   "metadata": {},
   "outputs": [],
   "source": [
    "class SentimentDataset(Dataset):\n",
    "    def __init__(self, encodings, labels):\n",
    "        self.encodings = encodings\n",
    "        self.labels = labels\n",
    "\n",
    "    def __getitem__(self, idx):\n",
    "        item = {key: val[idx] for key, val in self.encodings.items()}\n",
    "        item['labels'] = torch.tensor(self.labels[idx])\n",
    "        return item\n",
    "\n",
    "    def __len__(self):\n",
    "        return len(self.labels)"
   ]
  },
  {
   "cell_type": "code",
   "execution_count": 7,
   "id": "c16af337",
   "metadata": {},
   "outputs": [],
   "source": [
    "train_dataset = SentimentDataset(train_encodings, train_df['label'].tolist())\n",
    "valid_dataset = SentimentDataset(valid_encodings, valid_df['label'].tolist())\n",
    "test_dataset = SentimentDataset(test_encodings, test_df['label'].tolist())"
   ]
  },
  {
   "cell_type": "markdown",
   "id": "58be9db0",
   "metadata": {},
   "source": [
    "# **Config train**"
   ]
  },
  {
   "cell_type": "code",
   "execution_count": 8,
   "id": "f9c9fca9",
   "metadata": {},
   "outputs": [],
   "source": [
    "train_loader = DataLoader(train_dataset, batch_size=16, shuffle=True)\n",
    "valid_loader = DataLoader(valid_dataset, batch_size=16, shuffle=False)\n",
    "test_loader = DataLoader(test_dataset, batch_size=16, shuffle=False)"
   ]
  },
  {
   "cell_type": "code",
   "execution_count": 9,
   "id": "4ed8bd11",
   "metadata": {},
   "outputs": [],
   "source": [
    "optimizer = AdamW(model.parameters(), lr=2e-5)\n",
    "scheduler = get_linear_schedule_with_warmup(optimizer, num_warmup_steps=0, num_training_steps=len(train_loader) * 3)  # 3 epochs"
   ]
  },
  {
   "cell_type": "markdown",
   "id": "2ad919b3",
   "metadata": {},
   "source": [
    "# **Training**"
   ]
  },
  {
   "cell_type": "code",
   "execution_count": 10,
   "id": "f39ecf37",
   "metadata": {},
   "outputs": [
    {
     "name": "stdout",
     "output_type": "stream",
     "text": [
      "cuda\n"
     ]
    },
    {
     "data": {
      "text/plain": [
       "RobertaForSequenceClassification(\n",
       "  (roberta): RobertaModel(\n",
       "    (embeddings): RobertaEmbeddings(\n",
       "      (word_embeddings): Embedding(64001, 768, padding_idx=1)\n",
       "      (position_embeddings): Embedding(258, 768, padding_idx=1)\n",
       "      (token_type_embeddings): Embedding(1, 768)\n",
       "      (LayerNorm): LayerNorm((768,), eps=1e-05, elementwise_affine=True)\n",
       "      (dropout): Dropout(p=0.1, inplace=False)\n",
       "    )\n",
       "    (encoder): RobertaEncoder(\n",
       "      (layer): ModuleList(\n",
       "        (0-11): 12 x RobertaLayer(\n",
       "          (attention): RobertaAttention(\n",
       "            (self): RobertaSdpaSelfAttention(\n",
       "              (query): Linear(in_features=768, out_features=768, bias=True)\n",
       "              (key): Linear(in_features=768, out_features=768, bias=True)\n",
       "              (value): Linear(in_features=768, out_features=768, bias=True)\n",
       "              (dropout): Dropout(p=0.1, inplace=False)\n",
       "            )\n",
       "            (output): RobertaSelfOutput(\n",
       "              (dense): Linear(in_features=768, out_features=768, bias=True)\n",
       "              (LayerNorm): LayerNorm((768,), eps=1e-05, elementwise_affine=True)\n",
       "              (dropout): Dropout(p=0.1, inplace=False)\n",
       "            )\n",
       "          )\n",
       "          (intermediate): RobertaIntermediate(\n",
       "            (dense): Linear(in_features=768, out_features=3072, bias=True)\n",
       "            (intermediate_act_fn): GELUActivation()\n",
       "          )\n",
       "          (output): RobertaOutput(\n",
       "            (dense): Linear(in_features=3072, out_features=768, bias=True)\n",
       "            (LayerNorm): LayerNorm((768,), eps=1e-05, elementwise_affine=True)\n",
       "            (dropout): Dropout(p=0.1, inplace=False)\n",
       "          )\n",
       "        )\n",
       "      )\n",
       "    )\n",
       "  )\n",
       "  (classifier): RobertaClassificationHead(\n",
       "    (dense): Linear(in_features=768, out_features=768, bias=True)\n",
       "    (dropout): Dropout(p=0.1, inplace=False)\n",
       "    (out_proj): Linear(in_features=768, out_features=2, bias=True)\n",
       "  )\n",
       ")"
      ]
     },
     "execution_count": 10,
     "metadata": {},
     "output_type": "execute_result"
    }
   ],
   "source": [
    "device = torch.device(\"cuda\" if torch.cuda.is_available() else \"cpu\")\n",
    "# device = torch.device(\"cpu\")\n",
    "print(device)\n",
    "model.to(device)"
   ]
  },
  {
   "cell_type": "code",
   "execution_count": 11,
   "id": "7239380e",
   "metadata": {},
   "outputs": [
    {
     "name": "stderr",
     "output_type": "stream",
     "text": [
      "Epoch 1 - Training: 100%|██████████| 1859/1859 [3:59:31<00:00,  7.73s/it]  \n"
     ]
    },
    {
     "name": "stdout",
     "output_type": "stream",
     "text": [
      "Epoch 1, Train Loss: 0.27086874918892956\n",
      "Epoch 1, Valid Loss: 0.23850308386114052, Accuracy: 0.9098881161173269\n"
     ]
    },
    {
     "name": "stderr",
     "output_type": "stream",
     "text": [
      "Epoch 2 - Training: 100%|██████████| 1859/1859 [3:56:55<00:00,  7.65s/it]  \n"
     ]
    },
    {
     "name": "stdout",
     "output_type": "stream",
     "text": [
      "Epoch 2, Train Loss: 0.2024893018117975\n",
      "Epoch 2, Valid Loss: 0.2223603077451796, Accuracy: 0.916339078721903\n"
     ]
    },
    {
     "name": "stderr",
     "output_type": "stream",
     "text": [
      "Epoch 3 - Training: 100%|██████████| 1859/1859 [3:58:48<00:00,  7.71s/it]  \n"
     ]
    },
    {
     "name": "stdout",
     "output_type": "stream",
     "text": [
      "Epoch 3, Train Loss: 0.16488044571798774\n",
      "Epoch 3, Valid Loss: 0.22308049015378378, Accuracy: 0.9188589859893156\n"
     ]
    }
   ],
   "source": [
    "from tqdm import tqdm\n",
    "\n",
    "num_epochs = 3\n",
    "\n",
    "for epoch in range(num_epochs):\n",
    "    # Huấn luyện\n",
    "    model.train()\n",
    "    train_loss = 0\n",
    "    for batch in tqdm(train_loader, desc=f\"Epoch {epoch+1} - Training\"):\n",
    "        optimizer.zero_grad()\n",
    "        inputs = {k: v.to(device) for k, v in batch.items() if k != 'labels'}\n",
    "        labels = batch['labels'].to(device)\n",
    "        outputs = model(**inputs, labels=labels)\n",
    "        loss = outputs.loss\n",
    "        loss.backward()\n",
    "        optimizer.step()\n",
    "        scheduler.step()\n",
    "        train_loss += loss.item()\n",
    "\n",
    "    print(f\"Epoch {epoch+1}, Train Loss: {train_loss / len(train_loader)}\")\n",
    "\n",
    "# for epoch in range(num_epochs):\n",
    "#     model.train()\n",
    "#     train_loss = 0\n",
    "#     for i, batch in enumerate(tqdm(train_loader, desc=f\"Epoch {epoch+1} - Training\")):\n",
    "#         optimizer.zero_grad()\n",
    "#         inputs = {k: v.to(device) for k, v in batch.items() if k != 'labels'}\n",
    "#         labels = batch['labels'].to(device)\n",
    "#         # Kiểm tra input_ids\n",
    "#         max_id = inputs['input_ids'].max().item()\n",
    "#         if max_id >= 64001:\n",
    "#             print(f\"Lỗi trong batch {i}: max input_id = {max_id}\")\n",
    "#             print(f\"input_ids: {inputs['input_ids']}\")\n",
    "#             raise ValueError(\"Tìm thấy input_id không hợp lệ\")\n",
    "#         if 'position_ids' in inputs:\n",
    "#             max_pos_id = inputs['position_ids'].max().item()\n",
    "#             if max_pos_id >= 512:  # PhoBERT max_position_embeddings thường là 512\n",
    "#                 print(f\"Lỗi trong batch {i}: max position_id = {max_pos_id}\")\n",
    "#                 print(f\"position_ids: {inputs['position_ids']}\")\n",
    "#                 raise ValueError(\"Tìm thấy position_id không hợp lệ\")\n",
    "#         outputs = model(**inputs, labels=labels)\n",
    "#         loss = outputs.loss\n",
    "#         loss.backward()\n",
    "#         optimizer.step()\n",
    "#         scheduler.step()\n",
    "#         train_loss += loss.item()\n",
    "#     print(f\"Epoch {epoch+1}, Train Loss: {train_loss / len(train_loader)}\")\n",
    "    \n",
    "    # Đánh giá trên tập valid\n",
    "    model.eval()\n",
    "    valid_loss = 0\n",
    "    correct = 0\n",
    "    total = 0\n",
    "    with torch.no_grad():\n",
    "        for batch in valid_loader:\n",
    "            inputs = {k: v.to(device) for k, v in batch.items() if k != 'labels'}\n",
    "            labels = batch['labels'].to(device)\n",
    "            outputs = model(**inputs, labels=labels)\n",
    "            loss = outputs.loss\n",
    "            valid_loss += loss.item()o\n",
    "            _, predicted = torch.max(outputs.logits, 1)\n",
    "            total += labels.size(0)\n",
    "            correct += (predicted == labels).sum().item()\n",
    "\n",
    "    accuracy = correct / total\n",
    "    print(f\"Epoch {epoch+1}, Valid Loss: {valid_loss / len(valid_loader)}, Accuracy: {accuracy}\")"
   ]
  },
  {
   "cell_type": "markdown",
   "id": "f70ead04",
   "metadata": {},
   "source": [
    "# **Evaluate**"
   ]
  },
  {
   "cell_type": "code",
   "execution_count": 12,
   "id": "04a58628",
   "metadata": {},
   "outputs": [
    {
     "name": "stdout",
     "output_type": "stream",
     "text": [
      "Test Accuracy: 0.9188589859893156\n"
     ]
    }
   ],
   "source": [
    "model.eval()\n",
    "test_correct = 0\n",
    "test_total = 0\n",
    "with torch.no_grad():\n",
    "    for batch in test_loader:\n",
    "        inputs = {k: v.to(device) for k, v in batch.items() if k != 'labels'}\n",
    "        labels = batch['labels'].to(device)\n",
    "        outputs = model(**inputs)\n",
    "        _, predicted = torch.max(outputs.logits, 1)\n",
    "        test_total += labels.size(0)\n",
    "        test_correct += (predicted == labels).sum().item()\n",
    "\n",
    "test_accuracy = test_correct / test_total\n",
    "print(f\"Test Accuracy: {test_accuracy}\")"
   ]
  },
  {
   "cell_type": "code",
   "execution_count": 13,
   "id": "2814894a",
   "metadata": {},
   "outputs": [
    {
     "data": {
      "text/plain": [
       "('./modelTransformer/tokenizer_config.json',\n",
       " './modelTransformer/special_tokens_map.json',\n",
       " './modelTransformer/vocab.txt',\n",
       " './modelTransformer/bpe.codes',\n",
       " './modelTransformer/added_tokens.json')"
      ]
     },
     "execution_count": 13,
     "metadata": {},
     "output_type": "execute_result"
    }
   ],
   "source": [
    "model.save_pretrained(\"./modelTransformer/\")\n",
    "tokenizer.save_pretrained(\"./modelTransformer/\")"
   ]
  },
  {
   "cell_type": "code",
   "execution_count": 14,
   "id": "44dd164f",
   "metadata": {},
   "outputs": [],
   "source": [
    "model = AutoModelForSequenceClassification.from_pretrained(\"./modelTransformer/\")\n",
    "tokenizer = AutoTokenizer.from_pretrained(\"./modelTransformer/\")"
   ]
  }
 ],
 "metadata": {
  "kernelspec": {
   "display_name": "Python 3",
   "language": "python",
   "name": "python3"
  },
  "language_info": {
   "codemirror_mode": {
    "name": "ipython",
    "version": 3
   },
   "file_extension": ".py",
   "mimetype": "text/x-python",
   "name": "python",
   "nbconvert_exporter": "python",
   "pygments_lexer": "ipython3",
   "version": "3.12.0"
  }
 },
 "nbformat": 4,
 "nbformat_minor": 5
}
